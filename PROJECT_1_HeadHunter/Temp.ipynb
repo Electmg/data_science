{
 "cells": [
  {
   "cell_type": "markdown",
   "id": "b87fd3b1",
   "metadata": {},
   "source": [
    "**Задание 3.4**"
   ]
  },
  {
   "cell_type": "code",
   "execution_count": null,
   "id": "54e65091",
   "metadata": {},
   "outputs": [],
   "source": [
    "def get_ready_to_move(arg):\n",
    "    if ('не готов к переезду' in arg) or ('не готова к переезду' in arg):\n",
    "        return False\n",
    "    elif 'хочу' in arg:\n",
    "        return True\n",
    "    else:\n",
    "        return True\n",
    "    \n",
    "def get_ready_for_bisiness_trips(arg):\n",
    "    if ('командировка' in arg):\n",
    "        if ('не готов к командировкам' in arg) or('не готова к командировкам' in arg):\n",
    "            return False\n",
    "        else: \n",
    "            \n",
    "            return True\n",
    "    else:\n",
    "        return False"
   ]
  },
  {
   "cell_type": "code",
   "execution_count": null,
   "id": "9f8cd322",
   "metadata": {},
   "outputs": [],
   "source": [
    "def get_employment(employment):\n",
    "    employment = str(employment)\n",
    "    employment_splited = employment.split(',')\n",
    "    for i in employment_list:\n",
    "        if i in employment_splited:\n",
    "            return HeadHunter_data_df_temp[i] is True\n",
    "        else:\n",
    "            return HeadHunter_data_df_temp[i] is False\n",
    "    "
   ]
  },
  {
   "cell_type": "code",
   "execution_count": null,
   "id": "09bde440",
   "metadata": {},
   "outputs": [],
   "source": [
    "HeadHunter_data_df['полная занятость'] = HeadHunter_data_df['temp_sum'].apply(lambda x: True if 'полная занятость' in x else False)\n",
    "HeadHunter_data_df['частичная занятость'] = HeadHunter_data_df['temp_sum'].apply(lambda x: True if 'частичная занятость' in x else False)\n",
    "HeadHunter_data_df['проектная работа'] = HeadHunter_data_df['temp_sum'].apply(lambda x: True if 'проектная работа' in x else False)\n",
    "HeadHunter_data_df['стажировка'] = HeadHunter_data_df['temp_sum'].apply(lambda x: True if 'стажировка' in x else False)\n",
    "HeadHunter_data_df['волонтерство'] = HeadHunter_data_df['temp_sum'].apply(lambda x: True if 'волонтерство' in x else False)\n"
   ]
  },
  {
   "cell_type": "markdown",
   "id": "2ae337e0",
   "metadata": {},
   "source": [
    "Задание 3.6"
   ]
  },
  {
   "cell_type": "code",
   "execution_count": null,
   "id": "4a114318",
   "metadata": {},
   "outputs": [],
   "source": [
    "income = HeadHunter_data_df.copy()\n",
    "\n",
    "ExchangeRates = pd.read_csv('data/ExchangeRates.csv')\n",
    "ExchangeRates['date'] = pd.to_datetime(ExchangeRates['date'], dayfirst=True)\n",
    "ExchangeRates.drop(['per','time','vol'],axis=1, inplace=True)\n",
    "\n",
    "income['Обновление резюме'] = pd.to_datetime(income['Обновление резюме']).dt.date\n",
    "income['Обновление резюме'] = pd.to_datetime(income['Обновление резюме'])\n",
    "income['Сумма зарплаты'] =  income['ЗП'].apply(lambda x: x.split(' ')[0])\n",
    "income['Наименование валюты'] = income['ЗП'].apply(lambda x: x.split(' ')[1])\n",
    "\n",
    "def get_currency(arg):\n",
    "    currency_dict = {\n",
    "        'USD': 'USD', 'KZT': 'KZT',\n",
    "        'грн': 'UAH', 'белруб': 'BYN',\n",
    "        'EUR': 'EUR', 'KGS': 'KGS',\n",
    "        'сум': 'UZS', 'AZN': 'AZN'\n",
    "    }\n",
    "    curr = arg.replace('.', '')\n",
    "    if curr == 'руб':\n",
    "        return 'RUB'\n",
    "    else:\n",
    "        return currency_dict[curr]\n",
    "\n",
    "income['Наименование валюты'] = income['Наименование валюты'].apply(get_currency)\n",
    "\n",
    "merged = income.merge(\n",
    "    ExchangeRates,\n",
    "    left_on=['Обновление резюме', 'Наименование валюты'],\n",
    "    right_on=['date','currency'],\n",
    "    how='left'\n",
    ")\n",
    "\n",
    "\n",
    "merged['close'] = merged['close'].fillna(1)\n",
    "merged['proportion'] = merged['proportion'].fillna(1)\n",
    "merged['Сумма зарплаты'] = merged['Сумма зарплаты'].astype('float')\n",
    "merged['ЗП (руб)'] = merged['Сумма зарплаты']*merged['close']/merged['proportion']\n",
    "merged['ЗП (руб)'].median()"
   ]
  },
  {
   "cell_type": "markdown",
   "id": "f7028082",
   "metadata": {},
   "source": [
    "Задание 4.5"
   ]
  },
  {
   "cell_type": "code",
   "execution_count": null,
   "id": "2d5a860b",
   "metadata": {},
   "outputs": [],
   "source": [
    "box_data = HeadHunter_data_df[HeadHunter_data_df['ЗП (руб)']<1e6]\n",
    "fig = px.box(\n",
    "    data_frame=box_data,\n",
    "    x='Город',\n",
    "    y='ЗП (руб)',\n",
    "    color='Город',\n",
    "    title='Распределение з/п по городам'\n",
    ")\n",
    "fig.show()"
   ]
  },
  {
   "cell_type": "markdown",
   "id": "9a375ea2",
   "metadata": {},
   "source": [
    "Задание 4.7"
   ]
  },
  {
   "cell_type": "code",
   "execution_count": null,
   "id": "5d0d4bf9",
   "metadata": {},
   "outputs": [],
   "source": [
    "groped_age_education = HeadHunter_data_df.groupby(['Возраст', 'Образование'])['ЗП (руб)'].median().unstack()\n",
    "\n",
    "heatmap=sns.heatmap(groped_age_education, cmap=\"YlGnBu\", linewidth=0.5, linecolor='w')"
   ]
  },
  {
   "cell_type": "markdown",
   "id": "fc3bbe02",
   "metadata": {},
   "source": [
    "Цикл, чтобы пройтись по всем значениям DataFrame"
   ]
  },
  {
   "cell_type": "code",
   "execution_count": null,
   "id": "8bafd8e4",
   "metadata": {},
   "outputs": [],
   "source": [
    "for i in range(HeadHunter_isnull.shape[0]):\n",
    "    for j in range(HeadHunter_isnull.shape[1]):\n",
    "        value = HeadHunter_isnull.at[i,j]\n",
    "        print(value)\n"
   ]
  },
  {
   "cell_type": "markdown",
   "id": "f98664b1",
   "metadata": {},
   "source": [
    "Задание 5.3"
   ]
  },
  {
   "cell_type": "code",
   "execution_count": null,
   "id": "b840abb9",
   "metadata": {},
   "outputs": [],
   "source": [
    "fill_data = HeadHunter_dedupped.copy()\n",
    "\n",
    "values = {\n",
    "    'Ищет работу на должность':fill_data['Ищет работу на должность:'],\n",
    "    'Последнее/нынешнее место работы':fill_data['Последнее/нынешнее место работы'],\n",
    "    'Последняя/нынешняя должность':fill_data['Последняя/нынешняя должность'],\n",
    "    'Обновление резюме':fill_data['Обновление резюме'],\n",
    "    'Авто':fill_data['Авто'],\n",
    "    'Образование':fill_data['Образование'],\n",
    "    'Пол':fill_data['Пол'],\n",
    "    'Возраст':fill_data['Возраст'],\n",
    "    'Опыт работы (месяц)':fill_data['Опыт работы (месяц)'].median(),\n",
    "    'Город':fill_data['Город'],\n",
    "    'Готовность к переезду':fill_data['Готовность к переезду'],\n",
    "    'Готовность к командировкам':fill_data['Готовность к командировкам'],\n",
    "    'полная занятость':fill_data['полная занятость'],\n",
    "    'частичная занятость':fill_data['частичная занятость'],\n",
    "    'проектная работа':fill_data['проектная работа'],\n",
    "    'стажировка':fill_data['стажировка'],\n",
    "    'волонтерство':fill_data['волонтерство'],\n",
    "    'полный день':fill_data['полный день'],\n",
    "    'сменный график':fill_data['сменный график'],\n",
    "    'гибкий график':fill_data['гибкий график'],\n",
    "    'удаленная работа':fill_data['удаленная работа'],\n",
    "    'вахтовый метод':fill_data['вахтовый метод'],\n",
    "    'ЗП (руб)':fill_data['ЗП (руб)']\n",
    "}\n",
    "fill_data = fill_data.fillna(values)\n",
    "drop_data = fill_data.copy()\n",
    "drop_data = drop_data.dropna(how='any', axis=0)\n",
    "print(drop_data.isnull().mean())\n",
    "print(drop_data.shape)"
   ]
  }
 ],
 "metadata": {
  "kernelspec": {
   "display_name": "Python 3 (ipykernel)",
   "language": "python",
   "name": "python3"
  },
  "language_info": {
   "codemirror_mode": {
    "name": "ipython",
    "version": 3
   },
   "file_extension": ".py",
   "mimetype": "text/x-python",
   "name": "python",
   "nbconvert_exporter": "python",
   "pygments_lexer": "ipython3",
   "version": "3.9.10"
  }
 },
 "nbformat": 4,
 "nbformat_minor": 5
}
