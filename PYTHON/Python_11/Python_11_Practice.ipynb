{
 "cells": [
  {
   "cell_type": "markdown",
   "id": "2c9f941f",
   "metadata": {},
   "source": [
    "**ЗАДАНИЕ 2.3**\n",
    "Напишите функцию delete_columns(df, col=[]), которая удаляет столбцы из DataFrame и возвращает новую таблицу. Если одного из указанных столбцов не существует в таблице, то функция должна возвращать None. Удалите выбранные вами столбцы из таблицы customer_df."
   ]
  },
  {
   "cell_type": "code",
   "execution_count": 11,
   "id": "bb39be9a",
   "metadata": {},
   "outputs": [
    {
     "name": "stdout",
     "output_type": "stream",
     "text": [
      "None\n"
     ]
    }
   ],
   "source": [
    "import pandas as pd\n",
    "\n",
    "def delete_columns(df, col=[]):\n",
    "    try:\n",
    "        df = df.drop(col, axis=1)\n",
    "        return df\n",
    "    except KeyError as e:\n",
    "        return None\n",
    "    \n",
    "    \n",
    "if __name__ == '__main__':\n",
    "    customer_df = pd.DataFrame({\n",
    "        'number': [0, 1, 2, 3, 4],\n",
    "        'cust_id': [128, 1201, 9832, 4392, 7472],\n",
    "        'cust_age': [13, 21, 19, 21, 60],\n",
    "        'cust_sale': [0, 0, 0.2, 0.15, 0.3],\n",
    "        'cust_year_birth': [2008, 2000, 2002, 2000, 1961],\n",
    "        'cust_order': [1400, 14142, 900, 1240, 8430]\n",
    "    })\n",
    "    columns_for_delete= [\"num\"] #выбранные вами столбцы\n",
    "    new_df = delete_columns(customer_df, columns_for_delete)\n",
    "    print(new_df)"
   ]
  },
  {
   "cell_type": "markdown",
   "id": "8d331415",
   "metadata": {},
   "source": [
    "**Задание 2.4**<br>\n",
    "Задан DataFrame countries_df, содержащий следующие столбцы: название страны, население (population) в миллионах человек и площадь страны (square) в квадратных километрах<br>\n",
    "Для каждой страны рассчитайте плотность населения (количество человек на квадратный километр).<br>\n",
    "Затем по полученным данным рассчитайте среднее по плотностям населения в указанных странах. Ответ округлите до сотых.<br>\n",
    "Плотность населения рассчитывается как количество человек, проживающих на территории отдельной страны, делённое на площадь этой страны. Обратите внимание, что население в таблице представлено в миллионах.<br>"
   ]
  },
  {
   "cell_type": "code",
   "execution_count": 23,
   "id": "2e8780af",
   "metadata": {
    "collapsed": true
   },
   "outputs": [
    {
     "data": {
      "text/plain": [
       "84.93"
      ]
     },
     "execution_count": 23,
     "metadata": {},
     "output_type": "execute_result"
    }
   ],
   "source": [
    "countries_df = pd.DataFrame({\n",
    "    'country': ['Англия', 'Канада', 'США', 'Россия', 'Украина', 'Беларусь', 'Казахстан'],\n",
    "    'population': [56.29, 38.05, 322.28, 146.24, 45.5, 9.5, 17.04],\n",
    "    'square': [133396, 9984670, 9826630, 17125191, 603628, 207600, 2724902]\n",
    "})\n",
    "countries_df[\"Dencity\"] = ((countries_df['population'])*10**6)/countries_df['square']\n",
    "round((countries_df[\"Dencity\"].mean()), 2)"
   ]
  },
  {
   "cell_type": "markdown",
   "id": "22560664",
   "metadata": {},
   "source": [
    "**Задание 3.3**<br>\n",
    "Создайте в таблице melb_df признак WeekdaySale (день недели). Найдите, сколько объектов недвижимости было продано в выходные (суббота и воскресенье), результат занесите в переменную weekend_count. В качестве ответа введите результат вывода переменной weekend_count."
   ]
  },
  {
   "cell_type": "code",
   "execution_count": 43,
   "id": "72eb2f98",
   "metadata": {
    "collapsed": true
   },
   "outputs": [
    {
     "data": {
      "text/plain": [
       "12822"
      ]
     },
     "metadata": {},
     "output_type": "display_data"
    },
    {
     "name": "stdout",
     "output_type": "stream",
     "text": [
      "<class 'pandas.core.frame.DataFrame'>\n",
      "RangeIndex: 13580 entries, 0 to 13579\n",
      "Data columns (total 24 columns):\n",
      " #   Column         Non-Null Count  Dtype         \n",
      "---  ------         --------------  -----         \n",
      " 0   index          13580 non-null  int64         \n",
      " 1   Suburb         13580 non-null  object        \n",
      " 2   Address        13580 non-null  object        \n",
      " 3   Rooms          13580 non-null  int64         \n",
      " 4   Type           13580 non-null  object        \n",
      " 5   Price          13580 non-null  float64       \n",
      " 6   Method         13580 non-null  object        \n",
      " 7   SellerG        13580 non-null  object        \n",
      " 8   Date           13580 non-null  datetime64[ns]\n",
      " 9   Distance       13580 non-null  float64       \n",
      " 10  Postcode       13580 non-null  int64         \n",
      " 11  Bedroom        13580 non-null  float64       \n",
      " 12  Bathroom       13580 non-null  float64       \n",
      " 13  Car            13580 non-null  float64       \n",
      " 14  Landsize       13580 non-null  float64       \n",
      " 15  BuildingArea   13580 non-null  float64       \n",
      " 16  YearBuilt      13580 non-null  float64       \n",
      " 17  CouncilArea    12211 non-null  object        \n",
      " 18  Lattitude      13580 non-null  float64       \n",
      " 19  Longtitude     13580 non-null  float64       \n",
      " 20  Regionname     13580 non-null  object        \n",
      " 21  Propertycount  13580 non-null  float64       \n",
      " 22  Coordinates    13580 non-null  object        \n",
      " 23  WeekdaySale    13580 non-null  int64         \n",
      "dtypes: datetime64[ns](1), float64(11), int64(4), object(8)\n",
      "memory usage: 2.5+ MB\n"
     ]
    }
   ],
   "source": [
    "import pandas as pd\n",
    "\n",
    "melb_data = pd.read_csv('C:\\Курс DS-3.0\\IDE\\Python_10\\data\\melb_data.csv', sep=',')\n",
    "melb_df = melb_data.copy()\n",
    "melb_df[\"Date\"] = pd.to_datetime(melb_df[\"Date\"], dayfirst=True)\n",
    "melb_df[\"WeekdaySale\"] = melb_df[\"Date\"].dt.dayofweek\n",
    "weekend_count = melb_df[(melb_df[\"WeekdaySale\"]==5) | (melb_df[\"WeekdaySale\"]==6)].shape[0]\n",
    "display(weekend_count)\n",
    "melb_df.info()"
   ]
  },
  {
   "cell_type": "code",
   "execution_count": 4,
   "id": "6e8b2ba9",
   "metadata": {
    "scrolled": true
   },
   "outputs": [
    {
     "data": {
      "text/plain": [
       "0           Abbotsford\n",
       "1           Abbotsford\n",
       "2           Abbotsford\n",
       "3           Abbotsford\n",
       "4           Abbotsford\n",
       "             ...      \n",
       "13575    Wheelers Hill\n",
       "13576     Williamstown\n",
       "13577     Williamstown\n",
       "13578     Williamstown\n",
       "13579       Yarraville\n",
       "Name: Suburb, Length: 13580, dtype: object"
      ]
     },
     "execution_count": 4,
     "metadata": {},
     "output_type": "execute_result"
    }
   ],
   "source": [
    "melb_df['Suburb']"
   ]
  },
  {
   "cell_type": "markdown",
   "id": "0490e0f1",
   "metadata": {},
   "source": [
    "**Задание 3.4**<br>\n",
    "###### $\\color{red}{\\text{Задание 3.5}}$\n",
    "Вам представлены данные (в формате csv) об отчётах очевидцев НЛО в США за период с 1930 по 2020 год.<br>\n",
    "В данных есть следующие признаки:<br>\n",
    "\"City\" — город, где был замечен НЛО;<br>\n",
    "\"Colors Reported\" — цвет объекта;<br>\n",
    "\"Shape Reported\" — форма объекта;<br>\n",
    "\"State\" — обозначение штата;<br>\n",
    "\"Time\" — время, когда был замечен НЛО (данные отсортированы от старых наблюдений к новым). <br>"
   ]
  },
  {
   "cell_type": "code",
   "execution_count": 74,
   "id": "4389bf33",
   "metadata": {
    "scrolled": true
   },
   "outputs": [
    {
     "name": "stdout",
     "output_type": "stream",
     "text": [
      "1999\n"
     ]
    }
   ],
   "source": [
    "#В каком году отмечается наибольшее количество случаев наблюдения НЛО в США?\n",
    "import pandas as pd\n",
    "\n",
    "nlo_USA_statistic = pd.read_csv('https://raw.githubusercontent.com/justmarkham/pandas-videos/master/data/ufo.csv', sep=',')\n",
    "nlo_USA_statistic_new = nlo_USA_statistic.copy()\n",
    "nlo_USA_statistic_new[\"Time\"] = pd.to_datetime(nlo_USA_statistic_new[\"Time\"], dayfirst=True)\n",
    "years_nlo = nlo_USA_statistic_new[\"Time\"].dt.year\n",
    "print(years_nlo.mode()[0])"
   ]
  },
  {
   "cell_type": "code",
   "execution_count": 84,
   "id": "aaeeb17f",
   "metadata": {},
   "outputs": [
    {
     "data": {
      "text/plain": [
       "69"
      ]
     },
     "execution_count": 84,
     "metadata": {},
     "output_type": "execute_result"
    }
   ],
   "source": [
    "#Найдите средний интервал времени (в днях) между двумя последовательными случаями наблюдения НЛО \n",
    "#в штате Невада (NV).\n",
    "nlo_USA_statistic_new[\"Date\"] = nlo_USA_statistic_new[\"Time\"].dt.date\n",
    "round(nlo_USA_statistic_new[nlo_USA_statistic_new[\"State\"]==\"NV\"][\"Date\"].diff().dt.days.mean())"
   ]
  },
  {
   "cell_type": "markdown",
   "id": "561519eb",
   "metadata": {},
   "source": [
    "**Задание 4.2**\n",
    "\n",
    "Ранее, в задании 3.3, мы создали признак WeekdaySale в таблице melb_df — день недели продажи. Из полученных в задании результатов можно сделать вывод, что объекты недвижимости в Мельбурне продаются преимущественно по выходным (суббота и воскресенье).\n",
    "Напишите функцию get_weekend(weekday), которая принимает на вход элемент столбца WeekdaySale и возвращает 1, если день является выходным, и 0 — в противном случае, и создайте столбец Weekend в таблице melb_df с помощью неё.\n",
    "\n",
    "Примените эту функцию к столбцу и вычислите среднюю цену объекта недвижимости, проданного в выходные дни. Результат округлите до целых."
   ]
  },
  {
   "cell_type": "code",
   "execution_count": 97,
   "id": "10013766",
   "metadata": {},
   "outputs": [
    {
     "name": "stdout",
     "output_type": "stream",
     "text": [
      "1081198.64\n"
     ]
    }
   ],
   "source": [
    "def get_weekend(weekday):\n",
    "    if weekday == 5 or weekday == 6:\n",
    "        return 1\n",
    "    else:\n",
    "        return 0\n",
    "melb_df[\"Weekend\"] = melb_df['WeekdaySale'].apply(get_weekend)\n",
    "melb_df[\"Weekend\"]\n",
    "print(round(melb_df[melb_df[\"Weekend\"]== 1][\"Price\"].mean(), 2))"
   ]
  },
  {
   "cell_type": "markdown",
   "id": "fd072485",
   "metadata": {},
   "source": [
    "**Задание 4.3**\n",
    "\n",
    "Преобразуйте столбец SellerG с наименованиями риелторских компаний в таблице melb_df следующим образом: оставьте в столбце только 49 самых популярных компаний, а остальные обозначьте как 'other'.\n",
    "Найдите, во сколько раз минимальная цена объектов недвижимости, проданных компанией 'Nelson', больше минимальной цены объектов, проданных компаниями, обозначенными как 'other'. Ответ округлите до десятых."
   ]
  },
  {
   "cell_type": "code",
   "execution_count": 127,
   "id": "da89c64b",
   "metadata": {},
   "outputs": [
    {
     "name": "stdout",
     "output_type": "stream",
     "text": [
      "1.3\n"
     ]
    }
   ],
   "source": [
    "SellerG_popular = melb_df[\"SellerG\"].value_counts().nlargest(49)\n",
    "\n",
    "melb_df[\"SellerG_popular\"] = melb_df[\"SellerG\"].apply(lambda x: x if x in SellerG_popular else \"other\")\n",
    "\n",
    "Nelson_min_price = melb_df[melb_df[\"SellerG_popular\"] == \"Nelson\"][\"Price\"].min()\n",
    "other_min_price = melb_df[melb_df[\"SellerG_popular\"] == \"other\"][\"Price\"].min()\n",
    "print(round((Nelson_min_price/other_min_price), 1))"
   ]
  },
  {
   "cell_type": "markdown",
   "id": "1e1774f9",
   "metadata": {},
   "source": [
    "**Задание 4.4**\n",
    "\n",
    "Представьте, что вы занимаетесь подготовкой данных о вакансиях с платформы hh.ru. В вашем распоряжении имеется таблица, в которой с помощью парсинга собраны резюме кандидатов. В этой таблице есть текстовый столбец «Опыт работы». Пример такого столбца представлен ниже в виде объекта Series. Структура текста в столбце фиксирована и не может измениться.\n",
    "\n",
    "Напишите функцию get_experience(arg), аргументом которой является строка столбца с опытом работы. Функция должна возвращать опыт работы в месяцах. Не забудьте привести результат к целому числу."
   ]
  },
  {
   "cell_type": "code",
   "execution_count": 140,
   "id": "02fa747a",
   "metadata": {
    "collapsed": true
   },
   "outputs": [
    {
     "name": "stdout",
     "output_type": "stream",
     "text": [
      "0    99\n",
      "1    41\n",
      "2    21\n",
      "3     3\n",
      "4    72\n",
      "dtype: int64\n"
     ]
    }
   ],
   "source": [
    "import pandas as pd\n",
    "\n",
    "def get_experience(arg):\n",
    "    onth_key_words = ['месяц', 'месяцев', 'месяца']\n",
    "    year_key_words = ['год', 'лет', 'года']\n",
    "    #words = arg.split(' ')\n",
    "    #mounths = 0\n",
    "    #if words[-1] in onth_key_words:\n",
    "        #mounths += int(words[-2])\n",
    "    #if words[-1] in year_key_words:\n",
    "        #mounths += int(words[-2])*12\n",
    "    #if words[-3] in year_key_words:\n",
    "        #mounths += int(words[-4])*12\n",
    "    #return mounths\n",
    "   # ИЛИ\n",
    "    args_splited = arg.split(' ')\n",
    "    month = 0\n",
    "    year = 0\n",
    "    for i in range(len(args_splited)):\n",
    "        if args_splited[i] in month_key_words:\n",
    "            month = args_splited[i-1]\n",
    "        if args_splited[i] in year_key_words:\n",
    "            year = args_splited[i-1]\n",
    "    return int(year)*12 + int(month)\n",
    "\n",
    "if __name__ == '__main__':\n",
    "    experience_col = pd.Series([\n",
    "        'Опыт работы 8 лет 3 месяца',\n",
    "        'Опыт работы 3 года 5 месяцев',\n",
    "        'Опыт работы 1 год 9 месяцев',\n",
    "        'Опыт работы 3 месяца',\n",
    "        'Опыт работы 6 лет'\n",
    "        ])\n",
    "    experience_month = experience_col.apply(get_experience)\n",
    "    print(experience_month)"
   ]
  },
  {
   "cell_type": "markdown",
   "id": "b9a54770",
   "metadata": {},
   "source": [
    "**Задание 5.2**\n",
    "С помощью метода **info()** узнайте, сколько памяти занимает таблица melb_df.\n",
    "Преобразуйте признак Suburb следующим образом: оставьте в столбце только 119 наиболее популярных пригородов, остальные замените на 'other'.\n",
    "Приведите данные в столбце Suburb к категориальному типу.\n",
    "В качестве ответа запишите разницу между объёмом занимаемой памяти до преобразования (который мы получили ранее в модуле) и после него в Мб. Ответ округлите до десятых."
   ]
  },
  {
   "cell_type": "code",
   "execution_count": 3,
   "id": "17ec8801",
   "metadata": {
    "collapsed": true
   },
   "outputs": [
    {
     "name": "stdout",
     "output_type": "stream",
     "text": [
      "<class 'pandas.core.frame.DataFrame'>\n",
      "RangeIndex: 13580 entries, 0 to 13579\n",
      "Data columns (total 24 columns):\n",
      " #   Column         Non-Null Count  Dtype         \n",
      "---  ------         --------------  -----         \n",
      " 0   index          13580 non-null  int64         \n",
      " 1   Suburb         13580 non-null  object        \n",
      " 2   Address        13580 non-null  object        \n",
      " 3   Rooms          13580 non-null  int64         \n",
      " 4   Type           13580 non-null  object        \n",
      " 5   Price          13580 non-null  float64       \n",
      " 6   Method         13580 non-null  object        \n",
      " 7   SellerG        13580 non-null  object        \n",
      " 8   Date           13580 non-null  datetime64[ns]\n",
      " 9   Distance       13580 non-null  float64       \n",
      " 10  Postcode       13580 non-null  int64         \n",
      " 11  Bedroom        13580 non-null  float64       \n",
      " 12  Bathroom       13580 non-null  float64       \n",
      " 13  Car            13580 non-null  float64       \n",
      " 14  Landsize       13580 non-null  float64       \n",
      " 15  BuildingArea   13580 non-null  float64       \n",
      " 16  YearBuilt      13580 non-null  float64       \n",
      " 17  CouncilArea    12211 non-null  object        \n",
      " 18  Lattitude      13580 non-null  float64       \n",
      " 19  Longtitude     13580 non-null  float64       \n",
      " 20  Regionname     13580 non-null  object        \n",
      " 21  Propertycount  13580 non-null  float64       \n",
      " 22  Coordinates    13580 non-null  object        \n",
      " 23  WeekdaySale    13580 non-null  int64         \n",
      "dtypes: datetime64[ns](1), float64(11), int64(4), object(8)\n",
      "memory usage: 2.5+ MB\n"
     ]
    }
   ],
   "source": [
    "melb_df.info()"
   ]
  },
  {
   "cell_type": "code",
   "execution_count": 40,
   "id": "d3b66a68",
   "metadata": {
    "collapsed": true
   },
   "outputs": [
    {
     "name": "stdout",
     "output_type": "stream",
     "text": [
      "<class 'pandas.core.frame.DataFrame'>\n",
      "RangeIndex: 13580 entries, 0 to 13579\n",
      "Data columns (total 24 columns):\n",
      " #   Column         Non-Null Count  Dtype         \n",
      "---  ------         --------------  -----         \n",
      " 0   index          13580 non-null  int64         \n",
      " 1   Suburb         13580 non-null  category      \n",
      " 2   Address        13580 non-null  object        \n",
      " 3   Rooms          13580 non-null  int64         \n",
      " 4   Type           13580 non-null  object        \n",
      " 5   Price          13580 non-null  float64       \n",
      " 6   Method         13580 non-null  object        \n",
      " 7   SellerG        13580 non-null  object        \n",
      " 8   Date           13580 non-null  datetime64[ns]\n",
      " 9   Distance       13580 non-null  float64       \n",
      " 10  Postcode       13580 non-null  int64         \n",
      " 11  Bedroom        13580 non-null  float64       \n",
      " 12  Bathroom       13580 non-null  float64       \n",
      " 13  Car            13580 non-null  float64       \n",
      " 14  Landsize       13580 non-null  float64       \n",
      " 15  BuildingArea   13580 non-null  float64       \n",
      " 16  YearBuilt      13580 non-null  float64       \n",
      " 17  CouncilArea    12211 non-null  object        \n",
      " 18  Lattitude      13580 non-null  float64       \n",
      " 19  Longtitude     13580 non-null  float64       \n",
      " 20  Regionname     13580 non-null  object        \n",
      " 21  Propertycount  13580 non-null  float64       \n",
      " 22  Coordinates    13580 non-null  object        \n",
      " 23  WeekdaySale    13580 non-null  int64         \n",
      "dtypes: category(1), datetime64[ns](1), float64(11), int64(4), object(7)\n",
      "memory usage: 2.4+ MB\n"
     ]
    }
   ],
   "source": [
    "Suburb_popular = melb_df['Suburb'].value_counts().nlargest(119)\n",
    "melb_df['Suburb'] = melb_df['Suburb'].apply(lambda x: x if x in Suburb_popular else 'other')\n",
    "melb_df['Suburb'] = melb_df['Suburb'].astype(\"category\")\n",
    "melb_df.info()"
   ]
  },
  {
   "cell_type": "markdown",
   "id": "c47b3a66",
   "metadata": {},
   "source": [
    "**Задание 6.1-2**\n",
    "Сколько пропусков в столбце start station id?"
   ]
  },
  {
   "cell_type": "code",
   "execution_count": 119,
   "id": "3ae0183d",
   "metadata": {},
   "outputs": [],
   "source": [
    "import pandas as pd\n",
    "\n",
    "Citi_bike = pd.read_csv('C:\\Курс DS-3.0\\IDE\\Python_11\\data\\citibike-tripdata.csv', sep=',')"
   ]
  },
  {
   "cell_type": "code",
   "execution_count": 120,
   "id": "e8be75c6",
   "metadata": {},
   "outputs": [],
   "source": [
    "Citi_bike_df = Citi_bike.copy()"
   ]
  },
  {
   "cell_type": "code",
   "execution_count": 54,
   "id": "165b86c1",
   "metadata": {
    "collapsed": true
   },
   "outputs": [
    {
     "name": "stdout",
     "output_type": "stream",
     "text": [
      "<class 'pandas.core.frame.DataFrame'>\n",
      "RangeIndex: 300000 entries, 0 to 299999\n",
      "Data columns (total 14 columns):\n",
      " #   Column                   Non-Null Count   Dtype  \n",
      "---  ------                   --------------   -----  \n",
      " 0   starttime                300000 non-null  object \n",
      " 1   stoptime                 300000 non-null  object \n",
      " 2   start station id         299831 non-null  float64\n",
      " 3   start station name       299831 non-null  object \n",
      " 4   start station latitude   300000 non-null  float64\n",
      " 5   start station longitude  300000 non-null  float64\n",
      " 6   end station id           299831 non-null  float64\n",
      " 7   end station name         299831 non-null  object \n",
      " 8   end station latitude     300000 non-null  float64\n",
      " 9   end station longitude    300000 non-null  float64\n",
      " 10  bikeid                   300000 non-null  int64  \n",
      " 11  usertype                 300000 non-null  object \n",
      " 12  birth year               300000 non-null  int64  \n",
      " 13  gender                   300000 non-null  int64  \n",
      "dtypes: float64(6), int64(3), object(5)\n",
      "memory usage: 32.0+ MB\n"
     ]
    }
   ],
   "source": [
    "Citi_bike_df.info()"
   ]
  },
  {
   "cell_type": "markdown",
   "id": "665b6660",
   "metadata": {},
   "source": [
    "**Задание 6.3**\n",
    "\n",
    "Найдите идентификатор самой популярной стартовой стоянки. Запишите идентификатор в виде целого числа."
   ]
  },
  {
   "cell_type": "code",
   "execution_count": 61,
   "id": "cadd795b",
   "metadata": {},
   "outputs": [
    {
     "data": {
      "text/plain": [
       "281.0"
      ]
     },
     "execution_count": 61,
     "metadata": {},
     "output_type": "execute_result"
    }
   ],
   "source": [
    "Citi_bike_df[\"start station id\"].mode()[0]"
   ]
  },
  {
   "cell_type": "markdown",
   "id": "672575b4",
   "metadata": {},
   "source": [
    "**Задание 6.4**\n",
    "\n",
    "Велосипед с каким идентификатором является самым популярным?"
   ]
  },
  {
   "cell_type": "code",
   "execution_count": 62,
   "id": "3d27d3b0",
   "metadata": {},
   "outputs": [
    {
     "data": {
      "text/plain": [
       "33887"
      ]
     },
     "execution_count": 62,
     "metadata": {},
     "output_type": "execute_result"
    }
   ],
   "source": [
    "Citi_bike_df[\"bikeid\"].mode()[0]"
   ]
  },
  {
   "cell_type": "markdown",
   "id": "54cb8dc8",
   "metadata": {},
   "source": [
    "**Задание 6.5**\n",
    "\n",
    "Какой тип клиентов (столбец usertype) является преобладающим — Subscriber или Customer? В качестве ответа запишите долю клиентов преобладающего типа среди общего количества клиентов. Ответ округлите до сотых."
   ]
  },
  {
   "cell_type": "code",
   "execution_count": 67,
   "id": "da7a3a6f",
   "metadata": {},
   "outputs": [
    {
     "data": {
      "text/plain": [
       "Subscriber    0.774007\n",
       "Customer      0.225993\n",
       "Name: usertype, dtype: float64"
      ]
     },
     "execution_count": 67,
     "metadata": {},
     "output_type": "execute_result"
    }
   ],
   "source": [
    "Citi_bike_df[\"usertype\"].value_counts(normalize=True)"
   ]
  },
  {
   "cell_type": "markdown",
   "id": "725b50ca",
   "metadata": {},
   "source": [
    "**Задание 6.6**\n",
    "\n",
    "Кто больше занимается велоспортом — мужчины или женщины? В ответ запишите число поездок для той группы, у которой их больше."
   ]
  },
  {
   "cell_type": "code",
   "execution_count": 68,
   "id": "1d414f98",
   "metadata": {},
   "outputs": [
    {
     "data": {
      "text/plain": [
       "1    183582\n",
       "2     74506\n",
       "0     41912\n",
       "Name: gender, dtype: int64"
      ]
     },
     "execution_count": 68,
     "metadata": {},
     "output_type": "execute_result"
    }
   ],
   "source": [
    "Citi_bike_df[\"gender\"].value_counts()"
   ]
  },
  {
   "cell_type": "markdown",
   "id": "4de9e106",
   "metadata": {},
   "source": [
    "**Задание 6.7**"
   ]
  },
  {
   "cell_type": "code",
   "execution_count": 75,
   "id": "91f39fcf",
   "metadata": {},
   "outputs": [
    {
     "data": {
      "text/plain": [
       "West St & Chambers St          1963\n",
       "12 Ave & W 40 St               1909\n",
       "Pershing Square North          1850\n",
       "Central Park S & 6 Ave         1828\n",
       "E 17 St & Broadway             1804\n",
       "                               ... \n",
       "Exchange Place                    3\n",
       "Union St                          1\n",
       "Warren St                         1\n",
       "Montrose Ave & Bushwick Ave       1\n",
       "Liberty Light Rail                1\n",
       "Name: end station name, Length: 765, dtype: int64"
      ]
     },
     "execution_count": 75,
     "metadata": {},
     "output_type": "execute_result"
    }
   ],
   "source": [
    "# 1 Число уникальных стартовых и конечных стоянок, которыми воспользовались клиенты, не равны друг другу\n",
    "Citi_bike_df[\"end station name\"].value_counts()\n",
    "#Citi_bike_df[\"start station name\"].value_counts()"
   ]
  },
  {
   "cell_type": "code",
   "execution_count": 81,
   "id": "6011346d",
   "metadata": {
    "scrolled": true
   },
   "outputs": [
    {
     "data": {
      "text/plain": [
       "2002"
      ]
     },
     "execution_count": 81,
     "metadata": {},
     "output_type": "execute_result"
    }
   ],
   "source": [
    "# 2 В рассматриваемые дни минимальный возраст клиента составлял 10 лет\n",
    "Citi_bike_df[\"birth year\"].max()"
   ]
  },
  {
   "cell_type": "code",
   "execution_count": null,
   "id": "5e1e9b5b",
   "metadata": {},
   "outputs": [],
   "source": [
    "# 3 Самой непопулярной стартовой стоянкой из тех, которыми воспользовались клиенты, является стоянка с названием \"Eastern Pkwy & Washington Ave\""
   ]
  },
  {
   "cell_type": "code",
   "execution_count": null,
   "id": "f782b009",
   "metadata": {},
   "outputs": [],
   "source": [
    "# 4 Наибольшее количество поездок завершается на стоянке под названием \"Liberty Light Rail\""
   ]
  },
  {
   "cell_type": "markdown",
   "id": "14c6342d",
   "metadata": {},
   "source": [
    "**Задание 6.8**\n",
    "\n",
    "В наших данных присутствуют столбцы, которые дублируют информацию друг о друге: это столбцы с идентификатором и названием стартовой и конечной стоянки. Удалите признаки идентификаторов стоянок. Сколько столбцов осталось?\n"
   ]
  },
  {
   "cell_type": "code",
   "execution_count": 84,
   "id": "1afe1902",
   "metadata": {},
   "outputs": [
    {
     "name": "stdout",
     "output_type": "stream",
     "text": [
      "<class 'pandas.core.frame.DataFrame'>\n",
      "RangeIndex: 300000 entries, 0 to 299999\n",
      "Data columns (total 14 columns):\n",
      " #   Column                   Non-Null Count   Dtype  \n",
      "---  ------                   --------------   -----  \n",
      " 0   starttime                300000 non-null  object \n",
      " 1   stoptime                 300000 non-null  object \n",
      " 2   start station id         299831 non-null  float64\n",
      " 3   start station name       299831 non-null  object \n",
      " 4   start station latitude   300000 non-null  float64\n",
      " 5   start station longitude  300000 non-null  float64\n",
      " 6   end station id           299831 non-null  float64\n",
      " 7   end station name         299831 non-null  object \n",
      " 8   end station latitude     300000 non-null  float64\n",
      " 9   end station longitude    300000 non-null  float64\n",
      " 10  bikeid                   300000 non-null  int64  \n",
      " 11  usertype                 300000 non-null  object \n",
      " 12  birth year               300000 non-null  int64  \n",
      " 13  gender                   300000 non-null  int64  \n",
      "dtypes: float64(6), int64(3), object(5)\n",
      "memory usage: 32.0+ MB\n"
     ]
    }
   ],
   "source": [
    "Citi_bike.info()\n",
    "#Citi_bike_df = Citi_bike_df.drop([\"start station id\", \"end station id\"], axis=1)"
   ]
  },
  {
   "cell_type": "markdown",
   "id": "1e2d6676",
   "metadata": {},
   "source": [
    "**Задание 6.9**<br>\n",
    "Замените признак birth year на более понятный признак возраста клиента age. Годом отсчёта возраста выберите 2018 год. Столбец birth year удалите из таблицы. Сколько поездок совершено клиентами старше 60 лет?"
   ]
  },
  {
   "cell_type": "code",
   "execution_count": 93,
   "id": "8afac703",
   "metadata": {},
   "outputs": [
    {
     "data": {
      "text/plain": [
       "11837"
      ]
     },
     "execution_count": 93,
     "metadata": {},
     "output_type": "execute_result"
    }
   ],
   "source": [
    "#Citi_bike_df['age'] = 2018 - Citi_bike_df[\"birth year\"]\n",
    "#Citi_bike_df = Citi_bike_df.drop([\"birth year\"], axis=1)\n",
    "Citi_bike[Citi_bike_df[\"age\"]>60].shape[0]"
   ]
  },
  {
   "cell_type": "markdown",
   "id": "16001e2a",
   "metadata": {},
   "source": [
    "**Задание 6.10**<br>\n",
    "Создайте признак длительности поездки trip duration. Для этого вычислите интервал времени между временем окончания поездки (stoptime) и её началом (starttime). Сколько целых минут длилась поездка под индексом 3 в таблице?"
   ]
  },
  {
   "cell_type": "code",
   "execution_count": 123,
   "id": "1f8a0a52",
   "metadata": {},
   "outputs": [
    {
     "data": {
      "text/plain": [
       "7"
      ]
     },
     "execution_count": 123,
     "metadata": {},
     "output_type": "execute_result"
    }
   ],
   "source": [
    "Citi_bike_df[\"stoptime\"] = pd.to_datetime(Citi_bike_df[\"stoptime\"], dayfirst=True)\n",
    "Citi_bike_df[\"starttime\"] = pd.to_datetime(Citi_bike_df[\"starttime\"], dayfirst=True)\n",
    "Citi_bike_df[\"trip duration\"] = Citi_bike_df[\"stoptime\"].dt.minute - Citi_bike_df[\"starttime\"].dt.minute\n",
    "Citi_bike_df[\"trip duration\"].loc[3]"
   ]
  },
  {
   "cell_type": "markdown",
   "id": "e557dae4",
   "metadata": {},
   "source": [
    "**Задание 6.11**<br>\n",
    "Создайте «признак-мигалку» weekend, который равен 1, если поездка начиналась в выходной день (суббота или воскресенье), и 0 — в противном случае. Выясните, сколько поездок начиналось в выходные."
   ]
  },
  {
   "cell_type": "code",
   "execution_count": 117,
   "id": "cdfff606",
   "metadata": {},
   "outputs": [
    {
     "data": {
      "text/plain": [
       "115135"
      ]
     },
     "execution_count": 117,
     "metadata": {},
     "output_type": "execute_result"
    }
   ],
   "source": [
    "weekday = Citi_bike_df[\"starttime\"].dt.dayofweek            \n",
    "Citi_bike_df[\"weekend\"] = weekday.apply(lambda x: 1 if x==5 or x==6 else 0)\n",
    "Citi_bike_df[\"weekend\"].sum()"
   ]
  },
  {
   "cell_type": "markdown",
   "id": "16400bf3",
   "metadata": {},
   "source": [
    "**Задание 6.12**\n",
    "\n",
    "Создайте признак времени суток поездки time_of_day. Время суток будем определять из часа начала поездки. Условимся, что:\n",
    "поездка совершается ночью (night), если её час приходится на интервал от 0 (включительно) до 6 (включительно) часов;\n",
    "поездка совершается утром (morning), если её час приходится на интервал от 6 (не включительно) до 12 (включительно) часов;\n",
    "поездка совершается днём (day), если её час приходится на интервал от 12 (не включительно) до 18 (включительно) часов;\n",
    "поездка совершается вечером (evening), если её час приходится на интервал от 18 (не включительно) до 23 часов (включительно).\n",
    "Во сколько раз количество поездок, совершённых днём, больше, чем количество поездок, совёршенных ночью, за представленный в данных период времени? Ответ округлите до целых."
   ]
  },
  {
   "cell_type": "code",
   "execution_count": 133,
   "id": "cd27dfe9",
   "metadata": {},
   "outputs": [
    {
     "data": {
      "text/plain": [
       "9"
      ]
     },
     "execution_count": 133,
     "metadata": {},
     "output_type": "execute_result"
    }
   ],
   "source": [
    "def get_time(hour):\n",
    "    if hour >= 0 and hour <= 6:\n",
    "        return \"night\"\n",
    "    elif hour >6 and hour <= 12:\n",
    "        return \"morning\"\n",
    "    elif hour > 12 and hour <= 18:\n",
    "        return \"day\"\n",
    "    else:\n",
    "        return \"evening\"\n",
    "time_of_day = Citi_bike_df[\"starttime\"].dt.hour\n",
    "Citi_bike_df[\"time_of_day\"] = time_of_day.apply(get_time)\n",
    "round(Citi_bike_df[Citi_bike_df[\"time_of_day\"]==\"day\"].shape[0]/Citi_bike_df[Citi_bike_df[\"time_of_day\"]==\"night\"].shape[0])"
   ]
  }
 ],
 "metadata": {
  "kernelspec": {
   "display_name": "Python 3 (ipykernel)",
   "language": "python",
   "name": "python3"
  },
  "language_info": {
   "codemirror_mode": {
    "name": "ipython",
    "version": 3
   },
   "file_extension": ".py",
   "mimetype": "text/x-python",
   "name": "python",
   "nbconvert_exporter": "python",
   "pygments_lexer": "ipython3",
   "version": "3.9.10"
  }
 },
 "nbformat": 4,
 "nbformat_minor": 5
}
