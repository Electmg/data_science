{
 "cells": [
  {
   "cell_type": "code",
   "execution_count": null,
   "metadata": {},
   "outputs": [],
   "source": [
    "#2.3\n",
    "def get_total(units, price):\n",
    "    return units*price\n",
    "print(get_total(15, 50))"
   ]
  },
  {
   "cell_type": "code",
   "execution_count": null,
   "metadata": {},
   "outputs": [],
   "source": [
    "#3.1\n",
    "def get_time(distance, speed):\n",
    "    if distance < 0 or speed < 0:\n",
    "        raise ValueError(\"Distance or speed cannot be below 0!\")\n",
    "    if speed == 0:\n",
    "        raise ValueError (\"Speed cannot be equal to 0!\")\n",
    "    result = distance/speed\n",
    "    #try:\n",
    "        #result = distance/speed\n",
    "    #except ZeroDivisionError as e:\n",
    "        #print(\"Speed cannot be equal to 0!\")\n",
    "    return result\n",
    "print(get_time(60, 30))"
   ]
  },
  {
   "cell_type": "code",
   "execution_count": null,
   "metadata": {},
   "outputs": [],
   "source": [
    "#3.2\n",
    "def root(value, n=2):\n",
    "    result = value**(1/n)\n",
    "    return result\n",
    "print(root(81))"
   ]
  },
  {
   "cell_type": "code",
   "execution_count": null,
   "metadata": {},
   "outputs": [],
   "source": [
    "#4.1\n",
    "print(\"bread\", \"butter\", \"eggs\", sep=\",\", end=\"!\")"
   ]
  },
  {
   "cell_type": "code",
   "execution_count": null,
   "metadata": {},
   "outputs": [],
   "source": [
    "#ПРИМЕР раскрытия списка с использованием *\n",
    "def mean(*args):\n",
    "        result = sum(args)/len(args)\n",
    "        return result\n",
    "print(mean(1,2,3,4,5))"
   ]
  },
  {
   "cell_type": "code",
   "execution_count": null,
   "metadata": {},
   "outputs": [],
   "source": [
    "# 5.1\n",
    "def mult(*args):\n",
    "    result = 1\n",
    "    for i in args:\n",
    "        result *= i\n",
    "    return result\n",
    "print(mult(3,5,10))"
   ]
  },
  {
   "cell_type": "code",
   "execution_count": null,
   "metadata": {},
   "outputs": [],
   "source": [
    "#5.2\n",
    "langs = ['Python', 'SQL', 'Machine Learning', 'Statistics']\n",
    "print(*langs, sep=\", \", end=\"!\")"
   ]
  },
  {
   "cell_type": "code",
   "execution_count": null,
   "metadata": {},
   "outputs": [],
   "source": [
    "#5.3\n",
    "marks = [4,5,5,5,5,3,4,4,5,4,5]\n",
    "def mean_mark(name, *marks):\n",
    "    result = sum(marks)/len(marks)\n",
    "    return print(str(name), result, sep=\": \")\n",
    "mean_mark(\"Kuznetsov\", *marks)"
   ]
  },
  {
   "cell_type": "code",
   "execution_count": null,
   "metadata": {},
   "outputs": [],
   "source": [
    "#Пример раскрытия списка через ф-и SEP,END с использованием словаря\n",
    "list1 = [1,4,6,8]\n",
    "list2 = [12, 45, 56, 190, 111]\n",
    "list3 = ['Python', 'Functions']\n",
    "how = {'sep':',','end':';'}\n",
    "print(*list1, **how)\n",
    "print(*list2, **how)\n",
    "print(*list3, **how)"
   ]
  },
  {
   "cell_type": "code",
   "execution_count": null,
   "metadata": {},
   "outputs": [],
   "source": [
    "# 6.1 Сортировка списка по длине имени \n",
    "new_list = ['bbb', 'ababa', 'aaa', 'aaaaa', 'cc']\n",
    "\n",
    "#new_list.sort(key=lambda name: (len(name))\n",
    "def get_lenght(*name):\n",
    "    return len(*name)\n",
    "new_list.sort(key=get_lenght)\n",
    "print(new_list)"
   ]
  },
  {
   "cell_type": "code",
   "execution_count": null,
   "metadata": {},
   "outputs": [],
   "source": [
    "# Пример сортировки списка по длине имени и алфавиту одновременно\n",
    "new_list = ['bbb', 'ababa', 'aaa', 'aaaaa', 'cc']\n",
    "new_list.sort(key=lambda name: (len(name), name))\n",
    "print(new_list)"
   ]
  },
  {
   "cell_type": "code",
   "execution_count": null,
   "metadata": {},
   "outputs": [],
   "source": [
    "# 6.3 Lamda ф-я для расчета гипотенузы\n",
    "hyp = lambda a,b: (a**2+b**2)**(1/2)\n",
    "print(hyp(3,4))\n"
   ]
  },
  {
   "cell_type": "code",
   "execution_count": null,
   "metadata": {},
   "outputs": [],
   "source": [
    "# 6.4 Ф-я сотртирует переданный список величине гипотенузы с испльзованием lamda\n",
    "def sort_sides(list):\n",
    "    list.sort(key= lambda x: (x[0]**2+x[1]**2)**(1/2))\n",
    "    return list\n",
    "print(sort_sides([(3,4), (1,2), (10,10)]))  "
   ]
  },
  {
   "cell_type": "code",
   "execution_count": null,
   "metadata": {},
   "outputs": [],
   "source": [
    "# 7.9 Ф-я возращает 1е найденное число из списка, которое меньше 2го передонного в ф-ю аргумента\n",
    "l = [1, 5, 8, 10]\n",
    "def get_less(list, number):\n",
    "    for i in list:\n",
    "        if i < number:\n",
    "            return i\n",
    "    return None\n",
    "print(get_less(l, 0))"
   ]
  },
  {
   "cell_type": "code",
   "execution_count": null,
   "metadata": {},
   "outputs": [],
   "source": [
    "# 7.10 Ф-я принимает на вход строку, а возвращает кортеж в виде даты\n",
    "def split_date(date):\n",
    "    day, month, year = int(date[:2]), int(date[2:4]), int(date[4:6]) \n",
    "    return day, month, year\n",
    "print(split_date(\"31012019\"))"
   ]
  },
  {
   "cell_type": "code",
   "execution_count": null,
   "metadata": {},
   "outputs": [],
   "source": [
    "# 7.11 Ф-я проверяет является ли число простым\n",
    "def is_prime(num):\n",
    "    if num == 1:\n",
    "        return False\n",
    "    for i in range(2, num):\n",
    "        if num%i == 0:\n",
    "            return False\n",
    "    return True\n",
    "print(is_prime(13))"
   ]
  },
  {
   "cell_type": "code",
   "execution_count": null,
   "metadata": {},
   "outputs": [],
   "source": [
    "# 7.12 Ф-я возвращает среднее арифметическое между максимальныи и минимальным значением чисел\n",
    "def between_min_max(*num):\n",
    "    return (max(num) + min(num))/2\n",
    "print(between_min_max(1,2,3,4,5))"
   ]
  },
  {
   "cell_type": "code",
   "execution_count": null,
   "metadata": {},
   "outputs": [],
   "source": [
    "# 7.13 Ф-я принимает на вход фамилии в виде именованных аргументов, а возвращает фамилию с минимальным номером \\n\n",
    "# по рейтингу с использованием метода items()\n",
    "def best_student(**students):\n",
    "    best_name = None\n",
    "    best_rating = None\n",
    "    for student, raiting in students.items():\n",
    "        if best_name is None:\n",
    "            best_name = student\n",
    "            best_rating = raiting\n",
    "        if best_rating > raiting:\n",
    "            best_name = student\n",
    "    return best_name\n",
    "best_student(Tom=12, Mike=3, Jerry=1) "
   ]
  },
  {
   "cell_type": "code",
   "execution_count": 8,
   "metadata": {},
   "outputs": [],
   "source": [
    "# 7.14 Ф"
   ]
  }
 ],
 "metadata": {
  "kernelspec": {
   "display_name": "Python 3.9.10 64-bit",
   "language": "python",
   "name": "python3"
  },
  "language_info": {
   "codemirror_mode": {
    "name": "ipython",
    "version": 3
   },
   "file_extension": ".py",
   "mimetype": "text/x-python",
   "name": "python",
   "nbconvert_exporter": "python",
   "pygments_lexer": "ipython3",
   "version": "3.9.10"
  },
  "orig_nbformat": 4,
  "vscode": {
   "interpreter": {
    "hash": "cf92aa13fedf815d5c8dd192b8d835913fde3e8bc926b2a0ad6cc74ef2ba3ca2"
   }
  }
 },
 "nbformat": 4,
 "nbformat_minor": 2
}
