{
 "cells": [
  {
   "cell_type": "markdown",
   "id": "42289889-bd57-434e-9637-d3e354756316",
   "metadata": {
    "id": "42289889-bd57-434e-9637-d3e354756316"
   },
   "source": [
    "<center> <img src = https://raw.githubusercontent.com/AndreyRysistov/DatasetsForPandas/main/hh%20label.jpg alt=\"drawing\" style=\"width:400px;\">"
   ]
  },
  {
   "cell_type": "markdown",
   "id": "829cb75b-f14e-4ba8-9195-7ba929a7d656",
   "metadata": {
    "id": "829cb75b-f14e-4ba8-9195-7ba929a7d656",
    "tags": []
   },
   "source": [
    "# <center> Проект: Анализ вакансий из HeadHunter\n",
    "   "
   ]
  },
  {
   "cell_type": "code",
   "execution_count": 1519,
   "id": "dccfde33-2452-43fb-a8a5-5c6ebc02a71d",
   "metadata": {
    "id": "dccfde33-2452-43fb-a8a5-5c6ebc02a71d"
   },
   "outputs": [],
   "source": [
    "import pandas as pd\n",
    "import psycopg2"
   ]
  },
  {
   "cell_type": "code",
   "execution_count": null,
   "id": "oVKH4ehvf8Ay",
   "metadata": {
    "id": "oVKH4ehvf8Ay"
   },
   "outputs": [],
   "source": [
    "DBNAME = 'project_sql'\n",
    "USER = 'skillfactory'\n",
    "PASSWORD = 'cCkxxLVrDE8EbvjueeMedPKt'\n",
    "HOST = '84.201.134.129'\n",
    "PORT = 5432"
   ]
  },
  {
   "cell_type": "code",
   "execution_count": 1520,
   "id": "G4X_q8KBf7SF",
   "metadata": {
    "id": "G4X_q8KBf7SF"
   },
   "outputs": [],
   "source": [
    "connection = psycopg2.connect(\n",
    "    dbname='project_sql',\n",
    "    user='skillfactory',\n",
    "    host='84.201.134.129',\n",
    "    password='cCkxxLVrDE8EbvjueeMedPKt',\n",
    "    port=5432\n",
    ")"
   ]
  },
  {
   "cell_type": "markdown",
   "id": "0dc6476b-7a00-44f1-ac93-6e3baed33a29",
   "metadata": {
    "id": "0dc6476b-7a00-44f1-ac93-6e3baed33a29"
   },
   "source": [
    "# Юнит 3. Предварительный анализ данных"
   ]
  },
  {
   "cell_type": "markdown",
   "id": "889782b6-8d1c-410e-8920-e57f27917c64",
   "metadata": {
    "id": "889782b6-8d1c-410e-8920-e57f27917c64"
   },
   "source": [
    "1. Напишите запрос, который посчитает количество вакансий в нашей базе (вакансии находятся в таблице vacancies). "
   ]
  },
  {
   "cell_type": "code",
   "execution_count": 1464,
   "id": "bc39e68e-ed02-4ee2-9235-7258a2f867a8",
   "metadata": {
    "id": "bc39e68e-ed02-4ee2-9235-7258a2f867a8"
   },
   "outputs": [],
   "source": [
    "query_3_1 = f''' SELECT /*выбор столбцов*/\n",
    "                COUNT(*) cnt_v /* считаем количество вакансий в нашей базе и задаём ей алиас cnt_v*/\n",
    "                FROM public.VACANCIES /*из таблицы public.VACANCIES*/\n",
    "'''"
   ]
  },
  {
   "cell_type": "code",
   "execution_count": 1465,
   "id": "7mAwtsk4hEHY",
   "metadata": {
    "id": "7mAwtsk4hEHY",
    "scrolled": false
   },
   "outputs": [
    {
     "name": "stderr",
     "output_type": "stream",
     "text": [
      "c:\\Users\\User\\AppData\\Local\\Programs\\Python\\Python39\\lib\\site-packages\\pandas\\io\\sql.py:761: UserWarning: pandas only support SQLAlchemy connectable(engine/connection) ordatabase string URI or sqlite3 DBAPI2 connectionother DBAPI2 objects are not tested, please consider using SQLAlchemy\n",
      "  warnings.warn(\n"
     ]
    },
    {
     "data": {
      "text/html": [
       "<div>\n",
       "<style scoped>\n",
       "    .dataframe tbody tr th:only-of-type {\n",
       "        vertical-align: middle;\n",
       "    }\n",
       "\n",
       "    .dataframe tbody tr th {\n",
       "        vertical-align: top;\n",
       "    }\n",
       "\n",
       "    .dataframe thead th {\n",
       "        text-align: right;\n",
       "    }\n",
       "</style>\n",
       "<table border=\"1\" class=\"dataframe\">\n",
       "  <thead>\n",
       "    <tr style=\"text-align: right;\">\n",
       "      <th></th>\n",
       "      <th>cnt_v</th>\n",
       "    </tr>\n",
       "  </thead>\n",
       "  <tbody>\n",
       "    <tr>\n",
       "      <th>0</th>\n",
       "      <td>49197</td>\n",
       "    </tr>\n",
       "  </tbody>\n",
       "</table>\n",
       "</div>"
      ],
      "text/plain": [
       "   cnt_v\n",
       "0  49197"
      ]
     },
     "execution_count": 1465,
     "metadata": {},
     "output_type": "execute_result"
    }
   ],
   "source": [
    "df_vacancies = pd.read_sql_query(query_3_1, connection)\n",
    "df_vacancies"
   ]
  },
  {
   "cell_type": "code",
   "execution_count": 96,
   "id": "1e090027",
   "metadata": {
    "scrolled": false
   },
   "outputs": [
    {
     "data": {
      "text/html": [
       "<div>\n",
       "<style scoped>\n",
       "    .dataframe tbody tr th:only-of-type {\n",
       "        vertical-align: middle;\n",
       "    }\n",
       "\n",
       "    .dataframe tbody tr th {\n",
       "        vertical-align: top;\n",
       "    }\n",
       "\n",
       "    .dataframe thead th {\n",
       "        text-align: right;\n",
       "    }\n",
       "</style>\n",
       "<table border=\"1\" class=\"dataframe\">\n",
       "  <thead>\n",
       "    <tr style=\"text-align: right;\">\n",
       "      <th></th>\n",
       "      <th>id</th>\n",
       "      <th>name</th>\n",
       "      <th>key_skills</th>\n",
       "      <th>schedule</th>\n",
       "      <th>experience</th>\n",
       "      <th>employment</th>\n",
       "      <th>salary_from</th>\n",
       "      <th>salary_to</th>\n",
       "      <th>area_id</th>\n",
       "      <th>employer_id</th>\n",
       "    </tr>\n",
       "  </thead>\n",
       "  <tbody>\n",
       "    <tr>\n",
       "      <th>0</th>\n",
       "      <td>55312386</td>\n",
       "      <td>Компьютерный Мастер</td>\n",
       "      <td>Пользователь ПК\\tРабота в команде\\tРемонт ноут...</td>\n",
       "      <td>Полный день</td>\n",
       "      <td>Нет опыта</td>\n",
       "      <td>Полная занятость</td>\n",
       "      <td>64000.0</td>\n",
       "      <td>NaN</td>\n",
       "      <td>1516</td>\n",
       "      <td>5724811</td>\n",
       "    </tr>\n",
       "    <tr>\n",
       "      <th>1</th>\n",
       "      <td>55843014</td>\n",
       "      <td>Системный администратор</td>\n",
       "      <td>Средства криптографической защиты информации\\t...</td>\n",
       "      <td>Полный день</td>\n",
       "      <td>От 3 до 6 лет</td>\n",
       "      <td>Полная занятость</td>\n",
       "      <td>NaN</td>\n",
       "      <td>NaN</td>\n",
       "      <td>130</td>\n",
       "      <td>4903713</td>\n",
       "    </tr>\n",
       "    <tr>\n",
       "      <th>2</th>\n",
       "      <td>54525964</td>\n",
       "      <td>Lead Java Developer to Poland</td>\n",
       "      <td>Spring Framework\\tSQL\\tHibernate ORM\\tJava\\tGit</td>\n",
       "      <td>Удаленная работа</td>\n",
       "      <td>От 3 до 6 лет</td>\n",
       "      <td>Полная занятость</td>\n",
       "      <td>NaN</td>\n",
       "      <td>NaN</td>\n",
       "      <td>160</td>\n",
       "      <td>69961</td>\n",
       "    </tr>\n",
       "    <tr>\n",
       "      <th>3</th>\n",
       "      <td>54525965</td>\n",
       "      <td>Lead Java Developer to Poland</td>\n",
       "      <td>Spring Framework\\tSQL\\tHibernate ORM\\tJava\\tGit</td>\n",
       "      <td>Удаленная работа</td>\n",
       "      <td>От 3 до 6 лет</td>\n",
       "      <td>Полная занятость</td>\n",
       "      <td>NaN</td>\n",
       "      <td>NaN</td>\n",
       "      <td>159</td>\n",
       "      <td>69961</td>\n",
       "    </tr>\n",
       "    <tr>\n",
       "      <th>4</th>\n",
       "      <td>55354053</td>\n",
       "      <td>Специалист службы поддержки с техническими зна...</td>\n",
       "      <td>None</td>\n",
       "      <td>Удаленная работа</td>\n",
       "      <td>Нет опыта</td>\n",
       "      <td>Частичная занятость</td>\n",
       "      <td>15000.0</td>\n",
       "      <td>NaN</td>\n",
       "      <td>1955</td>\n",
       "      <td>1740</td>\n",
       "    </tr>\n",
       "  </tbody>\n",
       "</table>\n",
       "</div>"
      ],
      "text/plain": [
       "         id                                               name  \\\n",
       "0  55312386                                Компьютерный Мастер   \n",
       "1  55843014                            Системный администратор   \n",
       "2  54525964                      Lead Java Developer to Poland   \n",
       "3  54525965                      Lead Java Developer to Poland   \n",
       "4  55354053  Специалист службы поддержки с техническими зна...   \n",
       "\n",
       "                                          key_skills          schedule  \\\n",
       "0  Пользователь ПК\\tРабота в команде\\tРемонт ноут...       Полный день   \n",
       "1  Средства криптографической защиты информации\\t...       Полный день   \n",
       "2    Spring Framework\\tSQL\\tHibernate ORM\\tJava\\tGit  Удаленная работа   \n",
       "3    Spring Framework\\tSQL\\tHibernate ORM\\tJava\\tGit  Удаленная работа   \n",
       "4                                               None  Удаленная работа   \n",
       "\n",
       "      experience           employment  salary_from  salary_to  area_id  \\\n",
       "0      Нет опыта     Полная занятость      64000.0        NaN     1516   \n",
       "1  От 3 до 6 лет     Полная занятость          NaN        NaN      130   \n",
       "2  От 3 до 6 лет     Полная занятость          NaN        NaN      160   \n",
       "3  От 3 до 6 лет     Полная занятость          NaN        NaN      159   \n",
       "4      Нет опыта  Частичная занятость      15000.0        NaN     1955   \n",
       "\n",
       "   employer_id  \n",
       "0      5724811  \n",
       "1      4903713  \n",
       "2        69961  \n",
       "3        69961  \n",
       "4         1740  "
      ]
     },
     "execution_count": 96,
     "metadata": {},
     "output_type": "execute_result"
    }
   ],
   "source": [
    "df_vacancies.head()"
   ]
  },
  {
   "cell_type": "markdown",
   "id": "b583485d-1f9e-494e-ada4-80ffff7c53d6",
   "metadata": {
    "id": "b583485d-1f9e-494e-ada4-80ffff7c53d6"
   },
   "source": [
    "2. Напишите запрос, который посчитает количество работодателей (таблица employers). "
   ]
  },
  {
   "cell_type": "code",
   "execution_count": 1347,
   "id": "5408c52c-3407-4a63-b25b-1aafa2322d28",
   "metadata": {
    "id": "5408c52c-3407-4a63-b25b-1aafa2322d28"
   },
   "outputs": [],
   "source": [
    "query_3_2 = f''' SELECT /*выбор столбцов*/\n",
    "                COUNT(*) cnt_employers /* считаем количество работодателей и задаём ей алиас cnt_employers*/\n",
    "                FROM public.EMPLOYERS /*из таблицы public.EMPLOYERS*/\n",
    "'''"
   ]
  },
  {
   "cell_type": "code",
   "execution_count": 1348,
   "id": "jVL4eshKhdqc",
   "metadata": {
    "id": "jVL4eshKhdqc"
   },
   "outputs": [
    {
     "name": "stderr",
     "output_type": "stream",
     "text": [
      "c:\\Users\\User\\AppData\\Local\\Programs\\Python\\Python39\\lib\\site-packages\\pandas\\io\\sql.py:761: UserWarning: pandas only support SQLAlchemy connectable(engine/connection) ordatabase string URI or sqlite3 DBAPI2 connectionother DBAPI2 objects are not tested, please consider using SQLAlchemy\n",
      "  warnings.warn(\n"
     ]
    },
    {
     "data": {
      "text/html": [
       "<div>\n",
       "<style scoped>\n",
       "    .dataframe tbody tr th:only-of-type {\n",
       "        vertical-align: middle;\n",
       "    }\n",
       "\n",
       "    .dataframe tbody tr th {\n",
       "        vertical-align: top;\n",
       "    }\n",
       "\n",
       "    .dataframe thead th {\n",
       "        text-align: right;\n",
       "    }\n",
       "</style>\n",
       "<table border=\"1\" class=\"dataframe\">\n",
       "  <thead>\n",
       "    <tr style=\"text-align: right;\">\n",
       "      <th></th>\n",
       "      <th>cnt_employers</th>\n",
       "    </tr>\n",
       "  </thead>\n",
       "  <tbody>\n",
       "    <tr>\n",
       "      <th>0</th>\n",
       "      <td>23501</td>\n",
       "    </tr>\n",
       "  </tbody>\n",
       "</table>\n",
       "</div>"
      ],
      "text/plain": [
       "   cnt_employers\n",
       "0          23501"
      ]
     },
     "execution_count": 1348,
     "metadata": {},
     "output_type": "execute_result"
    }
   ],
   "source": [
    "df_employers = pd.read_sql_query(query_3_2, connection)\n",
    "df_employers"
   ]
  },
  {
   "cell_type": "markdown",
   "id": "a2bfff1f-c975-4bf6-84be-2185d79dcb76",
   "metadata": {
    "id": "a2bfff1f-c975-4bf6-84be-2185d79dcb76"
   },
   "source": [
    "3. Посчитате с помощью запроса количество регионов (таблица areas)."
   ]
  },
  {
   "cell_type": "code",
   "execution_count": 1349,
   "id": "1m8QJwBYhey6",
   "metadata": {
    "id": "1m8QJwBYhey6"
   },
   "outputs": [],
   "source": [
    "query_3_3 = f''' SELECT /*выбор столбцов*/\n",
    "                COUNT(*) cnt_areas /* считаем количество регионов и задаём ей алиас cnt_areas*/\n",
    "                FROM public.AREAS /*из таблицы public.AREAS*/\n",
    "'''"
   ]
  },
  {
   "cell_type": "code",
   "execution_count": 1350,
   "id": "EZsn9tlfhe7f",
   "metadata": {
    "id": "EZsn9tlfhe7f"
   },
   "outputs": [
    {
     "name": "stderr",
     "output_type": "stream",
     "text": [
      "c:\\Users\\User\\AppData\\Local\\Programs\\Python\\Python39\\lib\\site-packages\\pandas\\io\\sql.py:761: UserWarning: pandas only support SQLAlchemy connectable(engine/connection) ordatabase string URI or sqlite3 DBAPI2 connectionother DBAPI2 objects are not tested, please consider using SQLAlchemy\n",
      "  warnings.warn(\n"
     ]
    },
    {
     "data": {
      "text/html": [
       "<div>\n",
       "<style scoped>\n",
       "    .dataframe tbody tr th:only-of-type {\n",
       "        vertical-align: middle;\n",
       "    }\n",
       "\n",
       "    .dataframe tbody tr th {\n",
       "        vertical-align: top;\n",
       "    }\n",
       "\n",
       "    .dataframe thead th {\n",
       "        text-align: right;\n",
       "    }\n",
       "</style>\n",
       "<table border=\"1\" class=\"dataframe\">\n",
       "  <thead>\n",
       "    <tr style=\"text-align: right;\">\n",
       "      <th></th>\n",
       "      <th>cnt_areas</th>\n",
       "    </tr>\n",
       "  </thead>\n",
       "  <tbody>\n",
       "    <tr>\n",
       "      <th>0</th>\n",
       "      <td>1362</td>\n",
       "    </tr>\n",
       "  </tbody>\n",
       "</table>\n",
       "</div>"
      ],
      "text/plain": [
       "   cnt_areas\n",
       "0       1362"
      ]
     },
     "execution_count": 1350,
     "metadata": {},
     "output_type": "execute_result"
    }
   ],
   "source": [
    "df_areas = pd.read_sql_query(query_3_3, connection)\n",
    "df_areas"
   ]
  },
  {
   "cell_type": "markdown",
   "id": "41bb59f3-53cc-4a67-a5bc-bedf573955e4",
   "metadata": {
    "id": "41bb59f3-53cc-4a67-a5bc-bedf573955e4"
   },
   "source": [
    "4. Посчитате с помощью запроса количество сфер деятельности в базе (таблица industries)."
   ]
  },
  {
   "cell_type": "code",
   "execution_count": 1466,
   "id": "d286cf4c-707b-4cd2-9190-7ab3587d04a1",
   "metadata": {
    "id": "d286cf4c-707b-4cd2-9190-7ab3587d04a1"
   },
   "outputs": [],
   "source": [
    "query_3_4 = f''' SELECT /*выбор столбцов*/\n",
    "                COUNT(id)  cnt_ind /* считаем количество сфер деятельности в базе и задаём ей алиас cnt_ind*/\n",
    "                FROM public.INDUSTRIES /*из таблицы public.INDUSTRIES*/\n",
    "'''"
   ]
  },
  {
   "cell_type": "code",
   "execution_count": 1468,
   "id": "JYAaoZ4qhfzW",
   "metadata": {
    "id": "JYAaoZ4qhfzW"
   },
   "outputs": [
    {
     "name": "stderr",
     "output_type": "stream",
     "text": [
      "c:\\Users\\User\\AppData\\Local\\Programs\\Python\\Python39\\lib\\site-packages\\pandas\\io\\sql.py:761: UserWarning: pandas only support SQLAlchemy connectable(engine/connection) ordatabase string URI or sqlite3 DBAPI2 connectionother DBAPI2 objects are not tested, please consider using SQLAlchemy\n",
      "  warnings.warn(\n"
     ]
    },
    {
     "data": {
      "text/html": [
       "<div>\n",
       "<style scoped>\n",
       "    .dataframe tbody tr th:only-of-type {\n",
       "        vertical-align: middle;\n",
       "    }\n",
       "\n",
       "    .dataframe tbody tr th {\n",
       "        vertical-align: top;\n",
       "    }\n",
       "\n",
       "    .dataframe thead th {\n",
       "        text-align: right;\n",
       "    }\n",
       "</style>\n",
       "<table border=\"1\" class=\"dataframe\">\n",
       "  <thead>\n",
       "    <tr style=\"text-align: right;\">\n",
       "      <th></th>\n",
       "      <th>cnt_ind</th>\n",
       "    </tr>\n",
       "  </thead>\n",
       "  <tbody>\n",
       "    <tr>\n",
       "      <th>0</th>\n",
       "      <td>294</td>\n",
       "    </tr>\n",
       "  </tbody>\n",
       "</table>\n",
       "</div>"
      ],
      "text/plain": [
       "   cnt_ind\n",
       "0      294"
      ]
     },
     "execution_count": 1468,
     "metadata": {},
     "output_type": "execute_result"
    }
   ],
   "source": [
    "df_areas = pd.read_sql_query(query_3_4, connection)\n",
    "df_areas"
   ]
  },
  {
   "cell_type": "markdown",
   "id": "7b6cb8df",
   "metadata": {
    "id": "9a8a2181-6914-448b-85f1-38f5f18b8a93"
   },
   "source": [
    "***"
   ]
  },
  {
   "cell_type": "markdown",
   "id": "015ab27f",
   "metadata": {
    "id": "be4e9bd3-a4db-4a20-82fb-6b02fc2957e0"
   },
   "source": [
    "*Предварительный анализ показывает, что мы имеем дело с большим количеством данных состоящих из 5ти таблиц. При этом количество вакансий составляет 49197, а количество работодателей 23501, что указывает что каждый работодатель в среднем предлагает 2 вакансии. Дополнительно можно отметить, что количество сфер деятельности составляет 294, а количество регионов 1362*"
   ]
  },
  {
   "cell_type": "markdown",
   "id": "8d62a9f3-f64e-4fe7-bdac-c4dffa16155e",
   "metadata": {
    "id": "8d62a9f3-f64e-4fe7-bdac-c4dffa16155e"
   },
   "source": [
    "# Юнит 4. Детальный анализ вакансий"
   ]
  },
  {
   "cell_type": "markdown",
   "id": "93053d3d-b284-481a-9cf7-012d7014c0e0",
   "metadata": {
    "id": "93053d3d-b284-481a-9cf7-012d7014c0e0"
   },
   "source": [
    "1. Напишите запрос, который позволит узнать, сколько (cnt) вакансий в каждом регионе (area).\n",
    "Отсортируйте по количеству вакансий в порядке убывания."
   ]
  },
  {
   "cell_type": "code",
   "execution_count": 1469,
   "id": "3f069da6-fdc9-4ae7-b514-fafe2675efd3",
   "metadata": {
    "id": "3f069da6-fdc9-4ae7-b514-fafe2675efd3"
   },
   "outputs": [],
   "source": [
    "query_4_1 = f''' SELECT DISTINCT /*выбор уникальных столбцов*/\n",
    "                a.name area, /*выбираем столбец по регионам (area) и присвоиваем алиас area*/\n",
    "                COUNT(v.id) cnt_v /* считаем количество вакансий в каждом регионе (area) и задаём ей алиас cnt_v*/\n",
    "                FROM public.VACANCIES v /*из таблицы public.INDUSTRIES*/\n",
    "                JOIN public.AREAS a on a.id = v.area_id /*присоединяем таблицу public.areas с помощью оператора JOIN*/\n",
    "                GROUP by 1 /*группируем по столбцу 1(area)*/\n",
    "                ORDER by 2 desc /*сортировка по убыванию по столбцу cnt_v*/\n",
    "'''"
   ]
  },
  {
   "cell_type": "code",
   "execution_count": 1470,
   "id": "P7QL86hrjhRJ",
   "metadata": {
    "collapsed": true,
    "id": "P7QL86hrjhRJ"
   },
   "outputs": [
    {
     "name": "stderr",
     "output_type": "stream",
     "text": [
      "c:\\Users\\User\\AppData\\Local\\Programs\\Python\\Python39\\lib\\site-packages\\pandas\\io\\sql.py:761: UserWarning: pandas only support SQLAlchemy connectable(engine/connection) ordatabase string URI or sqlite3 DBAPI2 connectionother DBAPI2 objects are not tested, please consider using SQLAlchemy\n",
      "  warnings.warn(\n"
     ]
    },
    {
     "data": {
      "text/html": [
       "<div>\n",
       "<style scoped>\n",
       "    .dataframe tbody tr th:only-of-type {\n",
       "        vertical-align: middle;\n",
       "    }\n",
       "\n",
       "    .dataframe tbody tr th {\n",
       "        vertical-align: top;\n",
       "    }\n",
       "\n",
       "    .dataframe thead th {\n",
       "        text-align: right;\n",
       "    }\n",
       "</style>\n",
       "<table border=\"1\" class=\"dataframe\">\n",
       "  <thead>\n",
       "    <tr style=\"text-align: right;\">\n",
       "      <th></th>\n",
       "      <th>area</th>\n",
       "      <th>cnt_v</th>\n",
       "    </tr>\n",
       "  </thead>\n",
       "  <tbody>\n",
       "    <tr>\n",
       "      <th>0</th>\n",
       "      <td>Москва</td>\n",
       "      <td>5333</td>\n",
       "    </tr>\n",
       "    <tr>\n",
       "      <th>1</th>\n",
       "      <td>Санкт-Петербург</td>\n",
       "      <td>2851</td>\n",
       "    </tr>\n",
       "    <tr>\n",
       "      <th>2</th>\n",
       "      <td>Минск</td>\n",
       "      <td>2112</td>\n",
       "    </tr>\n",
       "    <tr>\n",
       "      <th>3</th>\n",
       "      <td>Новосибирск</td>\n",
       "      <td>2006</td>\n",
       "    </tr>\n",
       "    <tr>\n",
       "      <th>4</th>\n",
       "      <td>Алматы</td>\n",
       "      <td>1892</td>\n",
       "    </tr>\n",
       "  </tbody>\n",
       "</table>\n",
       "</div>"
      ],
      "text/plain": [
       "              area  cnt_v\n",
       "0           Москва   5333\n",
       "1  Санкт-Петербург   2851\n",
       "2            Минск   2112\n",
       "3      Новосибирск   2006\n",
       "4           Алматы   1892"
      ]
     },
     "execution_count": 1470,
     "metadata": {},
     "output_type": "execute_result"
    }
   ],
   "source": [
    "df_4_1 = pd.read_sql_query(query_4_1, connection)\n",
    "df_4_1.loc[0:4]"
   ]
  },
  {
   "cell_type": "markdown",
   "id": "4266f0b6-1646-492a-88b4-2f6a46502135",
   "metadata": {
    "id": "4266f0b6-1646-492a-88b4-2f6a46502135"
   },
   "source": [
    "2. Напишите запрос, чтобы определить у какого количества вакансий заполнено хотя бы одно из двух полей с зарплатой."
   ]
  },
  {
   "cell_type": "code",
   "execution_count": 1332,
   "id": "0c44b350-72eb-4d65-8b54-a1fc449ba9fd",
   "metadata": {
    "id": "0c44b350-72eb-4d65-8b54-a1fc449ba9fd"
   },
   "outputs": [],
   "source": [
    "query_4_2 = f''' SELECT /*выбор столбцов*/\n",
    "                COUNT(v.name) cnt_v /* считаем количество вакансий и задаём ей алиас cnt_v*/\n",
    "                FROM public.VACANCIES v /*из таблицы public.VACANCIES*/\n",
    "                WHERE salary_from IS NOT null or\n",
    "                salary_to IS NOT null /*при условии, что заполнено хотя бы одно из двух полей salary_from или salary_to.*/\n",
    "\n",
    "'''"
   ]
  },
  {
   "cell_type": "code",
   "execution_count": 1333,
   "id": "rhvwaMDkoWTi",
   "metadata": {
    "id": "rhvwaMDkoWTi"
   },
   "outputs": [
    {
     "name": "stderr",
     "output_type": "stream",
     "text": [
      "c:\\Users\\User\\AppData\\Local\\Programs\\Python\\Python39\\lib\\site-packages\\pandas\\io\\sql.py:761: UserWarning: pandas only support SQLAlchemy connectable(engine/connection) ordatabase string URI or sqlite3 DBAPI2 connectionother DBAPI2 objects are not tested, please consider using SQLAlchemy\n",
      "  warnings.warn(\n"
     ]
    },
    {
     "data": {
      "text/html": [
       "<div>\n",
       "<style scoped>\n",
       "    .dataframe tbody tr th:only-of-type {\n",
       "        vertical-align: middle;\n",
       "    }\n",
       "\n",
       "    .dataframe tbody tr th {\n",
       "        vertical-align: top;\n",
       "    }\n",
       "\n",
       "    .dataframe thead th {\n",
       "        text-align: right;\n",
       "    }\n",
       "</style>\n",
       "<table border=\"1\" class=\"dataframe\">\n",
       "  <thead>\n",
       "    <tr style=\"text-align: right;\">\n",
       "      <th></th>\n",
       "      <th>cnt_v</th>\n",
       "    </tr>\n",
       "  </thead>\n",
       "  <tbody>\n",
       "    <tr>\n",
       "      <th>0</th>\n",
       "      <td>24073</td>\n",
       "    </tr>\n",
       "  </tbody>\n",
       "</table>\n",
       "</div>"
      ],
      "text/plain": [
       "   cnt_v\n",
       "0  24073"
      ]
     },
     "execution_count": 1333,
     "metadata": {},
     "output_type": "execute_result"
    }
   ],
   "source": [
    "df_4_2 = pd.read_sql_query(query_4_2, connection)\n",
    "df_4_2"
   ]
  },
  {
   "cell_type": "markdown",
   "id": "635c4d5d-f323-4c66-b428-50a088120aa0",
   "metadata": {
    "id": "635c4d5d-f323-4c66-b428-50a088120aa0"
   },
   "source": [
    "3. Найдите средние значения для нижней и верхней границы зарплатной вилки. Округлите значения до целого."
   ]
  },
  {
   "cell_type": "code",
   "execution_count": 1471,
   "id": "603cdbe4-0ec3-4106-8eaf-c73fcdd29165",
   "metadata": {
    "id": "603cdbe4-0ec3-4106-8eaf-c73fcdd29165"
   },
   "outputs": [],
   "source": [
    "query_4_3 = f''' SELECT /*выбор столбцов*/\n",
    "                ROUND(AVG(v.salary_from)) salary_from_avg, /* считаем нижнию границу зарплатной вилки и задаём ей алиас salary_from_avg*/\n",
    "                ROUND(AVG(v.salary_to)) salary_to_avg /* считаем верхнюю границу зарплатной вилки и задаём ей алиас salary_to_avg*/\n",
    "                FROM public.VACANCIES v /*из таблицы public.VACANCIES*/\n",
    "\n",
    "'''"
   ]
  },
  {
   "cell_type": "code",
   "execution_count": 1472,
   "id": "pswpAb66ovZZ",
   "metadata": {
    "id": "pswpAb66ovZZ"
   },
   "outputs": [
    {
     "name": "stderr",
     "output_type": "stream",
     "text": [
      "c:\\Users\\User\\AppData\\Local\\Programs\\Python\\Python39\\lib\\site-packages\\pandas\\io\\sql.py:761: UserWarning: pandas only support SQLAlchemy connectable(engine/connection) ordatabase string URI or sqlite3 DBAPI2 connectionother DBAPI2 objects are not tested, please consider using SQLAlchemy\n",
      "  warnings.warn(\n"
     ]
    },
    {
     "data": {
      "text/html": [
       "<div>\n",
       "<style scoped>\n",
       "    .dataframe tbody tr th:only-of-type {\n",
       "        vertical-align: middle;\n",
       "    }\n",
       "\n",
       "    .dataframe tbody tr th {\n",
       "        vertical-align: top;\n",
       "    }\n",
       "\n",
       "    .dataframe thead th {\n",
       "        text-align: right;\n",
       "    }\n",
       "</style>\n",
       "<table border=\"1\" class=\"dataframe\">\n",
       "  <thead>\n",
       "    <tr style=\"text-align: right;\">\n",
       "      <th></th>\n",
       "      <th>salary_from_avg</th>\n",
       "      <th>salary_to_avg</th>\n",
       "    </tr>\n",
       "  </thead>\n",
       "  <tbody>\n",
       "    <tr>\n",
       "      <th>0</th>\n",
       "      <td>71065.0</td>\n",
       "      <td>110537.0</td>\n",
       "    </tr>\n",
       "  </tbody>\n",
       "</table>\n",
       "</div>"
      ],
      "text/plain": [
       "   salary_from_avg  salary_to_avg\n",
       "0          71065.0       110537.0"
      ]
     },
     "execution_count": 1472,
     "metadata": {},
     "output_type": "execute_result"
    }
   ],
   "source": [
    "df_4_3 = pd.read_sql_query(query_4_3, connection)\n",
    "df_4_3"
   ]
  },
  {
   "cell_type": "markdown",
   "id": "f3fdaec9-5fd3-4260-9cf5-1d7406b628a5",
   "metadata": {
    "id": "f3fdaec9-5fd3-4260-9cf5-1d7406b628a5"
   },
   "source": [
    "4. Напишите запрос, который выведет количество вакансий для каждого сочетания типа рабочего графика (schedule) и типа трудоустройства (employment), используемого в вакансиях. Результат отсортируйте по убыванию количества.\n"
   ]
  },
  {
   "cell_type": "code",
   "execution_count": 1473,
   "id": "1ea710ec-871b-431e-9462-c7d0fd87011b",
   "metadata": {
    "id": "1ea710ec-871b-431e-9462-c7d0fd87011b"
   },
   "outputs": [],
   "source": [
    "query_4_4 = f''' SELECT DISTINCT /*выбор уникальных столбцов*/\n",
    "                v.schedule, /*выбираем столбец типа рабочего графика (schedule)*/\n",
    "                v.employment,  /*выбираем столбец типа рабочего графика (schedule)*/\n",
    "                COUNT(*) cnt_v /* считаем количество вакансий и задаём ей алиас cnt_v*/\n",
    "                FROM public.VACANCIES v /*из таблицы public.VACANCIES*/\n",
    "                GROUP by 1, 2 /*группируем по столбцу 1(schedule) и столбцу 2(employment)*/\n",
    "                ORDER by 3 desc /*сортировка по убыванию по столбцу cnt_v*/\n",
    "\n",
    "'''"
   ]
  },
  {
   "cell_type": "code",
   "execution_count": 1474,
   "id": "lGUVqavdo4JQ",
   "metadata": {
    "collapsed": true,
    "id": "lGUVqavdo4JQ"
   },
   "outputs": [
    {
     "name": "stderr",
     "output_type": "stream",
     "text": [
      "c:\\Users\\User\\AppData\\Local\\Programs\\Python\\Python39\\lib\\site-packages\\pandas\\io\\sql.py:761: UserWarning: pandas only support SQLAlchemy connectable(engine/connection) ordatabase string URI or sqlite3 DBAPI2 connectionother DBAPI2 objects are not tested, please consider using SQLAlchemy\n",
      "  warnings.warn(\n"
     ]
    },
    {
     "data": {
      "text/html": [
       "<div>\n",
       "<style scoped>\n",
       "    .dataframe tbody tr th:only-of-type {\n",
       "        vertical-align: middle;\n",
       "    }\n",
       "\n",
       "    .dataframe tbody tr th {\n",
       "        vertical-align: top;\n",
       "    }\n",
       "\n",
       "    .dataframe thead th {\n",
       "        text-align: right;\n",
       "    }\n",
       "</style>\n",
       "<table border=\"1\" class=\"dataframe\">\n",
       "  <thead>\n",
       "    <tr style=\"text-align: right;\">\n",
       "      <th></th>\n",
       "      <th>schedule</th>\n",
       "      <th>employment</th>\n",
       "      <th>cnt_v</th>\n",
       "    </tr>\n",
       "  </thead>\n",
       "  <tbody>\n",
       "    <tr>\n",
       "      <th>0</th>\n",
       "      <td>Полный день</td>\n",
       "      <td>Полная занятость</td>\n",
       "      <td>35367</td>\n",
       "    </tr>\n",
       "    <tr>\n",
       "      <th>1</th>\n",
       "      <td>Удаленная работа</td>\n",
       "      <td>Полная занятость</td>\n",
       "      <td>7802</td>\n",
       "    </tr>\n",
       "    <tr>\n",
       "      <th>2</th>\n",
       "      <td>Гибкий график</td>\n",
       "      <td>Полная занятость</td>\n",
       "      <td>1593</td>\n",
       "    </tr>\n",
       "    <tr>\n",
       "      <th>3</th>\n",
       "      <td>Удаленная работа</td>\n",
       "      <td>Частичная занятость</td>\n",
       "      <td>1312</td>\n",
       "    </tr>\n",
       "    <tr>\n",
       "      <th>4</th>\n",
       "      <td>Сменный график</td>\n",
       "      <td>Полная занятость</td>\n",
       "      <td>940</td>\n",
       "    </tr>\n",
       "    <tr>\n",
       "      <th>5</th>\n",
       "      <td>Полный день</td>\n",
       "      <td>Стажировка</td>\n",
       "      <td>569</td>\n",
       "    </tr>\n",
       "    <tr>\n",
       "      <th>6</th>\n",
       "      <td>Вахтовый метод</td>\n",
       "      <td>Полная занятость</td>\n",
       "      <td>367</td>\n",
       "    </tr>\n",
       "    <tr>\n",
       "      <th>7</th>\n",
       "      <td>Полный день</td>\n",
       "      <td>Частичная занятость</td>\n",
       "      <td>347</td>\n",
       "    </tr>\n",
       "    <tr>\n",
       "      <th>8</th>\n",
       "      <td>Гибкий график</td>\n",
       "      <td>Частичная занятость</td>\n",
       "      <td>312</td>\n",
       "    </tr>\n",
       "    <tr>\n",
       "      <th>9</th>\n",
       "      <td>Полный день</td>\n",
       "      <td>Проектная работа</td>\n",
       "      <td>141</td>\n",
       "    </tr>\n",
       "    <tr>\n",
       "      <th>10</th>\n",
       "      <td>Удаленная работа</td>\n",
       "      <td>Проектная работа</td>\n",
       "      <td>133</td>\n",
       "    </tr>\n",
       "    <tr>\n",
       "      <th>11</th>\n",
       "      <td>Гибкий график</td>\n",
       "      <td>Стажировка</td>\n",
       "      <td>116</td>\n",
       "    </tr>\n",
       "    <tr>\n",
       "      <th>12</th>\n",
       "      <td>Сменный график</td>\n",
       "      <td>Частичная занятость</td>\n",
       "      <td>101</td>\n",
       "    </tr>\n",
       "    <tr>\n",
       "      <th>13</th>\n",
       "      <td>Удаленная работа</td>\n",
       "      <td>Стажировка</td>\n",
       "      <td>64</td>\n",
       "    </tr>\n",
       "    <tr>\n",
       "      <th>14</th>\n",
       "      <td>Гибкий график</td>\n",
       "      <td>Проектная работа</td>\n",
       "      <td>18</td>\n",
       "    </tr>\n",
       "    <tr>\n",
       "      <th>15</th>\n",
       "      <td>Сменный график</td>\n",
       "      <td>Стажировка</td>\n",
       "      <td>12</td>\n",
       "    </tr>\n",
       "    <tr>\n",
       "      <th>16</th>\n",
       "      <td>Вахтовый метод</td>\n",
       "      <td>Проектная работа</td>\n",
       "      <td>2</td>\n",
       "    </tr>\n",
       "    <tr>\n",
       "      <th>17</th>\n",
       "      <td>Сменный график</td>\n",
       "      <td>Проектная работа</td>\n",
       "      <td>1</td>\n",
       "    </tr>\n",
       "  </tbody>\n",
       "</table>\n",
       "</div>"
      ],
      "text/plain": [
       "            schedule           employment  cnt_v\n",
       "0        Полный день     Полная занятость  35367\n",
       "1   Удаленная работа     Полная занятость   7802\n",
       "2      Гибкий график     Полная занятость   1593\n",
       "3   Удаленная работа  Частичная занятость   1312\n",
       "4     Сменный график     Полная занятость    940\n",
       "5        Полный день           Стажировка    569\n",
       "6     Вахтовый метод     Полная занятость    367\n",
       "7        Полный день  Частичная занятость    347\n",
       "8      Гибкий график  Частичная занятость    312\n",
       "9        Полный день     Проектная работа    141\n",
       "10  Удаленная работа     Проектная работа    133\n",
       "11     Гибкий график           Стажировка    116\n",
       "12    Сменный график  Частичная занятость    101\n",
       "13  Удаленная работа           Стажировка     64\n",
       "14     Гибкий график     Проектная работа     18\n",
       "15    Сменный график           Стажировка     12\n",
       "16    Вахтовый метод     Проектная работа      2\n",
       "17    Сменный график     Проектная работа      1"
      ]
     },
     "execution_count": 1474,
     "metadata": {},
     "output_type": "execute_result"
    }
   ],
   "source": [
    "df_4_4 = pd.read_sql_query(query_4_4, connection)\n",
    "df_4_4"
   ]
  },
  {
   "cell_type": "markdown",
   "id": "0136ffee-0ead-4a6b-b608-61d1c753a438",
   "metadata": {
    "id": "0136ffee-0ead-4a6b-b608-61d1c753a438"
   },
   "source": [
    "5. Напишите запрос, выводящий значения поля Требуемый опыт работы (experience) в порядке возрастания количества вакансий, в которых указан данный вариант опыта. "
   ]
  },
  {
   "cell_type": "code",
   "execution_count": 1475,
   "id": "5b3a8e79-f7ab-4008-b767-12aea3a205ea",
   "metadata": {
    "id": "5b3a8e79-f7ab-4008-b767-12aea3a205ea"
   },
   "outputs": [],
   "source": [
    "query_4_5 = f''' SELECT DISTINCT /*выбор уникальных столбцов*/\n",
    "                v.experience, /*выбираем столбец Требуемый опыт работы (experience)*/\n",
    "                COUNT(*) cnt /* считаем количество вакансий и задаём ей алиас cnt*/\n",
    "                FROM public.VACANCIES v /*из таблицы public.VACANCIES*/\n",
    "                WHERE v.experience is not null /*при условии, что заполнено поле experience*/\n",
    "                GROUP by 1 /*группируем по столбцу 1(experience)*/\n",
    "                ORDER by 2 asc /*сортировка по возрастанию по столбцу cnt*/\n",
    "\n",
    "'''"
   ]
  },
  {
   "cell_type": "code",
   "execution_count": 1476,
   "id": "3Is64Y-hpDpq",
   "metadata": {
    "collapsed": true,
    "id": "3Is64Y-hpDpq"
   },
   "outputs": [
    {
     "name": "stderr",
     "output_type": "stream",
     "text": [
      "c:\\Users\\User\\AppData\\Local\\Programs\\Python\\Python39\\lib\\site-packages\\pandas\\io\\sql.py:761: UserWarning: pandas only support SQLAlchemy connectable(engine/connection) ordatabase string URI or sqlite3 DBAPI2 connectionother DBAPI2 objects are not tested, please consider using SQLAlchemy\n",
      "  warnings.warn(\n"
     ]
    },
    {
     "data": {
      "text/html": [
       "<div>\n",
       "<style scoped>\n",
       "    .dataframe tbody tr th:only-of-type {\n",
       "        vertical-align: middle;\n",
       "    }\n",
       "\n",
       "    .dataframe tbody tr th {\n",
       "        vertical-align: top;\n",
       "    }\n",
       "\n",
       "    .dataframe thead th {\n",
       "        text-align: right;\n",
       "    }\n",
       "</style>\n",
       "<table border=\"1\" class=\"dataframe\">\n",
       "  <thead>\n",
       "    <tr style=\"text-align: right;\">\n",
       "      <th></th>\n",
       "      <th>experience</th>\n",
       "      <th>cnt</th>\n",
       "    </tr>\n",
       "  </thead>\n",
       "  <tbody>\n",
       "    <tr>\n",
       "      <th>0</th>\n",
       "      <td>Более 6 лет</td>\n",
       "      <td>1337</td>\n",
       "    </tr>\n",
       "    <tr>\n",
       "      <th>1</th>\n",
       "      <td>Нет опыта</td>\n",
       "      <td>7197</td>\n",
       "    </tr>\n",
       "    <tr>\n",
       "      <th>2</th>\n",
       "      <td>От 3 до 6 лет</td>\n",
       "      <td>14511</td>\n",
       "    </tr>\n",
       "    <tr>\n",
       "      <th>3</th>\n",
       "      <td>От 1 года до 3 лет</td>\n",
       "      <td>26152</td>\n",
       "    </tr>\n",
       "  </tbody>\n",
       "</table>\n",
       "</div>"
      ],
      "text/plain": [
       "           experience    cnt\n",
       "0         Более 6 лет   1337\n",
       "1           Нет опыта   7197\n",
       "2       От 3 до 6 лет  14511\n",
       "3  От 1 года до 3 лет  26152"
      ]
     },
     "execution_count": 1476,
     "metadata": {},
     "output_type": "execute_result"
    }
   ],
   "source": [
    "df_4_5 = pd.read_sql_query(query_4_5, connection)\n",
    "df_4_5"
   ]
  },
  {
   "cell_type": "markdown",
   "id": "oq2b7n1QpIka",
   "metadata": {
    "id": "oq2b7n1QpIka"
   },
   "source": [
    "***"
   ]
  },
  {
   "cell_type": "code",
   "execution_count": 95,
   "id": "49445239",
   "metadata": {
    "collapsed": true
   },
   "outputs": [
    {
     "data": {
      "image/png": "[encoded data removed]",
      "text/plain": [
       "<Figure size 1080x504 with 1 Axes>"
      ]
     },
     "metadata": {
      "needs_background": "light"
     },
     "output_type": "display_data"
    }
   ],
   "source": [
    "import seaborn as sns\n",
    "\n",
    "grouped_data = df_4_1.loc[0:4]\n",
    "\n",
    "fig = plt.figure(figsize=(15, 7))\n",
    "barplot = sns.barplot(\n",
    "    data=grouped_data,\n",
    "    x='area',\n",
    "    y='cnt'    \n",
    ")\n",
    "barplot.set_title('Диаграмма зависимости количества вакансий от региона', fontsize=16);"
   ]
  },
  {
   "cell_type": "markdown",
   "id": "65a0b356",
   "metadata": {
    "id": "e91f87ed-e25c-4f96-9f92-b642e8c0b4fa"
   },
   "source": [
    "*Датальный анализ и столбчатая диаграмма показывает, что большая часть вакансий предлагается в городе Москва, и их количество примерно в 2 раза большем чем в других городах милионниках. Также хотелось бы отметить что среднее значение минимальной и максимальной заработной платы 71065руб. и 110537руб., соответственно. Дополнительно хотел бы обратить внимание, что наиболее популярные комбинации рабочего графика и типа трудоустройства: Полный день-Полная занятость и Удаленная работа-Полная занятость. А соотношение предлагаемых вакансий для соискателей с опытом работы от 1 до 3х лет, к соискателям с опытом работы более 6 лет, составляем примерно 1/20, что указывает на большой спрос среди специалистов с малым опытом работы.*\t"
   ]
  },
  {
   "cell_type": "markdown",
   "id": "7ea20ab6-04a7-40a0-adec-443a0e5a42c3",
   "metadata": {
    "id": "7ea20ab6-04a7-40a0-adec-443a0e5a42c3"
   },
   "source": [
    "# Юнит 5. Анализ работодателей"
   ]
  },
  {
   "cell_type": "markdown",
   "id": "968aed80-74ef-4ffb-b5bf-c65b84e9caea",
   "metadata": {
    "id": "968aed80-74ef-4ffb-b5bf-c65b84e9caea"
   },
   "source": [
    "1. Напишите запрос, который позволит узнать, какие работодатели находятся на первом и пятом месте по количеству вакансий."
   ]
  },
  {
   "cell_type": "code",
   "execution_count": 1477,
   "id": "f2d62796-d400-4ec1-a675-88112739a50e",
   "metadata": {
    "id": "f2d62796-d400-4ec1-a675-88112739a50e"
   },
   "outputs": [],
   "source": [
    "query_5_1 = f''' SELECT DISTINCT /*выбор уникальных столбцов*/\n",
    "                e.name EMPLOYERS, /*выбираем столбец работодатели и присвоиваем алиас EMPLOYERS*/\n",
    "                COUNT(v.id) cnt /* считаем количество вакансий и задаём ей алиас cnt*/\n",
    "                FROM public.EMPLOYERS e /*из таблицы public.EMPLOYERS*/\n",
    "                JOIN public.VACANCIES v on e.id = v.employer_id /*присоединяем таблицу public.VACANCIES с помощью оператора JOIN*/\n",
    "                GROUP by 1 /*группируем по столбцу 1(EMPLOYERS)*/\n",
    "                ORDER by 2 desc /*сортировка по убыванию по столбцу cnt*/\n",
    "                LIMIT 5 /*устанавливаем ограничение по выводу 5ти позиций*/\n",
    "'''"
   ]
  },
  {
   "cell_type": "code",
   "execution_count": 1478,
   "id": "64tOMkAxqkQk",
   "metadata": {
    "collapsed": true,
    "id": "64tOMkAxqkQk"
   },
   "outputs": [
    {
     "name": "stderr",
     "output_type": "stream",
     "text": [
      "c:\\Users\\User\\AppData\\Local\\Programs\\Python\\Python39\\lib\\site-packages\\pandas\\io\\sql.py:761: UserWarning: pandas only support SQLAlchemy connectable(engine/connection) ordatabase string URI or sqlite3 DBAPI2 connectionother DBAPI2 objects are not tested, please consider using SQLAlchemy\n",
      "  warnings.warn(\n"
     ]
    },
    {
     "data": {
      "text/html": [
       "<div>\n",
       "<style scoped>\n",
       "    .dataframe tbody tr th:only-of-type {\n",
       "        vertical-align: middle;\n",
       "    }\n",
       "\n",
       "    .dataframe tbody tr th {\n",
       "        vertical-align: top;\n",
       "    }\n",
       "\n",
       "    .dataframe thead th {\n",
       "        text-align: right;\n",
       "    }\n",
       "</style>\n",
       "<table border=\"1\" class=\"dataframe\">\n",
       "  <thead>\n",
       "    <tr style=\"text-align: right;\">\n",
       "      <th></th>\n",
       "      <th>employers</th>\n",
       "      <th>cnt</th>\n",
       "    </tr>\n",
       "  </thead>\n",
       "  <tbody>\n",
       "    <tr>\n",
       "      <th>0</th>\n",
       "      <td>Яндекс</td>\n",
       "      <td>1933</td>\n",
       "    </tr>\n",
       "    <tr>\n",
       "      <th>1</th>\n",
       "      <td>Ростелеком</td>\n",
       "      <td>491</td>\n",
       "    </tr>\n",
       "    <tr>\n",
       "      <th>2</th>\n",
       "      <td>Тинькофф</td>\n",
       "      <td>444</td>\n",
       "    </tr>\n",
       "    <tr>\n",
       "      <th>3</th>\n",
       "      <td>СБЕР</td>\n",
       "      <td>428</td>\n",
       "    </tr>\n",
       "    <tr>\n",
       "      <th>4</th>\n",
       "      <td>Газпром нефть</td>\n",
       "      <td>331</td>\n",
       "    </tr>\n",
       "  </tbody>\n",
       "</table>\n",
       "</div>"
      ],
      "text/plain": [
       "       employers   cnt\n",
       "0         Яндекс  1933\n",
       "1     Ростелеком   491\n",
       "2       Тинькофф   444\n",
       "3           СБЕР   428\n",
       "4  Газпром нефть   331"
      ]
     },
     "execution_count": 1478,
     "metadata": {},
     "output_type": "execute_result"
    }
   ],
   "source": [
    "df_5_1 = pd.read_sql_query(query_5_1, connection)\n",
    "df_5_1"
   ]
  },
  {
   "cell_type": "markdown",
   "id": "68377cfc-b378-43dc-ab7d-1195abf2c515",
   "metadata": {
    "id": "68377cfc-b378-43dc-ab7d-1195abf2c515"
   },
   "source": [
    "2. Напишите запрос, который для каждого региона выведет количество работодателей и вакансий в нём.\n",
    "Среди регионов, в которых нет вакансий, найдите тот, в котором наибольшее количество работодателей.\n"
   ]
  },
  {
   "cell_type": "code",
   "execution_count": 1479,
   "id": "dd7df27a-e3e8-412e-a21a-5d389b71e891",
   "metadata": {
    "id": "dd7df27a-e3e8-412e-a21a-5d389b71e891"
   },
   "outputs": [],
   "source": [
    "query_5_2 = f''' SELECT /*выбор столбцов*/\n",
    "                a.name area,  /*выбираем столбец с названиями регионов  и присвоиваем алиас area*/\n",
    "                COUNT(e.area) employers_cnt, /* считаем количество работодателей и задаём ей алиас employers_cnt*/\n",
    "                COUNT(distinct v.id) vacancies_cnt /* считаем количество вакансий и задаём ей алиас vacancies_cnt*/\n",
    "                FROM public.AREAS a /*из таблицы public.AREAS*/\n",
    "                LEFT join public.VACANCIES v on a.id = v.area_id /*присоединяем таблицу public.VACANCIES с помощью оператора LEFT JOIN*/\n",
    "                LEFT join public.employers e on a.id = e.area /*присоединяем таблицу public.employers с помощью оператора LEFT JOIN*/\n",
    "                WHERE v.id IS NULL /*при условии отсутствия вакансий в регионе*/\n",
    "                GROUP by a.id /*группируем по столбцу a.id*/\n",
    "                ORDER by 2 desc NULLS FIRST /*сортировка по убыванию по столбцу employers_cnt, выводим первоначально пустые значения*/\n",
    "'''"
   ]
  },
  {
   "cell_type": "code",
   "execution_count": 1480,
   "id": "x1ikWbydrbf6",
   "metadata": {
    "collapsed": true,
    "id": "x1ikWbydrbf6"
   },
   "outputs": [
    {
     "name": "stderr",
     "output_type": "stream",
     "text": [
      "c:\\Users\\User\\AppData\\Local\\Programs\\Python\\Python39\\lib\\site-packages\\pandas\\io\\sql.py:761: UserWarning: pandas only support SQLAlchemy connectable(engine/connection) ordatabase string URI or sqlite3 DBAPI2 connectionother DBAPI2 objects are not tested, please consider using SQLAlchemy\n",
      "  warnings.warn(\n"
     ]
    },
    {
     "data": {
      "text/html": [
       "<div>\n",
       "<style scoped>\n",
       "    .dataframe tbody tr th:only-of-type {\n",
       "        vertical-align: middle;\n",
       "    }\n",
       "\n",
       "    .dataframe tbody tr th {\n",
       "        vertical-align: top;\n",
       "    }\n",
       "\n",
       "    .dataframe thead th {\n",
       "        text-align: right;\n",
       "    }\n",
       "</style>\n",
       "<table border=\"1\" class=\"dataframe\">\n",
       "  <thead>\n",
       "    <tr style=\"text-align: right;\">\n",
       "      <th></th>\n",
       "      <th>area</th>\n",
       "      <th>employers_cnt</th>\n",
       "      <th>vacancies_cnt</th>\n",
       "    </tr>\n",
       "  </thead>\n",
       "  <tbody>\n",
       "    <tr>\n",
       "      <th>0</th>\n",
       "      <td>Россия</td>\n",
       "      <td>410</td>\n",
       "      <td>0</td>\n",
       "    </tr>\n",
       "    <tr>\n",
       "      <th>1</th>\n",
       "      <td>Казахстан</td>\n",
       "      <td>207</td>\n",
       "      <td>0</td>\n",
       "    </tr>\n",
       "    <tr>\n",
       "      <th>2</th>\n",
       "      <td>Московская область</td>\n",
       "      <td>75</td>\n",
       "      <td>0</td>\n",
       "    </tr>\n",
       "    <tr>\n",
       "      <th>3</th>\n",
       "      <td>Краснодарский край</td>\n",
       "      <td>19</td>\n",
       "      <td>0</td>\n",
       "    </tr>\n",
       "    <tr>\n",
       "      <th>4</th>\n",
       "      <td>Ростовская область</td>\n",
       "      <td>18</td>\n",
       "      <td>0</td>\n",
       "    </tr>\n",
       "    <tr>\n",
       "      <th>...</th>\n",
       "      <td>...</td>\n",
       "      <td>...</td>\n",
       "      <td>...</td>\n",
       "    </tr>\n",
       "    <tr>\n",
       "      <th>588</th>\n",
       "      <td>Скидель</td>\n",
       "      <td>0</td>\n",
       "      <td>0</td>\n",
       "    </tr>\n",
       "    <tr>\n",
       "      <th>589</th>\n",
       "      <td>Белоозерск</td>\n",
       "      <td>0</td>\n",
       "      <td>0</td>\n",
       "    </tr>\n",
       "    <tr>\n",
       "      <th>590</th>\n",
       "      <td>Орловский</td>\n",
       "      <td>0</td>\n",
       "      <td>0</td>\n",
       "    </tr>\n",
       "    <tr>\n",
       "      <th>591</th>\n",
       "      <td>Павловская</td>\n",
       "      <td>0</td>\n",
       "      <td>0</td>\n",
       "    </tr>\n",
       "    <tr>\n",
       "      <th>592</th>\n",
       "      <td>Таксимо</td>\n",
       "      <td>0</td>\n",
       "      <td>0</td>\n",
       "    </tr>\n",
       "  </tbody>\n",
       "</table>\n",
       "<p>593 rows × 3 columns</p>\n",
       "</div>"
      ],
      "text/plain": [
       "                   area  employers_cnt  vacancies_cnt\n",
       "0                Россия            410              0\n",
       "1             Казахстан            207              0\n",
       "2    Московская область             75              0\n",
       "3    Краснодарский край             19              0\n",
       "4    Ростовская область             18              0\n",
       "..                  ...            ...            ...\n",
       "588             Скидель              0              0\n",
       "589          Белоозерск              0              0\n",
       "590           Орловский              0              0\n",
       "591          Павловская              0              0\n",
       "592             Таксимо              0              0\n",
       "\n",
       "[593 rows x 3 columns]"
      ]
     },
     "execution_count": 1480,
     "metadata": {},
     "output_type": "execute_result"
    }
   ],
   "source": [
    "df_5_2 = pd.read_sql_query(query_5_2, connection)\n",
    "df_5_2"
   ]
  },
  {
   "cell_type": "markdown",
   "id": "f2fe0acb-ab1a-4e15-9326-2560e22d73c1",
   "metadata": {
    "id": "f2fe0acb-ab1a-4e15-9326-2560e22d73c1"
   },
   "source": [
    "3. Для каждого работодателя посчитайте количество регионов, в которых он публикует свои вакансии. Отсортируйте результат по убыванию количества.\n"
   ]
  },
  {
   "cell_type": "code",
   "execution_count": 1481,
   "id": "6271f8ad-bd2e-4196-ae4a-5b39c4c1010e",
   "metadata": {
    "id": "6271f8ad-bd2e-4196-ae4a-5b39c4c1010e"
   },
   "outputs": [],
   "source": [
    "query_5_3 = f''' SELECT DISTINCT /*выбор уникальных столбцов*/\n",
    "                e.name EMPLOYERS, /*выбираем столбец работодатели и присвоиваем алиас EMPLOYERS*/\n",
    "                COUNT(distinct v.area_id) area_cnt /* считаем количество регионов и задаём ей алиас area_cnt*/\n",
    "                FROM public.EMPLOYERS e /*из таблицы public.EMPLOYERS*/\n",
    "                JOIN public.VACANCIES v on e.id = v.employer_id /*присоединяем таблицу public.VACANCIES с помощью оператора JOIN*/\n",
    "                GROUP by 1 /*группируем по столбцу EMPLOYERS*/\n",
    "                ORDER by 2 desc /*сортировка по убыванию по столбцу area_cnt*/\n",
    "'''"
   ]
  },
  {
   "cell_type": "code",
   "execution_count": 1482,
   "id": "1EIvX3HasH4F",
   "metadata": {
    "collapsed": true,
    "id": "1EIvX3HasH4F"
   },
   "outputs": [
    {
     "name": "stderr",
     "output_type": "stream",
     "text": [
      "c:\\Users\\User\\AppData\\Local\\Programs\\Python\\Python39\\lib\\site-packages\\pandas\\io\\sql.py:761: UserWarning: pandas only support SQLAlchemy connectable(engine/connection) ordatabase string URI or sqlite3 DBAPI2 connectionother DBAPI2 objects are not tested, please consider using SQLAlchemy\n",
      "  warnings.warn(\n"
     ]
    },
    {
     "data": {
      "text/html": [
       "<div>\n",
       "<style scoped>\n",
       "    .dataframe tbody tr th:only-of-type {\n",
       "        vertical-align: middle;\n",
       "    }\n",
       "\n",
       "    .dataframe tbody tr th {\n",
       "        vertical-align: top;\n",
       "    }\n",
       "\n",
       "    .dataframe thead th {\n",
       "        text-align: right;\n",
       "    }\n",
       "</style>\n",
       "<table border=\"1\" class=\"dataframe\">\n",
       "  <thead>\n",
       "    <tr style=\"text-align: right;\">\n",
       "      <th></th>\n",
       "      <th>employers</th>\n",
       "      <th>area_cnt</th>\n",
       "    </tr>\n",
       "  </thead>\n",
       "  <tbody>\n",
       "    <tr>\n",
       "      <th>0</th>\n",
       "      <td>Яндекс</td>\n",
       "      <td>181</td>\n",
       "    </tr>\n",
       "    <tr>\n",
       "      <th>1</th>\n",
       "      <td>Ростелеком</td>\n",
       "      <td>152</td>\n",
       "    </tr>\n",
       "    <tr>\n",
       "      <th>2</th>\n",
       "      <td>Спецремонт</td>\n",
       "      <td>116</td>\n",
       "    </tr>\n",
       "    <tr>\n",
       "      <th>3</th>\n",
       "      <td>Поляков Денис Иванович</td>\n",
       "      <td>88</td>\n",
       "    </tr>\n",
       "    <tr>\n",
       "      <th>4</th>\n",
       "      <td>ООО ЕФИН</td>\n",
       "      <td>71</td>\n",
       "    </tr>\n",
       "    <tr>\n",
       "      <th>...</th>\n",
       "      <td>...</td>\n",
       "      <td>...</td>\n",
       "    </tr>\n",
       "    <tr>\n",
       "      <th>14761</th>\n",
       "      <td>Яроцкий Е. В./ MoonX</td>\n",
       "      <td>1</td>\n",
       "    </tr>\n",
       "    <tr>\n",
       "      <th>14762</th>\n",
       "      <td>Ясли-сад №374 г. Минска</td>\n",
       "      <td>1</td>\n",
       "    </tr>\n",
       "    <tr>\n",
       "      <th>14763</th>\n",
       "      <td>ЯСП</td>\n",
       "      <td>1</td>\n",
       "    </tr>\n",
       "    <tr>\n",
       "      <th>14764</th>\n",
       "      <td>Ястро-Переработка</td>\n",
       "      <td>1</td>\n",
       "    </tr>\n",
       "    <tr>\n",
       "      <th>14765</th>\n",
       "      <td>ЯТСС</td>\n",
       "      <td>1</td>\n",
       "    </tr>\n",
       "  </tbody>\n",
       "</table>\n",
       "<p>14766 rows × 2 columns</p>\n",
       "</div>"
      ],
      "text/plain": [
       "                     employers  area_cnt\n",
       "0                       Яндекс       181\n",
       "1                   Ростелеком       152\n",
       "2                   Спецремонт       116\n",
       "3       Поляков Денис Иванович        88\n",
       "4                    ООО ЕФИН         71\n",
       "...                        ...       ...\n",
       "14761     Яроцкий Е. В./ MoonX         1\n",
       "14762  Ясли-сад №374 г. Минска         1\n",
       "14763                      ЯСП         1\n",
       "14764        Ястро-Переработка         1\n",
       "14765                     ЯТСС         1\n",
       "\n",
       "[14766 rows x 2 columns]"
      ]
     },
     "execution_count": 1482,
     "metadata": {},
     "output_type": "execute_result"
    }
   ],
   "source": [
    "df_5_3 = pd.read_sql_query(query_5_3, connection)\n",
    "df_5_3"
   ]
  },
  {
   "cell_type": "markdown",
   "id": "eab2206d-d95b-468b-8e5f-34381abf0ce7",
   "metadata": {
    "id": "eab2206d-d95b-468b-8e5f-34381abf0ce7"
   },
   "source": [
    "4. Напишите запрос для подсчёта количества работодателей, у которых не указана сфера деятельности. "
   ]
  },
  {
   "cell_type": "code",
   "execution_count": 1483,
   "id": "80defb23-bfb1-4a18-8be6-bf36aa7165d5",
   "metadata": {
    "id": "80defb23-bfb1-4a18-8be6-bf36aa7165d5"
   },
   "outputs": [],
   "source": [
    "query_5_4 = f''' SELECT /*выбор столбцов*/\n",
    "                COUNT(e.id)  EMPLOYERS_cnt_industry_is_null /* считаем количество работодателей и задаём ей алиас EMPLOYERS_cnt_industry_is_null*/\n",
    "                FROM public.EMPLOYERS e /*из таблицы public.EMPLOYERS*/\n",
    "                FULL JOIN public.EMPLOYERS_INDUSTRIES i on e.id = i.employer_id /*присоединяем таблицу public.EMPLOYERS_INDUSTRIES с помощью оператора FULL JOIN*/\n",
    "                WHERE industry_id is null /*при условии отсутствия данных о сфере деятельности */\n",
    "'''"
   ]
  },
  {
   "cell_type": "code",
   "execution_count": 1485,
   "id": "Dp_yCx6ysQSu",
   "metadata": {
    "id": "Dp_yCx6ysQSu"
   },
   "outputs": [
    {
     "name": "stderr",
     "output_type": "stream",
     "text": [
      "c:\\Users\\User\\AppData\\Local\\Programs\\Python\\Python39\\lib\\site-packages\\pandas\\io\\sql.py:761: UserWarning: pandas only support SQLAlchemy connectable(engine/connection) ordatabase string URI or sqlite3 DBAPI2 connectionother DBAPI2 objects are not tested, please consider using SQLAlchemy\n",
      "  warnings.warn(\n"
     ]
    },
    {
     "data": {
      "text/html": [
       "<div>\n",
       "<style scoped>\n",
       "    .dataframe tbody tr th:only-of-type {\n",
       "        vertical-align: middle;\n",
       "    }\n",
       "\n",
       "    .dataframe tbody tr th {\n",
       "        vertical-align: top;\n",
       "    }\n",
       "\n",
       "    .dataframe thead th {\n",
       "        text-align: right;\n",
       "    }\n",
       "</style>\n",
       "<table border=\"1\" class=\"dataframe\">\n",
       "  <thead>\n",
       "    <tr style=\"text-align: right;\">\n",
       "      <th></th>\n",
       "      <th>employers_cnt_industry_is_null</th>\n",
       "    </tr>\n",
       "  </thead>\n",
       "  <tbody>\n",
       "    <tr>\n",
       "      <th>0</th>\n",
       "      <td>8419</td>\n",
       "    </tr>\n",
       "  </tbody>\n",
       "</table>\n",
       "</div>"
      ],
      "text/plain": [
       "   employers_cnt_industry_is_null\n",
       "0                            8419"
      ]
     },
     "execution_count": 1485,
     "metadata": {},
     "output_type": "execute_result"
    }
   ],
   "source": [
    "df_5_4 = pd.read_sql_query(query_5_4, connection)\n",
    "df_5_4"
   ]
  },
  {
   "cell_type": "markdown",
   "id": "0112af31-f6b0-4e3b-82ab-71296e752e5e",
   "metadata": {
    "id": "0112af31-f6b0-4e3b-82ab-71296e752e5e"
   },
   "source": [
    "5. Напишите запрос, чтобы узнать название компании, находящейся на третьем месте в алфавитном списке (по названию) компаний, у которых указано четыре сферы деятельности. "
   ]
  },
  {
   "cell_type": "code",
   "execution_count": 1486,
   "id": "973b0cfc-a972-470a-8b4a-68744ef220c4",
   "metadata": {
    "id": "973b0cfc-a972-470a-8b4a-68744ef220c4"
   },
   "outputs": [],
   "source": [
    "query_5_5 = f''' SELECT DISTINCT /*выбор уникальных столбцов*/\n",
    "                e.name EMPLOYERS /*выбираем столбец работодатели и присвоиваем алиас EMPLOYERS*/\n",
    "                FROM public.EMPLOYERS e /*из таблицы public.EMPLOYERS*/\n",
    "                JOIN public.EMPLOYERS_INDUSTRIES i on e.id = i.employer_id /*присоединяем таблицу public.EMPLOYERS_INDUSTRIES с помощью оператора JOIN*/\n",
    "                GROUP by 1 /*группируем по столбцу EMPLOYERS*/\n",
    "                HAVING count(i.industry_id) = 4 /*фильтруем по указаным четырем сферам деятельности*/\n",
    "                ORDER by 1 asc /*сортировка по возрастанию по столбцу EMPLOYERS*/\n",
    "                OFFSET 2 /*смещаем вывод информации на 2 позиции*/\n",
    "                LIMIT 1 /*устанавливаем ограничение по выводу 1 позиции*/\n",
    "'''"
   ]
  },
  {
   "cell_type": "code",
   "execution_count": 1487,
   "id": "xsPtpp8EsaED",
   "metadata": {
    "id": "xsPtpp8EsaED"
   },
   "outputs": [
    {
     "name": "stderr",
     "output_type": "stream",
     "text": [
      "c:\\Users\\User\\AppData\\Local\\Programs\\Python\\Python39\\lib\\site-packages\\pandas\\io\\sql.py:761: UserWarning: pandas only support SQLAlchemy connectable(engine/connection) ordatabase string URI or sqlite3 DBAPI2 connectionother DBAPI2 objects are not tested, please consider using SQLAlchemy\n",
      "  warnings.warn(\n"
     ]
    },
    {
     "data": {
      "text/html": [
       "<div>\n",
       "<style scoped>\n",
       "    .dataframe tbody tr th:only-of-type {\n",
       "        vertical-align: middle;\n",
       "    }\n",
       "\n",
       "    .dataframe tbody tr th {\n",
       "        vertical-align: top;\n",
       "    }\n",
       "\n",
       "    .dataframe thead th {\n",
       "        text-align: right;\n",
       "    }\n",
       "</style>\n",
       "<table border=\"1\" class=\"dataframe\">\n",
       "  <thead>\n",
       "    <tr style=\"text-align: right;\">\n",
       "      <th></th>\n",
       "      <th>employers</th>\n",
       "    </tr>\n",
       "  </thead>\n",
       "  <tbody>\n",
       "    <tr>\n",
       "      <th>0</th>\n",
       "      <td>2ГИС</td>\n",
       "    </tr>\n",
       "  </tbody>\n",
       "</table>\n",
       "</div>"
      ],
      "text/plain": [
       "  employers\n",
       "0      2ГИС"
      ]
     },
     "execution_count": 1487,
     "metadata": {},
     "output_type": "execute_result"
    }
   ],
   "source": [
    "df_5_5 = pd.read_sql_query(query_5_5, connection)\n",
    "df_5_5"
   ]
  },
  {
   "cell_type": "markdown",
   "id": "3bfcfdaf-755d-4d2b-8ed8-326201dc07ab",
   "metadata": {
    "id": "3bfcfdaf-755d-4d2b-8ed8-326201dc07ab"
   },
   "source": [
    "6. С помощью запроса выясните, у какого количества работодателей в качестве сферы деятельности указана Разработка программного обеспечения.\n"
   ]
  },
  {
   "cell_type": "code",
   "execution_count": 374,
   "id": "ad3f270f-2991-47eb-929b-e8f88a55b0d1",
   "metadata": {
    "id": "ad3f270f-2991-47eb-929b-e8f88a55b0d1"
   },
   "outputs": [],
   "source": [
    "query_5_6 = f''' SELECT /*выбор столбцов*/\n",
    "                COUNT(e.id) cnt_em  /* считаем количество работодателей и задаём ей алиас cnt_em*/\n",
    "                FROM public.EMPLOYERS_INDUSTRIES ei /*из таблицы public.EMPLOYERS_INDUSTRIES*/\n",
    "                JOIN public.EMPLOYERS e  on e.id = ei.employer_id /*присоединяем таблицу public.EMPLOYERS с помощью оператора JOIN*/\n",
    "                JOIN public.INDUSTRIES i on i.id = ei.industry_id /*присоединяем таблицу public.INDUSTRIES с помощью оператора JOIN*/\n",
    "                WHERE i.name= 'Разработка программного обеспечения' /*при условии, что в качестве сферы деятельности указана Разработка программного обеспечения.*/\n",
    "               \n",
    "'''"
   ]
  },
  {
   "cell_type": "code",
   "execution_count": 375,
   "id": "H72qxWM0shPR",
   "metadata": {
    "id": "H72qxWM0shPR",
    "scrolled": false
   },
   "outputs": [
    {
     "name": "stderr",
     "output_type": "stream",
     "text": [
      "c:\\Users\\User\\AppData\\Local\\Programs\\Python\\Python39\\lib\\site-packages\\pandas\\io\\sql.py:761: UserWarning: pandas only support SQLAlchemy connectable(engine/connection) ordatabase string URI or sqlite3 DBAPI2 connectionother DBAPI2 objects are not tested, please consider using SQLAlchemy\n",
      "  warnings.warn(\n"
     ]
    },
    {
     "data": {
      "text/html": [
       "<div>\n",
       "<style scoped>\n",
       "    .dataframe tbody tr th:only-of-type {\n",
       "        vertical-align: middle;\n",
       "    }\n",
       "\n",
       "    .dataframe tbody tr th {\n",
       "        vertical-align: top;\n",
       "    }\n",
       "\n",
       "    .dataframe thead th {\n",
       "        text-align: right;\n",
       "    }\n",
       "</style>\n",
       "<table border=\"1\" class=\"dataframe\">\n",
       "  <thead>\n",
       "    <tr style=\"text-align: right;\">\n",
       "      <th></th>\n",
       "      <th>count</th>\n",
       "    </tr>\n",
       "  </thead>\n",
       "  <tbody>\n",
       "    <tr>\n",
       "      <th>0</th>\n",
       "      <td>3553</td>\n",
       "    </tr>\n",
       "  </tbody>\n",
       "</table>\n",
       "</div>"
      ],
      "text/plain": [
       "   count\n",
       "0   3553"
      ]
     },
     "execution_count": 375,
     "metadata": {},
     "output_type": "execute_result"
    }
   ],
   "source": [
    "df_5_6 = pd.read_sql_query(query_5_6, connection)\n",
    "df_5_6"
   ]
  },
  {
   "cell_type": "markdown",
   "id": "7b02bb86-0546-40fb-94a4-242f050a5c57",
   "metadata": {
    "id": "7b02bb86-0546-40fb-94a4-242f050a5c57"
   },
   "source": [
    "7. Для компании «Яндекс» выведите список регионов-миллионников, в которых представлены вакансии компании, вместе с количеством вакансий в этих регионах. Также добавьте строку Total с общим количеством вакансий компании. Результат отсортируйте по возрастанию количества.\n",
    "\n",
    "Список городов-милионников надо взять [отсюда](https://ru.wikipedia.org/wiki/%D0%93%D0%BE%D1%80%D0%BE%D0%B4%D0%B0-%D0%BC%D0%B8%D0%BB%D0%BB%D0%B8%D0%BE%D0%BD%D0%B5%D1%80%D1%8B_%D0%A0%D0%BE%D1%81%D1%81%D0%B8%D0%B8). \n",
    "\n",
    "Если возникнут трудности с этим задание посмотрите материалы модуля  PYTHON-17. Как получать данные из веб-источников и API. "
   ]
  },
  {
   "cell_type": "code",
   "execution_count": 623,
   "id": "ZdfrL6gIs1Pn",
   "metadata": {
    "id": "ZdfrL6gIs1Pn",
    "scrolled": true
   },
   "outputs": [
    {
     "name": "stdout",
     "output_type": "stream",
     "text": [
      "['Москва', 'Санкт-Петербург', 'Новосибирск', 'Екатеринбург', 'Казань', 'Нижний Новгород', 'Челябинск', 'Красноярск', 'Самара', 'Уфа', 'Ростов-на-Дону', 'Омск', 'Краснодар', 'Воронеж', 'Пермь', 'Волгоград']\n"
     ]
    }
   ],
   "source": [
    "import requests # Импортируем библиотеку requests\n",
    "from bs4 import BeautifulSoup # Импортируем библиотеку BeautifulSoup\n",
    "url = 'https://ru.wikipedia.org/wiki/%D0%93%D0%BE%D1%80%D0%BE%D0%B4%D0%B0-%D0%BC%D0%B8%D0%BB%D0%BB%D0%B8%D0%BE%D0%BD%D0%B5%D1%80%D1%8B_%D0%A0%D0%BE%D1%81%D1%81%D0%B8%D0%B8' # Определяем адрес страницы\n",
    "response = requests.get(url) # Выполняем GET-запрос, содержимое ответа присваивается переменной response\n",
    "page = BeautifulSoup(response.text, 'html.parser')\n",
    "# Применяем метод find() к объекту и выводим результат на экран\n",
    "millionth_cities = page.find('table', class_='standard').find_all('a')\n",
    "#print(len(millionth_cities))\n",
    "#print(millionth_cities)\n",
    "millionth_cities = [link.text for link in millionth_cities[4:]]\n",
    "millionth_cities.remove('[a]')\n",
    "print(millionth_cities)"
   ]
  },
  {
   "cell_type": "code",
   "execution_count": 749,
   "id": "9a085df8",
   "metadata": {},
   "outputs": [],
   "source": [
    "query_5_7 = f''' SELECT DISTINCT /*выбор уникальных столбцов*/\n",
    "                a.name area, /*выбираем столбец название регионов и присвоиваем алиас area*/\n",
    "                COUNT(v.id) cnt /* считаем количество вакансий и задаём ей алиас cnt*/\n",
    "                FROM public.VACANCIES v /*из таблицы public.VACANCIES*/\n",
    "                JOIN public.areas a on a.id = v.area_id /*присоединяем таблицу public.areas с помощью оператора JOIN*/\n",
    "                JOIN public.employers e on e.id = v.employer_id /*присоединяем таблицу public.EMPLOYERS с помощью оператора JOIN*/\n",
    "                WHERE e.name = 'Яндекс' /*при условии, что выборка делается для компании «Яндекс»*/\n",
    "                GROUP by 1 /*группируем по столбцу area*/\n",
    "                ORDER by 2 desc /*сортируем по возрастанию по столбцу cnt*/\n",
    "'''"
   ]
  },
  {
   "cell_type": "code",
   "execution_count": 750,
   "id": "6bd1ca85",
   "metadata": {},
   "outputs": [
    {
     "data": {
      "text/html": [
       "<div>\n",
       "<style scoped>\n",
       "    .dataframe tbody tr th:only-of-type {\n",
       "        vertical-align: middle;\n",
       "    }\n",
       "\n",
       "    .dataframe tbody tr th {\n",
       "        vertical-align: top;\n",
       "    }\n",
       "\n",
       "    .dataframe thead th {\n",
       "        text-align: right;\n",
       "    }\n",
       "</style>\n",
       "<table border=\"1\" class=\"dataframe\">\n",
       "  <thead>\n",
       "    <tr style=\"text-align: right;\">\n",
       "      <th></th>\n",
       "      <th>area</th>\n",
       "      <th>cnt</th>\n",
       "    </tr>\n",
       "  </thead>\n",
       "  <tbody>\n",
       "    <tr>\n",
       "      <th>0</th>\n",
       "      <td>Москва</td>\n",
       "      <td>54</td>\n",
       "    </tr>\n",
       "    <tr>\n",
       "      <th>1</th>\n",
       "      <td>Санкт-Петербург</td>\n",
       "      <td>42</td>\n",
       "    </tr>\n",
       "    <tr>\n",
       "      <th>2</th>\n",
       "      <td>Екатеринбург</td>\n",
       "      <td>39</td>\n",
       "    </tr>\n",
       "    <tr>\n",
       "      <th>3</th>\n",
       "      <td>Нижний Новгород</td>\n",
       "      <td>36</td>\n",
       "    </tr>\n",
       "    <tr>\n",
       "      <th>4</th>\n",
       "      <td>Новосибирск</td>\n",
       "      <td>35</td>\n",
       "    </tr>\n",
       "    <tr>\n",
       "      <th>5</th>\n",
       "      <td>Воронеж</td>\n",
       "      <td>32</td>\n",
       "    </tr>\n",
       "    <tr>\n",
       "      <th>6</th>\n",
       "      <td>Краснодар</td>\n",
       "      <td>30</td>\n",
       "    </tr>\n",
       "    <tr>\n",
       "      <th>8</th>\n",
       "      <td>Самара</td>\n",
       "      <td>26</td>\n",
       "    </tr>\n",
       "    <tr>\n",
       "      <th>9</th>\n",
       "      <td>Уфа</td>\n",
       "      <td>26</td>\n",
       "    </tr>\n",
       "    <tr>\n",
       "      <th>10</th>\n",
       "      <td>Казань</td>\n",
       "      <td>25</td>\n",
       "    </tr>\n",
       "    <tr>\n",
       "      <th>11</th>\n",
       "      <td>Пермь</td>\n",
       "      <td>25</td>\n",
       "    </tr>\n",
       "    <tr>\n",
       "      <th>12</th>\n",
       "      <td>Ростов-на-Дону</td>\n",
       "      <td>25</td>\n",
       "    </tr>\n",
       "    <tr>\n",
       "      <th>13</th>\n",
       "      <td>Волгоград</td>\n",
       "      <td>24</td>\n",
       "    </tr>\n",
       "    <tr>\n",
       "      <th>18</th>\n",
       "      <td>Красноярск</td>\n",
       "      <td>23</td>\n",
       "    </tr>\n",
       "    <tr>\n",
       "      <th>22</th>\n",
       "      <td>Челябинск</td>\n",
       "      <td>22</td>\n",
       "    </tr>\n",
       "    <tr>\n",
       "      <th>25</th>\n",
       "      <td>Омск</td>\n",
       "      <td>21</td>\n",
       "    </tr>\n",
       "    <tr>\n",
       "      <th>16</th>\n",
       "      <td>Total</td>\n",
       "      <td>485</td>\n",
       "    </tr>\n",
       "  </tbody>\n",
       "</table>\n",
       "</div>"
      ],
      "text/plain": [
       "               area  cnt\n",
       "0            Москва   54\n",
       "1   Санкт-Петербург   42\n",
       "2      Екатеринбург   39\n",
       "3   Нижний Новгород   36\n",
       "4       Новосибирск   35\n",
       "5           Воронеж   32\n",
       "6         Краснодар   30\n",
       "8            Самара   26\n",
       "9               Уфа   26\n",
       "10           Казань   25\n",
       "11            Пермь   25\n",
       "12   Ростов-на-Дону   25\n",
       "13        Волгоград   24\n",
       "18       Красноярск   23\n",
       "22        Челябинск   22\n",
       "25             Омск   21\n",
       "16            Total  485"
      ]
     },
     "execution_count": 750,
     "metadata": {},
     "output_type": "execute_result"
    }
   ],
   "source": [
    "df_5_7 = pd.read_sql_query(query_5_7, connection)\n",
    "df_5_7['area'] = df_5_7['area'].apply(lambda x: x if x in millionth_cities else np.nan)\n",
    "df_5_7 = df_5_7.dropna(how='any', axis=0)\n",
    "grouped_data = df_5_7.copy()\n",
    "df_5_7.loc[len(df_5_7.index)] = ['Total', df_5_7['cnt'].sum()]\n",
    "df_5_7"
   ]
  },
  {
   "cell_type": "markdown",
   "id": "04966e40-3bc3-4dc8-9ba2-e80580ce3abc",
   "metadata": {
    "id": "04966e40-3bc3-4dc8-9ba2-e80580ce3abc"
   },
   "source": [
    "***"
   ]
  },
  {
   "cell_type": "code",
   "execution_count": 760,
   "id": "e07dc75c",
   "metadata": {},
   "outputs": [
    {
     "data": {
      "image/png": "[encoded data removed]",
      "text/plain": [
       "<Figure size 1080x504 with 1 Axes>"
      ]
     },
     "metadata": {
      "needs_background": "light"
     },
     "output_type": "display_data"
    }
   ],
   "source": [
    "import seaborn as sns\n",
    "\n",
    "\n",
    "fig = plt.figure(figsize=(15, 7))\n",
    "barplot = sns.barplot(\n",
    "    data=grouped_data,\n",
    "    x='area',\n",
    "    y='cnt'    \n",
    ")\n",
    "barplot.set_xticklabels(barplot.get_xticklabels(),rotation = 30)\n",
    "barplot.set_ylabel('Количество вакансий компании', fontsize=14);\n",
    "barplot.set_xlabel('Регионы-миллионники, в которых представлены вакансии компании', fontsize=14);\n",
    "barplot.set_title('Диаграмма зависимости вакансий компании «Яндекс» в регионах-миллионников', fontsize=16);"
   ]
  },
  {
   "cell_type": "markdown",
   "id": "7f6927d6",
   "metadata": {
    "id": "aGGyER-yt4SR"
   },
   "source": [
    "*Анализ работодателей показывает, что крупные компании, такие как Яндекс, Ростелеком, Тинькофф, СБЕР, Газпром нефть и т.д находятся в лидерах по количеству вакансий. Компания Яндекс представлена в 181 регионе и является лидером по данному показателю, на 2ом месте находится Ростелеком. Также следует отметить, что у большого количества работодателей не указана сфера деятельности, данный факт затрудняет анализ, и требует дополнительного изучения этих работодателей, т.к они могут являться выбросами. При этом присутствует 1136 компаний,  у которых указано 4ре сферы деятельности. Большинство этих компаний находятся в сфере IT. Диаграмма зависимости показывает, что вакансии компании «Яндекс» представлены во всех регионах-миллионниках в большом количестве и лидирует в них Москва*   "
   ]
  },
  {
   "cell_type": "markdown",
   "id": "b1ef156a-efcb-49ce-bb23-90763e7f35b2",
   "metadata": {
    "id": "b1ef156a-efcb-49ce-bb23-90763e7f35b2",
    "tags": []
   },
   "source": [
    "# Юнит 6. Предметный анализ"
   ]
  },
  {
   "cell_type": "markdown",
   "id": "b9cd50a0-992d-4988-8463-2b2b1c4629b4",
   "metadata": {
    "id": "b9cd50a0-992d-4988-8463-2b2b1c4629b4"
   },
   "source": [
    "1. Сколько вакансий имеет отношение к данным?\n",
    "\n",
    "Считаем, что вакансия имеет отношение к данным, если в её названии содержатся слова 'data' или 'данн'.\n",
    "\n",
    "*Подсказка: Обратите внимание, что названия вакансий могут быть написаны в любом регистре.* \n"
   ]
  },
  {
   "cell_type": "code",
   "execution_count": 1310,
   "id": "54ab0e50-c0f1-47cc-a54b-bc5c8bc363f9",
   "metadata": {
    "id": "54ab0e50-c0f1-47cc-a54b-bc5c8bc363f9"
   },
   "outputs": [],
   "source": [
    "query_6_1 = f''' SELECT /*выбор столбцов*/\n",
    "                COUNT(*) cnt_v_data /* считаем количество вакансий и задаём ей алиас cnt_v_data*/\n",
    "                FROM public.VACANCIES v  /*из таблицы public.VACANCIES*/\n",
    "                WHERE lower(v.name) like '%data%' or\n",
    "                lower(v.name) like '%данн%' /*при условии, что вакансия имеет отношение к данным*/\n",
    "'''"
   ]
  },
  {
   "cell_type": "code",
   "execution_count": 1311,
   "id": "9F1meAqsuUjd",
   "metadata": {
    "id": "9F1meAqsuUjd"
   },
   "outputs": [
    {
     "name": "stderr",
     "output_type": "stream",
     "text": [
      "c:\\Users\\User\\AppData\\Local\\Programs\\Python\\Python39\\lib\\site-packages\\pandas\\io\\sql.py:761: UserWarning: pandas only support SQLAlchemy connectable(engine/connection) ordatabase string URI or sqlite3 DBAPI2 connectionother DBAPI2 objects are not tested, please consider using SQLAlchemy\n",
      "  warnings.warn(\n"
     ]
    },
    {
     "data": {
      "text/html": [
       "<div>\n",
       "<style scoped>\n",
       "    .dataframe tbody tr th:only-of-type {\n",
       "        vertical-align: middle;\n",
       "    }\n",
       "\n",
       "    .dataframe tbody tr th {\n",
       "        vertical-align: top;\n",
       "    }\n",
       "\n",
       "    .dataframe thead th {\n",
       "        text-align: right;\n",
       "    }\n",
       "</style>\n",
       "<table border=\"1\" class=\"dataframe\">\n",
       "  <thead>\n",
       "    <tr style=\"text-align: right;\">\n",
       "      <th></th>\n",
       "      <th>cnt_v_data</th>\n",
       "    </tr>\n",
       "  </thead>\n",
       "  <tbody>\n",
       "    <tr>\n",
       "      <th>0</th>\n",
       "      <td>1771</td>\n",
       "    </tr>\n",
       "  </tbody>\n",
       "</table>\n",
       "</div>"
      ],
      "text/plain": [
       "   cnt_v_data\n",
       "0        1771"
      ]
     },
     "execution_count": 1311,
     "metadata": {},
     "output_type": "execute_result"
    }
   ],
   "source": [
    "df_6_1 = pd.read_sql_query(query_6_1, connection)\n",
    "df_6_1"
   ]
  },
  {
   "cell_type": "markdown",
   "id": "4dea20cb-a36b-474a-a0b9-e08e8e3857a5",
   "metadata": {
    "id": "4dea20cb-a36b-474a-a0b9-e08e8e3857a5"
   },
   "source": [
    "2. Сколько есть подходящих вакансий для начинающего дата-сайентиста? \n",
    "Будем считать вакансиями для дата-сайентистов такие, в названии которых есть хотя бы одно из следующих сочетаний:\n",
    "* 'data scientist'\n",
    "* 'data science'\n",
    "* 'исследователь данных'\n",
    "* 'ML' (здесь не нужно брать вакансии по HTML)\n",
    "* 'machine learning'\n",
    "* 'машинн%обучен%'\n",
    "\n",
    "** В следующих заданиях мы продолжим работать с вакансиями по этому условию.*\n",
    "\n",
    "Считаем вакансиями для специалистов уровня Junior следующие:\n",
    "* в названии есть слово 'junior' *или*\n",
    "* требуемый опыт — Нет опыта *или*\n",
    "* тип трудоустройства — Стажировка.\n",
    " "
   ]
  },
  {
   "cell_type": "code",
   "execution_count": 1392,
   "id": "9c61b3c0-bb66-46c9-ae1e-81d3f5752b4a",
   "metadata": {
    "id": "9c61b3c0-bb66-46c9-ae1e-81d3f5752b4a"
   },
   "outputs": [],
   "source": [
    "query_6_2 = f''' SELECT /*выбор столбцов*/\n",
    "                COUNT(*) cnt_v_junior_ds /* считаем количество вакансий и задаём ей алиас cnt_v_junior_ds*/\n",
    "                FROM public.VACANCIES v /*из таблицы public.VACANCIES*/\n",
    "                WHERE ((v.name ilike '%data scientist%' or\n",
    "                v.name ilike '%data science%' or\n",
    "                v.name ilike '%исследователь данных%' or\n",
    "                v.name ilike '%machine learning%' or\n",
    "                v.name ilike '%машинн%обучен%') or\n",
    "                (v.name like '%ML%' and \n",
    "                v.name not like '%HTML%')) and\n",
    "                (lower(v.name) like '%junior%' or\n",
    "                v.experience = 'Нет опыта' or\n",
    "                v.employment = 'Стажировка') /*при условии, что вакансии подходят для начинающего дата-сайентиста*/\n",
    "'''"
   ]
  },
  {
   "cell_type": "code",
   "execution_count": 1393,
   "id": "ZNM-LLYuu1dj",
   "metadata": {
    "id": "ZNM-LLYuu1dj",
    "scrolled": true
   },
   "outputs": [
    {
     "name": "stderr",
     "output_type": "stream",
     "text": [
      "c:\\Users\\User\\AppData\\Local\\Programs\\Python\\Python39\\lib\\site-packages\\pandas\\io\\sql.py:761: UserWarning: pandas only support SQLAlchemy connectable(engine/connection) ordatabase string URI or sqlite3 DBAPI2 connectionother DBAPI2 objects are not tested, please consider using SQLAlchemy\n",
      "  warnings.warn(\n"
     ]
    },
    {
     "data": {
      "text/html": [
       "<div>\n",
       "<style scoped>\n",
       "    .dataframe tbody tr th:only-of-type {\n",
       "        vertical-align: middle;\n",
       "    }\n",
       "\n",
       "    .dataframe tbody tr th {\n",
       "        vertical-align: top;\n",
       "    }\n",
       "\n",
       "    .dataframe thead th {\n",
       "        text-align: right;\n",
       "    }\n",
       "</style>\n",
       "<table border=\"1\" class=\"dataframe\">\n",
       "  <thead>\n",
       "    <tr style=\"text-align: right;\">\n",
       "      <th></th>\n",
       "      <th>cnt_v_junior_ds</th>\n",
       "    </tr>\n",
       "  </thead>\n",
       "  <tbody>\n",
       "    <tr>\n",
       "      <th>0</th>\n",
       "      <td>51</td>\n",
       "    </tr>\n",
       "  </tbody>\n",
       "</table>\n",
       "</div>"
      ],
      "text/plain": [
       "   cnt_v_junior_ds\n",
       "0               51"
      ]
     },
     "execution_count": 1393,
     "metadata": {},
     "output_type": "execute_result"
    }
   ],
   "source": [
    "df_6_2 = pd.read_sql_query(query_6_2, connection)\n",
    "df_6_2"
   ]
  },
  {
   "cell_type": "markdown",
   "id": "eedceb80-c5ca-480e-b27a-278dfb8b4438",
   "metadata": {
    "id": "eedceb80-c5ca-480e-b27a-278dfb8b4438"
   },
   "source": [
    "3. Сколько есть вакансий для DS, в которых в качестве ключевого навыка указан SQL или postgres?\n",
    "\n",
    "** Критерии для отнесения вакансии к DS указаны в предыдущем задании.*"
   ]
  },
  {
   "cell_type": "code",
   "execution_count": 1390,
   "id": "69621713-0cc5-4f1b-a1d7-bb144fa6148c",
   "metadata": {
    "id": "69621713-0cc5-4f1b-a1d7-bb144fa6148c"
   },
   "outputs": [],
   "source": [
    "query_6_3 = f''' SELECT /*выбор столбцов*/\n",
    "                COUNT(*) cnt_ks_SQL_postgres /* считаем количество вакансий и задаём ей алиас cnt_ks_SQL_postgres*/\n",
    "                FROM public.VACANCIES v /*из таблицы public.VACANCIES*/\n",
    "                WHERE ((v.name ilike '%data scientist%' or\n",
    "                v.name ilike '%data science%' or\n",
    "                v.name ilike '%исследователь данных%' or\n",
    "                v.name ilike '%machine learning%' or\n",
    "                v.name ilike '%машинн%обучен%') or\n",
    "                (v.name like '%ML%' and \n",
    "                v.name not like '%HTML%')) and\n",
    "                (v.key_skills ilike '%postgres%' or\n",
    "                v.key_skills ilike '%SQL%') /*при условии, что вакансии подходят для начинающего дата-сайентиста и в которых в качестве ключевого навыка указан SQL или postgres*/\n",
    "'''"
   ]
  },
  {
   "cell_type": "code",
   "execution_count": 1391,
   "id": "alA8WEAAvGdf",
   "metadata": {
    "id": "alA8WEAAvGdf",
    "scrolled": true
   },
   "outputs": [
    {
     "name": "stderr",
     "output_type": "stream",
     "text": [
      "c:\\Users\\User\\AppData\\Local\\Programs\\Python\\Python39\\lib\\site-packages\\pandas\\io\\sql.py:761: UserWarning: pandas only support SQLAlchemy connectable(engine/connection) ordatabase string URI or sqlite3 DBAPI2 connectionother DBAPI2 objects are not tested, please consider using SQLAlchemy\n",
      "  warnings.warn(\n"
     ]
    },
    {
     "data": {
      "text/html": [
       "<div>\n",
       "<style scoped>\n",
       "    .dataframe tbody tr th:only-of-type {\n",
       "        vertical-align: middle;\n",
       "    }\n",
       "\n",
       "    .dataframe tbody tr th {\n",
       "        vertical-align: top;\n",
       "    }\n",
       "\n",
       "    .dataframe thead th {\n",
       "        text-align: right;\n",
       "    }\n",
       "</style>\n",
       "<table border=\"1\" class=\"dataframe\">\n",
       "  <thead>\n",
       "    <tr style=\"text-align: right;\">\n",
       "      <th></th>\n",
       "      <th>cnt_ks_sql_postgres</th>\n",
       "    </tr>\n",
       "  </thead>\n",
       "  <tbody>\n",
       "    <tr>\n",
       "      <th>0</th>\n",
       "      <td>201</td>\n",
       "    </tr>\n",
       "  </tbody>\n",
       "</table>\n",
       "</div>"
      ],
      "text/plain": [
       "   cnt_ks_sql_postgres\n",
       "0                  201"
      ]
     },
     "execution_count": 1391,
     "metadata": {},
     "output_type": "execute_result"
    }
   ],
   "source": [
    "df_6_3 = pd.read_sql_query(query_6_3, connection)\n",
    "df_6_3"
   ]
  },
  {
   "cell_type": "markdown",
   "id": "1be1e9c6-37cf-4a5f-bfeb-04cab799dc80",
   "metadata": {
    "id": "1be1e9c6-37cf-4a5f-bfeb-04cab799dc80"
   },
   "source": [
    "4. Проверьте, насколько популярен Python в требованиях работодателей к DS.Для этого вычислите количество вакансий, в которых в качестве ключевого навыка указан Python.\n",
    "\n",
    "** Это можно сделать помощью запроса, аналогичного предыдущему.*"
   ]
  },
  {
   "cell_type": "code",
   "execution_count": 1388,
   "id": "0036a355-9ccf-4564-8b01-73d8194297e7",
   "metadata": {
    "id": "0036a355-9ccf-4564-8b01-73d8194297e7"
   },
   "outputs": [],
   "source": [
    "query_6_4 = f''' SELECT /*выбор столбцов*/\n",
    "                COUNT(v.id) cnt_ks_python /* считаем количество вакансий и задаём ей алиас cnt_ks_python*/\n",
    "                FROM public.VACANCIES v /*из таблицы public.VACANCIES*/\n",
    "                WHERE ((v.name ilike '%data scientist%' or\n",
    "                v.name ilike '%data science%' or\n",
    "                v.name ilike '%исследователь данных%' or\n",
    "                v.name ilike '%machine learning%' or\n",
    "                v.name ilike '%машинн%обучен%') or\n",
    "                (v.name like '%ML%' and \n",
    "                v.name not like '%HTML%')) and\n",
    "                lower(v.key_skills) like '%python%' /*при условии, что вакансии подходят для начинающего дата-сайентиста, в которых в качестве ключевого навыка указан Python*/\n",
    "'''"
   ]
  },
  {
   "cell_type": "code",
   "execution_count": 1389,
   "id": "1i-5WyucvQ6v",
   "metadata": {
    "id": "1i-5WyucvQ6v"
   },
   "outputs": [
    {
     "name": "stderr",
     "output_type": "stream",
     "text": [
      "c:\\Users\\User\\AppData\\Local\\Programs\\Python\\Python39\\lib\\site-packages\\pandas\\io\\sql.py:761: UserWarning: pandas only support SQLAlchemy connectable(engine/connection) ordatabase string URI or sqlite3 DBAPI2 connectionother DBAPI2 objects are not tested, please consider using SQLAlchemy\n",
      "  warnings.warn(\n"
     ]
    },
    {
     "data": {
      "text/html": [
       "<div>\n",
       "<style scoped>\n",
       "    .dataframe tbody tr th:only-of-type {\n",
       "        vertical-align: middle;\n",
       "    }\n",
       "\n",
       "    .dataframe tbody tr th {\n",
       "        vertical-align: top;\n",
       "    }\n",
       "\n",
       "    .dataframe thead th {\n",
       "        text-align: right;\n",
       "    }\n",
       "</style>\n",
       "<table border=\"1\" class=\"dataframe\">\n",
       "  <thead>\n",
       "    <tr style=\"text-align: right;\">\n",
       "      <th></th>\n",
       "      <th>cnt_ks_python</th>\n",
       "    </tr>\n",
       "  </thead>\n",
       "  <tbody>\n",
       "    <tr>\n",
       "      <th>0</th>\n",
       "      <td>351</td>\n",
       "    </tr>\n",
       "  </tbody>\n",
       "</table>\n",
       "</div>"
      ],
      "text/plain": [
       "   cnt_ks_python\n",
       "0            351"
      ]
     },
     "execution_count": 1389,
     "metadata": {},
     "output_type": "execute_result"
    }
   ],
   "source": [
    "df_6_4 = pd.read_sql_query(query_6_4, connection)\n",
    "df_6_4"
   ]
  },
  {
   "cell_type": "markdown",
   "id": "ec3c8db7-fa21-4a41-a994-1af63742a642",
   "metadata": {
    "id": "ec3c8db7-fa21-4a41-a994-1af63742a642"
   },
   "source": [
    "5. Сколько ключевых навыков в среднем указывают в вакансиях для DS?\n",
    "Ответ округлите до двух знаков после точки-разделителя."
   ]
  },
  {
   "cell_type": "code",
   "execution_count": 1386,
   "id": "949132bc-d5b6-4611-8218-0b9a504d74f4",
   "metadata": {
    "id": "949132bc-d5b6-4611-8218-0b9a504d74f4"
   },
   "outputs": [],
   "source": [
    "query_6_5 = f''' SELECT /*выбор столбцов*/\n",
    "                ROUND(AVG(length(key_skills) - length(replace(key_skills, CHR(9), ''))+1), 2) cnt_ks /* считаем среднее количество ключевых навыков и задаём ей алиас cnt_ks*/\n",
    "                FROM public.VACANCIES v /*из таблицы public.VACANCIES*/\n",
    "                WHERE ((v.name ilike '%data scientist%' or\n",
    "                v.name ilike '%data science%' or\n",
    "                v.name ilike '%исследователь данных%' or\n",
    "                v.name ilike '%machine learning%' or\n",
    "                v.name ilike '%машинн%обучен%') or\n",
    "                (v.name like '%ML%' and \n",
    "                v.name not like '%HTML%')) /*при условии, что вакансии подходят для начинающего дата-сайентиста*/\n",
    "'''"
   ]
  },
  {
   "cell_type": "code",
   "execution_count": 1387,
   "id": "e046eebb",
   "metadata": {
    "scrolled": true
   },
   "outputs": [
    {
     "name": "stderr",
     "output_type": "stream",
     "text": [
      "c:\\Users\\User\\AppData\\Local\\Programs\\Python\\Python39\\lib\\site-packages\\pandas\\io\\sql.py:761: UserWarning: pandas only support SQLAlchemy connectable(engine/connection) ordatabase string URI or sqlite3 DBAPI2 connectionother DBAPI2 objects are not tested, please consider using SQLAlchemy\n",
      "  warnings.warn(\n"
     ]
    },
    {
     "data": {
      "text/html": [
       "<div>\n",
       "<style scoped>\n",
       "    .dataframe tbody tr th:only-of-type {\n",
       "        vertical-align: middle;\n",
       "    }\n",
       "\n",
       "    .dataframe tbody tr th {\n",
       "        vertical-align: top;\n",
       "    }\n",
       "\n",
       "    .dataframe thead th {\n",
       "        text-align: right;\n",
       "    }\n",
       "</style>\n",
       "<table border=\"1\" class=\"dataframe\">\n",
       "  <thead>\n",
       "    <tr style=\"text-align: right;\">\n",
       "      <th></th>\n",
       "      <th>cnt_ks</th>\n",
       "    </tr>\n",
       "  </thead>\n",
       "  <tbody>\n",
       "    <tr>\n",
       "      <th>0</th>\n",
       "      <td>6.41</td>\n",
       "    </tr>\n",
       "  </tbody>\n",
       "</table>\n",
       "</div>"
      ],
      "text/plain": [
       "   cnt_ks\n",
       "0    6.41"
      ]
     },
     "execution_count": 1387,
     "metadata": {},
     "output_type": "execute_result"
    }
   ],
   "source": [
    "df_6_5 = pd.read_sql_query(query_6_5, connection)\n",
    "df_6_5"
   ]
  },
  {
   "cell_type": "markdown",
   "id": "1041c17a-ca8f-4543-a0ca-32778914fb00",
   "metadata": {
    "id": "1041c17a-ca8f-4543-a0ca-32778914fb00"
   },
   "source": [
    "6. Напишите запрос, позволяющий вычислить, какую зарплату для DS в **среднем** указывают для каждого типа требуемого опыта (уникальное значение из поля *experience*). \n",
    "\n",
    "При решении задачи примите во внимание следующее:\n",
    "1. Рассматриваем только вакансии, у которых заполнено хотя бы одно из двух полей с зарплатой.\n",
    "2. Если заполнены оба поля с зарплатой, то считаем зарплату по каждой вакансии как сумму двух полей, делённую на 2. Если заполнено только одно из полей, то его и считаем зарплатой по вакансии.\n",
    "3. Если в расчётах участвует null, в результате он тоже даст null (посмотрите, что возвращает запрос select 1 + null). Чтобы избежать этой ситуацию, мы воспользуемся функцией [coalesce](https://postgrespro.ru/docs/postgresql/9.5/functions-conditional#functions-coalesce-nvl-ifnull), которая заменит null на значение, которое мы передадим. Например, посмотрите, что возвращает запрос `select 1 + coalesce(null, 0)`\n",
    "\n",
    "Выясните, на какую зарплату в среднем может рассчитывать дата-сайентист с опытом работы от 3 до 6 лет. Результат округлите до целого числа. "
   ]
  },
  {
   "cell_type": "code",
   "execution_count": 1454,
   "id": "bc8acf2f",
   "metadata": {},
   "outputs": [],
   "source": [
    "query_6_6 = f''' SELECT DISTINCT /*выбор уникальных столбцов*/\n",
    "                v.experience, /*выбираем столбец experience*/\n",
    "                ROUND(AVG(coalesce((salary_from+salary_to)/2, salary_from, salary_to)),0) /* считаем среднее значение зарплаты*/\n",
    "                FROM public.VACANCIES v /*из таблицы public.VACANCIES*/\n",
    "                WHERE ((salary_from is not null or\n",
    "                salary_to is not null)) and\n",
    "                ((v.name ilike '%data scientist%' or\n",
    "                v.name ilike '%data science%' or\n",
    "                v.name ilike '%исследователь данных%' or\n",
    "                v.name ilike '%machine learning%' or\n",
    "                v.name ilike '%машинн%обучен%') or\n",
    "                (v.name like '%ML%' and \n",
    "                v.name not like '%HTML%')) /*при условии, что вакансии подходят для начинающего дата-сайентиста*/\n",
    "                GROUP by 1 /*группируем по столбцу experience*/\n",
    "'''"
   ]
  },
  {
   "cell_type": "code",
   "execution_count": 1455,
   "id": "688cd86a",
   "metadata": {
    "scrolled": false
   },
   "outputs": [
    {
     "name": "stderr",
     "output_type": "stream",
     "text": [
      "c:\\Users\\User\\AppData\\Local\\Programs\\Python\\Python39\\lib\\site-packages\\pandas\\io\\sql.py:761: UserWarning: pandas only support SQLAlchemy connectable(engine/connection) ordatabase string URI or sqlite3 DBAPI2 connectionother DBAPI2 objects are not tested, please consider using SQLAlchemy\n",
      "  warnings.warn(\n"
     ]
    },
    {
     "data": {
      "text/html": [
       "<div>\n",
       "<style scoped>\n",
       "    .dataframe tbody tr th:only-of-type {\n",
       "        vertical-align: middle;\n",
       "    }\n",
       "\n",
       "    .dataframe tbody tr th {\n",
       "        vertical-align: top;\n",
       "    }\n",
       "\n",
       "    .dataframe thead th {\n",
       "        text-align: right;\n",
       "    }\n",
       "</style>\n",
       "<table border=\"1\" class=\"dataframe\">\n",
       "  <thead>\n",
       "    <tr style=\"text-align: right;\">\n",
       "      <th></th>\n",
       "      <th>experience</th>\n",
       "      <th>round</th>\n",
       "    </tr>\n",
       "  </thead>\n",
       "  <tbody>\n",
       "    <tr>\n",
       "      <th>0</th>\n",
       "      <td>Нет опыта</td>\n",
       "      <td>74643.0</td>\n",
       "    </tr>\n",
       "    <tr>\n",
       "      <th>1</th>\n",
       "      <td>От 1 года до 3 лет</td>\n",
       "      <td>139675.0</td>\n",
       "    </tr>\n",
       "    <tr>\n",
       "      <th>2</th>\n",
       "      <td>От 3 до 6 лет</td>\n",
       "      <td>243115.0</td>\n",
       "    </tr>\n",
       "  </tbody>\n",
       "</table>\n",
       "</div>"
      ],
      "text/plain": [
       "           experience     round\n",
       "0           Нет опыта   74643.0\n",
       "1  От 1 года до 3 лет  139675.0\n",
       "2       От 3 до 6 лет  243115.0"
      ]
     },
     "execution_count": 1455,
     "metadata": {},
     "output_type": "execute_result"
    }
   ],
   "source": [
    "df_6_6 = pd.read_sql_query(query_6_6, connection)\n",
    "df_6_6"
   ]
  },
  {
   "cell_type": "markdown",
   "id": "6a7892b4-4113-4746-adce-18aa2844f18e",
   "metadata": {
    "id": "6a7892b4-4113-4746-adce-18aa2844f18e"
   },
   "source": [
    "***"
   ]
  },
  {
   "cell_type": "markdown",
   "id": "7f8f5152",
   "metadata": {
    "id": "UjLWUptVwY1o"
   },
   "source": [
    "*Предметный анализ показал, что всего из общего количества 49197 представленных вакансий, к \"данным\" относится 1771 вакансий, из них подходящих вакансий для начинающего дата-сайентиста 51. При этом обладание ключевыми навыками SQL, postgres, Python в несколько раз увеличивают спрос на профессию Data Science, а в среднем в вакансиях для DS указывают не менее 6-7 ключевых навыков. Средняя зарплата специалиста без опыта работы состовляет 74643 руб, а  с опытом работы от 3 до 6ти лет 243115 руб.*"
   ]
  },
  {
   "cell_type": "markdown",
   "id": "c0ED6fh7wiBT",
   "metadata": {
    "id": "c0ED6fh7wiBT"
   },
   "source": [
    "# Общий вывод по проекту"
   ]
  },
  {
   "cell_type": "markdown",
   "id": "1b4fe75c",
   "metadata": {},
   "source": [
    "*Анализ вакансий HeadHunter показал очень большой спрос на специалистов IT, при чем данный спрос наблюдается в различных сферах деятельности(всего представлено 294). Как примет в сфере \"Разработка программного обеспечения\" представлено всего 3553 вакансии из общего количества вакансий 49197. Таким образом большая часть предлагаемых вакансий напрямую не связано со сферой IT. Также хотелось бы отметить, что всего количества представленных вакансий, к данным относится 1771, что показывает довольно высокий спрос на данную специализацию.\n",
    "Исходя из анализа, также стоит отметить прямую зависимость предлагаемых вакансий от количества населения в городах, таким образом спрос в городах Москва и Санкт-Петербург выше чем в остальных крупных городах(см. Диаграмму зависимости количества вакансий от региона в гл.4).*\n",
    "\n",
    "*Считаю необходимым провести дополнительное иследование вакансий DS в наиболее крупных компаниях в которых спрос на специалистов IT наибольший, таких как Яндекс, Ростелеком, Тинькофф, СБЕР, Газпром нефть и др.*"
   ]
  },
  {
   "cell_type": "code",
   "execution_count": null,
   "id": "acede0cb",
   "metadata": {
    "id": "h9B3BL-wwj18"
   },
   "outputs": [],
   "source": [
    "# подведем итог исследования, обобщите выводы \n",
    "# здесь можно (это будет плюсом) провести дополнительные исследования данных, сделать прогнозы, продумать варианты продолжения исследования"
   ]
  },
  {
   "cell_type": "code",
   "execution_count": 1537,
   "id": "c46e2f76",
   "metadata": {},
   "outputs": [],
   "source": [
    "query_millionaire_city = f''' SELECT DISTINCT /*выбор уникальных столбцов*/\n",
    "                a.name area, /*выбираем столбец название регионов и присвоиваем алиас area*/\n",
    "                COUNT(v.id) cnt /* считаем количество вакансий и задаём ей алиас cnt*/\n",
    "                FROM public.VACANCIES v /*из таблицы public.VACANCIES*/\n",
    "                JOIN public.areas a on a.id = v.area_id /*присоединяем таблицу public.areas с помощью оператора JOIN*/\n",
    "                JOIN public.employers e on e.id = v.employer_id /*присоединяем таблицу public.EMPLOYERS с помощью оператора JOIN*/\n",
    "                WHERE (e.name = 'Яндекс' or e.name = 'Ростелеком' or e.name = 'Тинькофф' or e.name = 'СБЕР' or e.name = 'Газпром нефть') and\n",
    "                ((v.name ilike '%data scientist%' or\n",
    "                v.name ilike '%data science%' or\n",
    "                v.name ilike '%исследователь данных%' or\n",
    "                v.name ilike '%machine learning%' or\n",
    "                v.name ilike '%машинн%обучен%') or\n",
    "                (v.name like '%ML%' and \n",
    "                v.name not like '%HTML%')) /*при условии, что выборка делается для компании «Ростелеком» и для специалистов DS*/\n",
    "                GROUP by 1 /*группируем по столбцу area*/\n",
    "                ORDER by 2 desc /*сортируем по возрастанию по столбцу cnt*/\n",
    "'''"
   ]
  },
  {
   "cell_type": "code",
   "execution_count": 1538,
   "id": "7da4ef46",
   "metadata": {
    "collapsed": true
   },
   "outputs": [
    {
     "name": "stderr",
     "output_type": "stream",
     "text": [
      "c:\\Users\\User\\AppData\\Local\\Programs\\Python\\Python39\\lib\\site-packages\\pandas\\io\\sql.py:761: UserWarning: pandas only support SQLAlchemy connectable(engine/connection) ordatabase string URI or sqlite3 DBAPI2 connectionother DBAPI2 objects are not tested, please consider using SQLAlchemy\n",
      "  warnings.warn(\n"
     ]
    },
    {
     "data": {
      "text/html": [
       "<div>\n",
       "<style scoped>\n",
       "    .dataframe tbody tr th:only-of-type {\n",
       "        vertical-align: middle;\n",
       "    }\n",
       "\n",
       "    .dataframe tbody tr th {\n",
       "        vertical-align: top;\n",
       "    }\n",
       "\n",
       "    .dataframe thead th {\n",
       "        text-align: right;\n",
       "    }\n",
       "</style>\n",
       "<table border=\"1\" class=\"dataframe\">\n",
       "  <thead>\n",
       "    <tr style=\"text-align: right;\">\n",
       "      <th></th>\n",
       "      <th>area</th>\n",
       "      <th>cnt</th>\n",
       "    </tr>\n",
       "  </thead>\n",
       "  <tbody>\n",
       "    <tr>\n",
       "      <th>0</th>\n",
       "      <td>Москва</td>\n",
       "      <td>32</td>\n",
       "    </tr>\n",
       "    <tr>\n",
       "      <th>1</th>\n",
       "      <td>Нижний Новгород</td>\n",
       "      <td>8</td>\n",
       "    </tr>\n",
       "    <tr>\n",
       "      <th>2</th>\n",
       "      <td>Санкт-Петербург</td>\n",
       "      <td>8</td>\n",
       "    </tr>\n",
       "    <tr>\n",
       "      <th>3</th>\n",
       "      <td>Новосибирск</td>\n",
       "      <td>2</td>\n",
       "    </tr>\n",
       "    <tr>\n",
       "      <th>4</th>\n",
       "      <td>Екатеринбург</td>\n",
       "      <td>1</td>\n",
       "    </tr>\n",
       "    <tr>\n",
       "      <th>5</th>\n",
       "      <td>Казань</td>\n",
       "      <td>1</td>\n",
       "    </tr>\n",
       "    <tr>\n",
       "      <th>6</th>\n",
       "      <td>Омск</td>\n",
       "      <td>1</td>\n",
       "    </tr>\n",
       "    <tr>\n",
       "      <th>7</th>\n",
       "      <td>Total</td>\n",
       "      <td>53</td>\n",
       "    </tr>\n",
       "  </tbody>\n",
       "</table>\n",
       "</div>"
      ],
      "text/plain": [
       "              area  cnt\n",
       "0           Москва   32\n",
       "1  Нижний Новгород    8\n",
       "2  Санкт-Петербург    8\n",
       "3      Новосибирск    2\n",
       "4     Екатеринбург    1\n",
       "5           Казань    1\n",
       "6             Омск    1\n",
       "7            Total   53"
      ]
     },
     "execution_count": 1538,
     "metadata": {},
     "output_type": "execute_result"
    }
   ],
   "source": [
    "df_millionaire_city = pd.read_sql_query(query_millionaire_city, connection)\n",
    "df_millionaire_city['area'] = df_millionaire_city['area'].apply(lambda x: x if x in millionth_cities else np.nan)\n",
    "df_millionaire_city = df_millionaire_city.dropna(how='any', axis=0)\n",
    "grouped_data = df_millionaire_city.copy()\n",
    "df_millionaire_city.loc[len(df_millionaire_city.index)] = ['Total', df_millionaire_city['cnt'].sum()]\n",
    "df_millionaire_city"
   ]
  },
  {
   "cell_type": "code",
   "execution_count": 1542,
   "id": "7f03a42a",
   "metadata": {
    "collapsed": true
   },
   "outputs": [
    {
     "data": {
      "text/plain": [
       "Text(0.5, 1.0, 'Диаграмма зависимости вакансий крупных компаний в регионах-миллионников для DS')"
      ]
     },
     "execution_count": 1542,
     "metadata": {},
     "output_type": "execute_result"
    },
    {
     "data": {
      "image/png": "[encoded data removed]",
      "text/plain": [
       "<Figure size 1080x504 with 1 Axes>"
      ]
     },
     "metadata": {
      "needs_background": "light"
     },
     "output_type": "display_data"
    }
   ],
   "source": [
    "import seaborn as sns\n",
    "\n",
    "\n",
    "fig = plt.figure(figsize=(15, 7))\n",
    "barplot = sns.barplot(\n",
    "    data=grouped_data,\n",
    "    x='area',\n",
    "    y='cnt'    \n",
    ")\n",
    "barplot.set_xticklabels(barplot.get_xticklabels(),rotation = 30)\n",
    "barplot.set_ylabel('Количество вакансий крупных компаний', fontsize=14);\n",
    "barplot.set_xlabel('Регионы-миллионники, в которых представлены вакансии крупных компаний', fontsize=14);\n",
    "barplot.set_title('Диаграмма зависимости вакансий крупных компаний в регионах-миллионников для DS', fontsize=16)"
   ]
  },
  {
   "cell_type": "markdown",
   "id": "efcbe33e",
   "metadata": {},
   "source": [
    "*Дополнительное иследование показало, что наибольший спрос на специалистов DS среди городов-миллионников наблюдается в г. Москва, остальные города значительно отстают по данному показателю*\n",
    "\n",
    "*Считаю, что дополнительно в этих компаниях стоит произвести иследования  по предлагаемому графику работы, зарплатной вилки и др.*\n",
    "\n",
    "*Так же считаю, важным произвести выборку количество предлагаемых вакансий в зависимости от сферы деятельности, чтобы понять в какой сфере деятельности, наибольший спрос на специалстов IT.*"
   ]
  },
  {
   "cell_type": "code",
   "execution_count": null,
   "id": "fe957b35",
   "metadata": {},
   "outputs": [],
   "source": [
    "connection.close()"
   ]
  }
 ],
 "metadata": {
  "colab": {
   "collapsed_sections": [
    "8d62a9f3-f64e-4fe7-bdac-c4dffa16155e"
   ],
   "provenance": []
  },
  "kernelspec": {
   "display_name": "Python 3 (ipykernel)",
   "language": "python",
   "name": "python3"
  },
  "language_info": {
   "codemirror_mode": {
    "name": "ipython",
    "version": 3
   },
   "file_extension": ".py",
   "mimetype": "text/x-python",
   "name": "python",
   "nbconvert_exporter": "python",
   "pygments_lexer": "ipython3",
   "version": "3.9.10"
  }
 },
 "nbformat": 4,
 "nbformat_minor": 5
}
