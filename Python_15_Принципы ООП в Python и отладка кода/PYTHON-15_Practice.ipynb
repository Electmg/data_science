{
 "cells": [
  {
   "cell_type": "markdown",
   "id": "0e4136d2",
   "metadata": {},
   "source": [
    "**Задание 4.1**<br>\n",
    "Допишите определение класса DepartmentReport, который выводит отчёт по отделам компании. У него должны быть определены:\n",
    "- атрибут revenues — список, где мы храним значения выручки отделов;\n",
    "- метод add_revenue, который добавляет выручку одного отдела;\n",
    "- метод average_revenue, который возвращает среднюю выручку по всем отделам.\n",
    "В случае правильного описания класса код, приведённый ниже, должен выдать следующий результат:\n",
    "report = DepartmentReport()\n",
    "report.add_revenue(1_000_000)\n",
    "report.add_revenue(400_000)\n",
    "print(report.revenues)\n",
    "[1000000, 400000]\n",
    "print(report.average_revenue())\n",
    "700000.0\n"
   ]
  },
  {
   "cell_type": "code",
   "execution_count": null,
   "id": "a84973bd",
   "metadata": {},
   "outputs": [],
   "source": [
    "class DepartmentReport():\n",
    "    \n",
    "    def add_revenue(self, amount):\n",
    "        if not hasattr(self, 'revenues'):  \n",
    "            self.revenues = []  \n",
    "        # Добавим текущую сделку  \n",
    "        self.revenues.append(amount)\n",
    "        return self.revenues\n",
    "    def average_revenue(self):\n",
    "        return sum(self.revenues)/len(self.revenues)"
   ]
  },
  {
   "cell_type": "markdown",
   "id": "a5533764",
   "metadata": {},
   "source": [
    "**Задание 4.2**<br>\n",
    "Улучшите класс DepartmentReport. Класс при инициализации должен принимать переменную company_name и инициализировать её значением атрибут company, а также инициализировать атрибут revenues пустым списком. Метод average_revenue должен возвращать строку \"Average department revenue for (company_name): (average_revenue)\".\n",
    "\n",
    "В случае правильного описания класса код, приведённый ниже, должен выдать следующий результат:\n",
    "report = DepartmentReport(\"Danon\")\n",
    "report.add_revenue(1_000_000)\n",
    "report.add_revenue(400_000)\n",
    "\n",
    "print(report.average_revenue())\n",
    "#Average department revenue for Danon: 700000"
   ]
  },
  {
   "cell_type": "code",
   "execution_count": 1,
   "id": "dacf8ce6",
   "metadata": {},
   "outputs": [],
   "source": [
    "class DepartmentReport():\n",
    "    def __init__(self, company_name):\n",
    "        self.revenues = []\n",
    "        self.company = company_name\n",
    "    def add_revenue(self, amount):\n",
    "        self.revenues.append(amount)\n",
    "        return self.revenues\n",
    "    def average_revenue(self):\n",
    "        average_revenue = round(sum(self.revenues)/len(self.revenues))\n",
    "        return \"Average department revenue for {}: {}\".format(self.company, average_revenue)"
   ]
  },
  {
   "cell_type": "markdown",
   "id": "67f62b26",
   "metadata": {},
   "source": [
    "**Задание 5.1**<br>\n",
    "Определите класс для пользователей User.\n",
    "\n",
    "У него должны быть:\n",
    "\n",
    "атрибуты email, password и balance, которые устанавливаются при инициализации;\n",
    "метод login, который принимает емайл и пароль. Если они совпадают с атрибутами объекта, он возвращает True, а иначе —False;\n",
    "метод update_balance(amount), который изменяет баланс счёта на величину amount.\n",
    "В случае правильного описания класса код, приведённый ниже, должен выдать следующий результат:\n",
    "user = User(\"gosha@roskino.org\", \"qwerty\", 20_000)\n",
    "user.login(\"gosha@roskino.org\", \"qwerty123\")\n",
    " False\n",
    "user.login(\"gosha@roskino.org\", \"qwerty\")\n",
    " True\n",
    "user.update_balance(200)\n",
    "user.update_balance(-500)\n",
    "print(user.balance)\n",
    " 19700"
   ]
  },
  {
   "cell_type": "code",
   "execution_count": 38,
   "id": "0d91f497",
   "metadata": {},
   "outputs": [],
   "source": [
    "class User():\n",
    "    def __init__(self, email, password, balance=None):\n",
    "        self.email = email\n",
    "        self.password = password\n",
    "        self.balance = balance\n",
    "    \n",
    "    def login(self, email, password):\n",
    "        if email in self.email and password in self.password:\n",
    "            return True\n",
    "        else:\n",
    "            return False\n",
    "    \n",
    "    def update_balance(self, amount):\n",
    "        self.balance += amount\n",
    "        print(f\"Total balance for {self.email} is {self.balance}\")"
   ]
  },
  {
   "cell_type": "code",
   "execution_count": 39,
   "id": "5dffcfba",
   "metadata": {},
   "outputs": [],
   "source": [
    "user = User(\"gosha@roskino.org\", \"qwerty\", 20_000)"
   ]
  },
  {
   "cell_type": "code",
   "execution_count": 35,
   "id": "9541d6be",
   "metadata": {},
   "outputs": [
    {
     "data": {
      "text/plain": [
       "False"
      ]
     },
     "execution_count": 35,
     "metadata": {},
     "output_type": "execute_result"
    }
   ],
   "source": [
    "user.login(\"gosha@roskino.org\", \"qwerty123\")"
   ]
  },
  {
   "cell_type": "code",
   "execution_count": 36,
   "id": "b4a1de2a",
   "metadata": {},
   "outputs": [
    {
     "data": {
      "text/plain": [
       "True"
      ]
     },
     "execution_count": 36,
     "metadata": {},
     "output_type": "execute_result"
    }
   ],
   "source": [
    "user.login(\"gosha@roskino.org\", \"qwerty\")"
   ]
  },
  {
   "cell_type": "code",
   "execution_count": 40,
   "id": "ee6f317f",
   "metadata": {},
   "outputs": [
    {
     "name": "stdout",
     "output_type": "stream",
     "text": [
      "Total balance for gosha@roskino.org is 20200\n",
      "Total balance for gosha@roskino.org is 19700\n"
     ]
    }
   ],
   "source": [
    "user.update_balance(200)\n",
    "user.update_balance(-500)"
   ]
  },
  {
   "cell_type": "markdown",
   "id": "9888f139",
   "metadata": {},
   "source": [
    "**Задание 5.2**<br>\n",
    "Определите класс IntDataFrame, который принимает список неотрицательных чисел и приводит к целым значениям все числа в этом списке. После этого становится доступен метод count, который считает количество ненулевых элементов, и метод unique, который возвращает число уникальных элементов.\n",
    "\n",
    "В случае правильного описания класса код, приведённый ниже, должен выдать следующий результат:\n",
    "df = IntDataFrame([4.7, 4, 3, 0, 2.4, 0.3, 4])<br>\n",
    "df.count()<br>\n",
    "5<br>\n",
    "df.unique()<br>\n",
    "4"
   ]
  },
  {
   "cell_type": "code",
   "execution_count": 135,
   "id": "3d13d98e",
   "metadata": {},
   "outputs": [],
   "source": [
    "class IntDataFrame():\n",
    "    def __init__(self, column, fill_value=0):\n",
    "        self.column = column\n",
    "        self.fill_value = fill_value\n",
    "        self.to_int()\n",
    "    \n",
    "    def to_int(self):\n",
    "        self.column = [int(fill_value) for fill_value in self.column]\n",
    "        \n",
    "    def count(self):\n",
    "        j=0\n",
    "        for i, value in enumerate(self.column):\n",
    "            if value > 0:\n",
    "                j += 1\n",
    "        return j\n",
    "    \n",
    "    def unique(self):\n",
    "        ique = []\n",
    "        for i, value in enumerate(self.column):\n",
    "            if value in ique:\n",
    "                continue\n",
    "            else:\n",
    "                ique.append(value)\n",
    "        return len(ique)"
   ]
  },
  {
   "cell_type": "code",
   "execution_count": 136,
   "id": "66414cd0",
   "metadata": {},
   "outputs": [
    {
     "data": {
      "text/plain": [
       "5"
      ]
     },
     "execution_count": 136,
     "metadata": {},
     "output_type": "execute_result"
    }
   ],
   "source": [
    "df = IntDataFrame([4.7, 4, 3, 0, 2.4, 0.3, 4])\n",
    "df.count()"
   ]
  },
  {
   "cell_type": "code",
   "execution_count": 137,
   "id": "46dce77e",
   "metadata": {
    "scrolled": true
   },
   "outputs": [
    {
     "data": {
      "text/plain": [
       "4"
      ]
     },
     "execution_count": 137,
     "metadata": {},
     "output_type": "execute_result"
    }
   ],
   "source": [
    "df.unique()"
   ]
  },
  {
   "cell_type": "markdown",
   "id": "d062094d",
   "metadata": {},
   "source": [
    "**ЗАДАНИЕ 5.3**<br>\n",
    "Напишите класс сборщика технических сообщений OwnLogger.\n",
    "\n",
    "У него должен быть\n",
    "\n",
    "метод log(message, level), который записывает сообщения. Здесь сообщение message может быть любым, а level — один из \"info\", \"warning\", \"error\".\n",
    "метод show_last(level), где level может быть \"info\", \"warning\", \"error\", \"all\".\n",
    "Для \"all\" он просто возвращает последнее добавленное сообщение, а для остальных — последнее поступившее сообщение соответствующего уровня. При этом по умолчанию значение именно \"all\".\n",
    "Если подходящего сообщения нет, возвращает None.\n"
   ]
  },
  {
   "cell_type": "code",
   "execution_count": null,
   "id": "1ee710fc",
   "metadata": {},
   "outputs": [],
   "source": [
    "#В случае правильного описания класса код, приведённый ниже, должен выдать следующий результат:\n",
    "\n",
    "\n",
    "logger = OwnLogger()\n",
    "logger.log(\"System started\", \"info\")\n",
    "logger.show_last(\"error\")\n",
    "# None\n",
    "# Некоторые интерпретаторы Python могут не выводить None, тогда в этой проверке у вас будет пустая строка\n",
    "logger.log(\"Connection instable\", \"warning\")\n",
    "logger.log(\"Connection lost\", \"error\")\n",
    "\n",
    "logger.show_last()\n",
    "# Connection lost\n",
    "logger.show_last(\"info\")\n",
    "# System started"
   ]
  },
  {
   "cell_type": "code",
   "execution_count": null,
   "id": "392e6d43",
   "metadata": {},
   "outputs": [],
   "source": [
    "class OwnLogger():\n",
    "    def __init__(self):\n",
    "        self.logs = {\"info\": None, \"warning\": None, \"error\": None, \"all\":None}\n",
    "    \n",
    "    def log(self, message, level):\n",
    "        self.logs[level] = message\n",
    "        self.logs[\"all\"] = message\n",
    "        \n",
    "    def show_last(self, level=\"all\"):\n",
    "        return self.logs[level]"
   ]
  },
  {
   "cell_type": "markdown",
   "id": "c5a8a989",
   "metadata": {},
   "source": [
    "**Задание 6.3**<br>\n",
    "Определите класс Dog, у которого есть методы bark и give_paw. При этом, пусть методы принимают список из любого количества аргументов.\n",
    "\n",
    "bark возвращает строку \"Bark!\"\n",
    "give_paw возвращает строку \"Paw\""
   ]
  },
  {
   "cell_type": "code",
   "execution_count": null,
   "id": "eb6ec290",
   "metadata": {},
   "outputs": [],
   "source": [
    "class Dog():\n",
    "    def bark(self, arg):\n",
    "        self.arg = [arg]\n",
    "        return str(\"Bark!\")\n",
    "    def give_paw(self, arg):\n",
    "        self.arg = [arg]\n",
    "        return str(\"Paw\")"
   ]
  },
  {
   "cell_type": "markdown",
   "id": "6d94630e",
   "metadata": {},
   "source": [
    "**Задание 7.3**<br>\n",
    "Сделайте функцию, которая принимает от пользователя путь и выводит всю информацию о содержимом этой папки. Для реализации используйте функцию встроенного модуля os.walk(). Если путь не указан, то сравнение начинается с текущей директории."
   ]
  },
  {
   "cell_type": "code",
   "execution_count": 3,
   "id": "dab3762c",
   "metadata": {},
   "outputs": [
    {
     "name": "stdout",
     "output_type": "stream",
     "text": [
      "Текущая директория: C:\\Курс DS-3.0\\IDE\\Python_15_Принципы ООП в Python и отладка кода\n",
      "---\n",
      "Список папок ['.ipynb_checkpoints', 'archive', 'helpers']\n",
      "Список файлов ['PYTHON-15_Practice.ipynb', 'PYTHON-15_Theory.ipynb']\n",
      "---\n",
      "Все пути:\n",
      "Файл C:\\Курс DS-3.0\\IDE\\Python_15_Принципы ООП в Python и отладка кода\\PYTHON-15_Practice.ipynb\n",
      "Файл C:\\Курс DS-3.0\\IDE\\Python_15_Принципы ООП в Python и отладка кода\\PYTHON-15_Theory.ipynb\n",
      "Директория C:\\Курс DS-3.0\\IDE\\Python_15_Принципы ООП в Python и отладка кода\\.ipynb_checkpoints\n",
      "Директория C:\\Курс DS-3.0\\IDE\\Python_15_Принципы ООП в Python и отладка кода\\archive\n",
      "Директория C:\\Курс DS-3.0\\IDE\\Python_15_Принципы ООП в Python и отладка кода\\helpers\n",
      "===\n",
      "Текущая директория: C:\\Курс DS-3.0\\IDE\\Python_15_Принципы ООП в Python и отладка кода\\.ipynb_checkpoints\n",
      "---\n",
      "Папок нет\n",
      "Список файлов ['PYTHON-15_Practice-checkpoint.ipynb', 'PYTHON-15_Theory-checkpoint.ipynb']\n",
      "---\n",
      "Файл C:\\Курс DS-3.0\\IDE\\Python_15_Принципы ООП в Python и отладка кода\\.ipynb_checkpoints\\PYTHON-15_Practice-checkpoint.ipynb\n",
      "Файл C:\\Курс DS-3.0\\IDE\\Python_15_Принципы ООП в Python и отладка кода\\.ipynb_checkpoints\\PYTHON-15_Theory-checkpoint.ipynb\n",
      "===\n",
      "Текущая директория: C:\\Курс DS-3.0\\IDE\\Python_15_Принципы ООП в Python и отладка кода\\archive\n",
      "---\n",
      "Папок нет\n",
      "Список файлов ['22-12-30.pkl']\n",
      "---\n",
      "Файл C:\\Курс DS-3.0\\IDE\\Python_15_Принципы ООП в Python и отладка кода\\archive\\22-12-30.pkl\n",
      "===\n",
      "Текущая директория: C:\\Курс DS-3.0\\IDE\\Python_15_Принципы ООП в Python и отладка кода\\helpers\n",
      "---\n",
      "Папок нет\n",
      "Файлов нет\n",
      "---\n",
      "===\n"
     ]
    }
   ],
   "source": [
    "import os\n",
    "def check_path(path=None):\n",
    "    start_path = path if path is not None else os.getcwd()\n",
    "    \n",
    "    for root, dirs, files in os.walk(start_path):\n",
    "        print(\"Текущая директория:\", root)\n",
    "        print(\"---\")\n",
    "        \n",
    "        if dirs:\n",
    "            print(\"Список папок\", dirs)\n",
    "        else:\n",
    "            print(\"Папок нет\")\n",
    "        if files:\n",
    "            print(\"Список файлов\", files)\n",
    "        else:\n",
    "            print(\"Файлов нет\")\n",
    "        print(\"---\")\n",
    "        \n",
    "        if files and dirs:\n",
    "            print(\"Все пути:\")\n",
    "        for f in files:\n",
    "            print(\"Файл\", os.path.join(root, f))\n",
    "            \n",
    "        for d in dirs:\n",
    "            print(\"Директория\", os.path.join(root, d))\n",
    "        print(\"===\")\n",
    "check_path()"
   ]
  },
  {
   "cell_type": "markdown",
   "id": "f4f9145c",
   "metadata": {},
   "source": [
    "**Задание 7.4**<br>\n",
    "Создайте любой файл на операционной системе под название input.txt и построчно перепишите его в файл output.txt."
   ]
  },
  {
   "cell_type": "code",
   "execution_count": 110,
   "id": "7bd5420d",
   "metadata": {
    "scrolled": true
   },
   "outputs": [
    {
     "name": "stdout",
     "output_type": "stream",
     "text": [
      "This is Mike\n",
      "My surname is Bolotov\n",
      "\n"
     ]
    }
   ],
   "source": [
    "d = open('input.txt', 'w', encoding='utf8')\n",
    "d.write('This is Mike\\n')\n",
    "d.write('My surname is Bolotov\\n')\n",
    "d.close()\n",
    "\n",
    "d = open('input.txt', 'r', encoding='utf8')\n",
    "f = open('output.txt', 'w', encoding='utf8')\n",
    "sequence = d.readlines()\n",
    "f.writelines(sequence)\n",
    "d.close()\n",
    "f.close()\n",
    "\n",
    "#ИЛИ\n",
    "\n",
    "with open('input.txt', 'r') as d:\n",
    "    with open('output.txt', 'w') as f:\n",
    "         for line in d:\n",
    "             f.write(line)\n",
    "f = open('output.txt', 'r')\n",
    "print(f.read())\n",
    "f.close()"
   ]
  },
  {
   "cell_type": "markdown",
   "id": "e6e08331",
   "metadata": {},
   "source": [
    "**Задание 7.5**<br>\n",
    "Дан файл numbers.txt, компоненты которого являются действительными числами (файл создайте самостоятельно и заполните любыми числам, в одной строке одно число). Найдите сумму наибольшего и наименьшего из значений и запишите результат в файл output.txt."
   ]
  },
  {
   "cell_type": "code",
   "execution_count": 111,
   "id": "422bc5cd",
   "metadata": {},
   "outputs": [],
   "source": [
    "d = open('numbers.txt', 'w', encoding='utf8')\n",
    "d.write('1\\n')\n",
    "d.write('2\\n')\n",
    "d.writelines([\"3\\n\", \"4\\n\", \"5\\n\"])\n",
    "d.close()\n",
    "d = open('numbers.txt', 'r', encoding='utf8')\n",
    "\n",
    "#with open('numbers.txt', 'r') as d:\n",
    "    #with open('output_1.txt', 'w') as f:\n",
    "        #d_tmp = d.readlines()\n",
    "        #d_max = int(max(d_tmp))\n",
    "        #d_min = int(min(d_tmp))\n",
    "        #d_sum = d_max + d_min\n",
    "        #f.write(str(d_sum))\n",
    "        #f.write('\\n')\n",
    "#ИЛИ\n",
    "\n",
    "filename = 'numbers.txt'\n",
    "output = 'output_7.5.txt'\n",
    "with open(filename, 'r') as f:\n",
    "    min_ = max_ = float(f.readline())  # считали первое число\n",
    "    for line in f:\n",
    "        num =  float(line)\n",
    "        if num > max_:\n",
    "            max_ = num\n",
    "        elif num < min_:\n",
    "            min_ = num\n",
    "\n",
    "    sum_ = min_ + max_\n",
    "with open(output, 'w') as f:\n",
    "    f.write(str(sum_))\n",
    "    f.write('\\n')"
   ]
  },
  {
   "cell_type": "markdown",
   "id": "6812a7f5",
   "metadata": {},
   "source": [
    "**Задание 7.6**<br>\n",
    "В текстовый файл построчно записаны фамилии и имена учащихся класса и их оценки за контрольную. Подсчитайте количество учащихся, чья оценка меньше 3 баллов. Cодержание файла:"
   ]
  },
  {
   "cell_type": "code",
   "execution_count": 122,
   "id": "a93205f1",
   "metadata": {},
   "outputs": [
    {
     "name": "stdout",
     "output_type": "stream",
     "text": [
      "4\n"
     ]
    }
   ],
   "source": [
    "with open('marks.txt', 'w') as d:\n",
    "    sequence = ['Иванов О. 4\\n',\n",
    "                'Петров И. 3\\n',\n",
    "                'Дмитриев Н. 2\\n',\n",
    "                'Смирнова О. 4\\n',\n",
    "                'Керченских В. 5\\n',\n",
    "                'Котов Д. 2\\n',\n",
    "                'Бирюкова Н. 1\\n',\n",
    "                'Данилов П. 3\\n',\n",
    "                'Аранских В. 5\\n',\n",
    "                'Лемонов Ю. 2\\n',\n",
    "                'Олегова К. 4\\n']\n",
    "    d.writelines(sequence)\n",
    "count = 0\n",
    "for line in open('marks.txt'):\n",
    "    if int(line.split()[-1]) < 3:\n",
    "        count += 1\n",
    "print(count)\n",
    "f.close()"
   ]
  },
  {
   "cell_type": "markdown",
   "id": "aee2fb54",
   "metadata": {},
   "source": [
    "**Задание 7.7**<br>\n",
    "Выполните реверсирование строк файла (перестановку строк файла в обратном порядке)."
   ]
  },
  {
   "cell_type": "code",
   "execution_count": 130,
   "id": "41bc540e",
   "metadata": {},
   "outputs": [
    {
     "name": "stdout",
     "output_type": "stream",
     "text": [
      "['Олегова К. 4\\n', 'Лемонов Ю. 2\\n', 'Аранских В. 5\\n', 'Данилов П. 3\\n', 'Бирюкова Н. 1\\n', 'Котов Д. 2\\n', 'Керченских В. 5\\n', 'Смирнова О. 4\\n', 'Дмитриев Н. 2\\n', 'Петров И. 3\\n', 'Иванов О. 4\\n']\n"
     ]
    }
   ],
   "source": [
    "with open('marks.txt', 'r') as f:\n",
    "    with open('marks_revers.txt', 'w') as d:\n",
    "        rev_list = f.readlines()\n",
    "        rev_list.reverse()\n",
    "        print(rev_list)\n",
    "        d.writelines(rev_list)\n",
    "        \n",
    "#ИЛИ\n",
    "\n",
    "with open(\"input.txt\", \"r\") as input_file:\n",
    "    with open(\"output_7_7.txt\", \"w\") as output_file:\n",
    "        for line in reversed(input_file.readlines()):\n",
    "            output_file.write(line)"
   ]
  },
  {
   "cell_type": "markdown",
   "id": "152ae2e9",
   "metadata": {},
   "source": [
    "**Задание 8.7**<br>\n",
    "Создать скрипт, который будет в input() принимать строки, и их необходимо будет конвертировать в числа, добавить try-except на то, чтобы строки могли быть сконвертированы в числа.\n",
    "\n",
    "В случае удачного выполнения скрипта написать: «Вы ввели <введённое число>».\n",
    "\n",
    "В конце скрипта обязательно написать: «Выход из программы»."
   ]
  },
  {
   "cell_type": "code",
   "execution_count": 131,
   "id": "d84de0e2",
   "metadata": {},
   "outputs": [
    {
     "ename": "ValueError",
     "evalue": "invalid literal for int() with base 10: 'a'",
     "output_type": "error",
     "traceback": [
      "\u001b[1;31m---------------------------------------------------------------------------\u001b[0m",
      "\u001b[1;31mValueError\u001b[0m                                Traceback (most recent call last)",
      "Input \u001b[1;32mIn [131]\u001b[0m, in \u001b[0;36m<cell line: 1>\u001b[1;34m()\u001b[0m\n\u001b[1;32m----> 1\u001b[0m b \u001b[38;5;241m=\u001b[39m \u001b[38;5;28;43mint\u001b[39;49m\u001b[43m(\u001b[49m\u001b[38;5;124;43m'\u001b[39;49m\u001b[38;5;124;43ma\u001b[39;49m\u001b[38;5;124;43m'\u001b[39;49m\u001b[43m)\u001b[49m\n",
      "\u001b[1;31mValueError\u001b[0m: invalid literal for int() with base 10: 'a'"
     ]
    }
   ],
   "source": [
    "b = int('a')"
   ]
  },
  {
   "cell_type": "code",
   "execution_count": 137,
   "id": "13018169",
   "metadata": {},
   "outputs": [
    {
     "name": "stdout",
     "output_type": "stream",
     "text": [
      "a: razdvatri\n",
      "Вы ввели неправильное число\n",
      "Выход из программы\n"
     ]
    }
   ],
   "source": [
    "try:\n",
    "    a = int(input(\"a: \"))\n",
    "    print(\"Вы ввели\", a)\n",
    "except ValueError as e:\n",
    "    print(\"Вы ввели неправильное число\")\n",
    "#else:  # код в блоке else выполняется только в том случае, если код в блоке try выполнился успешно (т.е. не вылетело никакого исключения).\n",
    "    #print(\"Всё ништяк\")\n",
    "finally:  # код в блоке finally выполнится в любом случае, при выходе из try-except\n",
    "    print(\"Выход из программы\")"
   ]
  },
  {
   "cell_type": "markdown",
   "id": "d25751ee",
   "metadata": {},
   "source": [
    "!!! **Задание 9.5**<br>\n",
    "Создайте класс Square. Добавьте в конструктор класса Square собственное исключение NonPositiveDigitException, унаследованное от ValueError, которое будет срабатывать каждый раз, когда сторона квадрата меньше или равна 0."
   ]
  },
  {
   "cell_type": "code",
   "execution_count": 139,
   "id": "257b9e3e",
   "metadata": {},
   "outputs": [],
   "source": [
    "class NonPositiveDigitException(ValueError):\n",
    "    pass\n",
    "\n",
    "class Square:\n",
    "    def __init__(self, a):\n",
    "        if a <= 0:\n",
    "            raise NonPositiveDigitException(\"Неправильно указана сторона квадрата\")"
   ]
  },
  {
   "cell_type": "code",
   "execution_count": null,
   "id": "a9b077e3",
   "metadata": {},
   "outputs": [],
   "source": []
  }
 ],
 "metadata": {
  "kernelspec": {
   "display_name": "Python 3 (ipykernel)",
   "language": "python",
   "name": "python3"
  },
  "language_info": {
   "codemirror_mode": {
    "name": "ipython",
    "version": 3
   },
   "file_extension": ".py",
   "mimetype": "text/x-python",
   "name": "python",
   "nbconvert_exporter": "python",
   "pygments_lexer": "ipython3",
   "version": "3.9.10"
  }
 },
 "nbformat": 4,
 "nbformat_minor": 5
}
