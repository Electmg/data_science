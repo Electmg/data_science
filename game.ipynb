{
 "cells": [
  {
   "cell_type": "markdown",
   "metadata": {},
   "source": [
    "# Игра угадай число"
   ]
  },
  {
   "cell_type": "code",
   "execution_count": null,
   "metadata": {},
   "outputs": [
    {
     "ename": "",
     "evalue": "",
     "output_type": "error",
     "traceback": [
      "\u001b[1;31mНе удается запустить Jupyter. Ошибка при попытке найти Jupyter: Для выполнения ячеек с \"Python 3.8.10 32-bit (system)\" требуется пакет notebook.\n",
      "Выполните следующую команду, чтобы установить \"jupyter и notebook\" в среде Python. \r\n",
      "Команда: \"python -m pip install jupyter notebook -U\n",
      "or\n",
      "conda install jupyter notebook -U\"\n",
      "Нажмите <a href=\"https://aka.ms/installJupyterForVSCode\">здесь</a> для получения дополнительных сведений."
     ]
    }
   ],
   "source": [
    "from game_v2 import score_game, random_predict"
   ]
  },
  {
   "cell_type": "markdown",
   "metadata": {},
   "source": [
    "## Угадываем рэндомно"
   ]
  }
 ],
 "metadata": {
  "kernelspec": {
   "display_name": "Python 3.8.10 32-bit (system)",
   "language": "python",
   "name": "python3"
  },
  "language_info": {
   "name": "python",
   "version": "3.8.10"
  },
  "orig_nbformat": 4,
  "vscode": {
   "interpreter": {
    "hash": "cc14cb1dd8ab2ee95b73d6caf92cfcc2029f7c83a7421af7fa69db2224054c72"
   }
  }
 },
 "nbformat": 4,
 "nbformat_minor": 2
}
