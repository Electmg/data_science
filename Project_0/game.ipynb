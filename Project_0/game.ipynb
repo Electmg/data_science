{
 "cells": [
  {
   "cell_type": "markdown",
   "metadata": {},
   "source": [
    "# Игра угадай число"
   ]
  },
  {
   "cell_type": "code",
   "execution_count": null,
   "metadata": {},
   "outputs": [
    {
     "ename": "",
     "evalue": "",
     "output_type": "error",
     "traceback": [
      "\u001b[1;31mНе удается запустить Jupyter. Ошибка при попытке найти Jupyter: Для выполнения ячеек с \"Python 3.8.10 32-bit (system)\" требуется пакет notebook.\n",
      "Выполните следующую команду, чтобы установить \"jupyter и notebook\" в среде Python. \r\n",
      "Команда: \"python -m pip install jupyter notebook -U\n",
      "or\n",
      "conda install jupyter notebook -U\"\n",
      "Нажмите <a href=\"https://aka.ms/installJupyterForVSCode\">здесь</a> для получения дополнительных сведений."
     ]
    }
   ],
   "source": [
    "from game_v2 import score_game, random_predict"
   ]
  },
  {
   "cell_type": "code",
   "execution_count": 1,
   "metadata": {},
   "outputs": [
    {
     "ename": "NameError",
     "evalue": "name 'score_game' is not defined",
     "output_type": "error",
     "traceback": [
      "\u001b[1;31m---------------------------------------------------------------------------\u001b[0m",
      "\u001b[1;31mNameError\u001b[0m                                 Traceback (most recent call last)",
      "\u001b[1;32mc:\\Курс DS-3.0\\IDE\\Project_0\\game.ipynb Ячейка 3\u001b[0m in \u001b[0;36m<cell line: 1>\u001b[1;34m()\u001b[0m\n\u001b[1;32m----> <a href='vscode-notebook-cell:/c%3A/%D0%9A%D1%83%D1%80%D1%81%20DS-3.0/IDE/Project_0/game.ipynb#ch0000002?line=0'>1</a>\u001b[0m score_game(random_predict)\n",
      "\u001b[1;31mNameError\u001b[0m: name 'score_game' is not defined"
     ]
    }
   ],
   "source": [
    "score_game(random_predict)"
   ]
  },
  {
   "cell_type": "markdown",
   "metadata": {},
   "source": [
    "## Угадываем рэндомно"
   ]
  }
 ],
 "metadata": {
  "kernelspec": {
   "display_name": "Python 3.10.4 64-bit",
   "language": "python",
   "name": "python3"
  },
  "language_info": {
   "codemirror_mode": {
    "name": "ipython",
    "version": 3
   },
   "file_extension": ".py",
   "mimetype": "text/x-python",
   "name": "python",
   "nbconvert_exporter": "python",
   "pygments_lexer": "ipython3",
   "version": "3.10.4"
  },
  "orig_nbformat": 4,
  "vscode": {
   "interpreter": {
    "hash": "3137ddd92f381e756a7bcbf5c06bdef6a61f7adbb19d8855f4e5cb64e4bf6cbc"
   }
  }
 },
 "nbformat": 4,
 "nbformat_minor": 2
}
