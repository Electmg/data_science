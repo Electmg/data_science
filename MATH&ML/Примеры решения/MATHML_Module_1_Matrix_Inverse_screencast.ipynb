{
 "cells": [
  {
   "cell_type": "code",
   "execution_count": 1,
   "metadata": {},
   "outputs": [],
   "source": [
    "import numpy as np"
   ]
  },
  {
   "cell_type": "code",
   "execution_count": 2,
   "metadata": {},
   "outputs": [
    {
     "name": "stdout",
     "output_type": "stream",
     "text": [
      "A1:\n",
      " [[ 1  2  3]\n",
      " [ 4  5  6]\n",
      " [ 7  8 10]]\n"
     ]
    }
   ],
   "source": [
    "# обратная матрица - все ок\n",
    "A1=np.array([[1,2,3],[4,5,6],[7,8,10]])\n",
    "print('A1:\\n',A1)"
   ]
  },
  {
   "cell_type": "code",
   "execution_count": 3,
   "metadata": {},
   "outputs": [
    {
     "name": "stdout",
     "output_type": "stream",
     "text": [
      "rk(A3):\n",
      " 3\n"
     ]
    }
   ],
   "source": [
    "print('rk(A3):\\n',np.linalg.matrix_rank(A1))"
   ]
  },
  {
   "cell_type": "code",
   "execution_count": 4,
   "metadata": {},
   "outputs": [
    {
     "name": "stdout",
     "output_type": "stream",
     "text": [
      "A1 inversed:\n",
      " [[-0.66666667 -1.33333333  1.        ]\n",
      " [-0.66666667  3.66666667 -2.        ]\n",
      " [ 1.         -2.          1.        ]]\n"
     ]
    }
   ],
   "source": [
    "# обратная матрица - все ок\n",
    "A1_inv=np.linalg.inv(A1)\n",
    "print('A1 inversed:\\n',A1_inv)\n"
   ]
  },
  {
   "cell_type": "code",
   "execution_count": 5,
   "metadata": {},
   "outputs": [
    {
     "name": "stdout",
     "output_type": "stream",
     "text": [
      "A1 @ A1 inversed=E check:\n",
      " [[1.0000000e+00 8.8817842e-16 0.0000000e+00]\n",
      " [0.0000000e+00 1.0000000e+00 8.8817842e-16]\n",
      " [0.0000000e+00 0.0000000e+00 1.0000000e+00]] 1\n",
      "[[1. 0. 0.]\n",
      " [0. 1. 0.]\n",
      " [0. 0. 1.]]\n",
      "check OK\n"
     ]
    }
   ],
   "source": [
    "# обратная матрица - все ок\n",
    "print('A1 @ A1 inversed=E check:\\n',A1@A1_inv,1)\n",
    "print(np.round(A1@A1_inv,1))\n",
    "print('check OK')"
   ]
  },
  {
   "cell_type": "code",
   "execution_count": 6,
   "metadata": {},
   "outputs": [
    {
     "name": "stdout",
     "output_type": "stream",
     "text": [
      "A2:\n",
      " [[1 2 3]\n",
      " [4 5 6]\n",
      " [1 2 3]]\n"
     ]
    }
   ],
   "source": [
    "# обратная матрица - вырожденный случай\n",
    "A2=np.array([[1,2,3],[4,5,6],[1,2,3]])\n",
    "print('A2:\\n',A2)"
   ]
  },
  {
   "cell_type": "code",
   "execution_count": 7,
   "metadata": {},
   "outputs": [
    {
     "name": "stdout",
     "output_type": "stream",
     "text": [
      "rk(A3):\n",
      " 2\n"
     ]
    }
   ],
   "source": [
    "# обратная матрица - вырожденный случай\n",
    "print('rk(A3):\\n',np.linalg.matrix_rank(A2))"
   ]
  },
  {
   "cell_type": "code",
   "execution_count": 8,
   "metadata": {
    "collapsed": true
   },
   "outputs": [
    {
     "ename": "LinAlgError",
     "evalue": "Singular matrix",
     "output_type": "error",
     "traceback": [
      "\u001b[1;31m---------------------------------------------------------------------------\u001b[0m",
      "\u001b[1;31mLinAlgError\u001b[0m                               Traceback (most recent call last)",
      "Input \u001b[1;32mIn [8]\u001b[0m, in \u001b[0;36m<cell line: 2>\u001b[1;34m()\u001b[0m\n\u001b[0;32m      1\u001b[0m \u001b[38;5;66;03m# обратная матрица - вырожденный случай\u001b[39;00m\n\u001b[1;32m----> 2\u001b[0m \u001b[43mnp\u001b[49m\u001b[38;5;241;43m.\u001b[39;49m\u001b[43mlinalg\u001b[49m\u001b[38;5;241;43m.\u001b[39;49m\u001b[43minv\u001b[49m\u001b[43m(\u001b[49m\u001b[43mA2\u001b[49m\u001b[43m)\u001b[49m\n",
      "File \u001b[1;32m<__array_function__ internals>:200\u001b[0m, in \u001b[0;36minv\u001b[1;34m(*args, **kwargs)\u001b[0m\n",
      "File \u001b[1;32mc:\\Users\\User\\AppData\\Local\\Programs\\Python\\Python39\\lib\\site-packages\\numpy\\linalg\\linalg.py:538\u001b[0m, in \u001b[0;36minv\u001b[1;34m(a)\u001b[0m\n\u001b[0;32m    536\u001b[0m signature \u001b[38;5;241m=\u001b[39m \u001b[38;5;124m'\u001b[39m\u001b[38;5;124mD->D\u001b[39m\u001b[38;5;124m'\u001b[39m \u001b[38;5;28;01mif\u001b[39;00m isComplexType(t) \u001b[38;5;28;01melse\u001b[39;00m \u001b[38;5;124m'\u001b[39m\u001b[38;5;124md->d\u001b[39m\u001b[38;5;124m'\u001b[39m\n\u001b[0;32m    537\u001b[0m extobj \u001b[38;5;241m=\u001b[39m get_linalg_error_extobj(_raise_linalgerror_singular)\n\u001b[1;32m--> 538\u001b[0m ainv \u001b[38;5;241m=\u001b[39m \u001b[43m_umath_linalg\u001b[49m\u001b[38;5;241;43m.\u001b[39;49m\u001b[43minv\u001b[49m\u001b[43m(\u001b[49m\u001b[43ma\u001b[49m\u001b[43m,\u001b[49m\u001b[43m \u001b[49m\u001b[43msignature\u001b[49m\u001b[38;5;241;43m=\u001b[39;49m\u001b[43msignature\u001b[49m\u001b[43m,\u001b[49m\u001b[43m \u001b[49m\u001b[43mextobj\u001b[49m\u001b[38;5;241;43m=\u001b[39;49m\u001b[43mextobj\u001b[49m\u001b[43m)\u001b[49m\n\u001b[0;32m    539\u001b[0m \u001b[38;5;28;01mreturn\u001b[39;00m wrap(ainv\u001b[38;5;241m.\u001b[39mastype(result_t, copy\u001b[38;5;241m=\u001b[39m\u001b[38;5;28;01mFalse\u001b[39;00m))\n",
      "File \u001b[1;32mc:\\Users\\User\\AppData\\Local\\Programs\\Python\\Python39\\lib\\site-packages\\numpy\\linalg\\linalg.py:89\u001b[0m, in \u001b[0;36m_raise_linalgerror_singular\u001b[1;34m(err, flag)\u001b[0m\n\u001b[0;32m     88\u001b[0m \u001b[38;5;28;01mdef\u001b[39;00m \u001b[38;5;21m_raise_linalgerror_singular\u001b[39m(err, flag):\n\u001b[1;32m---> 89\u001b[0m     \u001b[38;5;28;01mraise\u001b[39;00m LinAlgError(\u001b[38;5;124m\"\u001b[39m\u001b[38;5;124mSingular matrix\u001b[39m\u001b[38;5;124m\"\u001b[39m)\n",
      "\u001b[1;31mLinAlgError\u001b[0m: Singular matrix"
     ]
    }
   ],
   "source": [
    "# обратная матрица - вырожденный случай\n",
    "np.linalg.inv(A2)"
   ]
  },
  {
   "cell_type": "code",
   "execution_count": 9,
   "metadata": {},
   "outputs": [
    {
     "name": "stdout",
     "output_type": "stream",
     "text": [
      "A3:\n",
      " [[1 2 3]\n",
      " [4 5 6]\n",
      " [7 8 9]]\n"
     ]
    }
   ],
   "source": [
    "# обратная матрица - magic\n",
    "A3=np.array([[1,2,3],[4,5,6],[7,8,9]])\n",
    "print('A3:\\n',A3)"
   ]
  },
  {
   "cell_type": "code",
   "execution_count": 10,
   "metadata": {},
   "outputs": [
    {
     "name": "stdout",
     "output_type": "stream",
     "text": [
      "rk(A3):\n",
      " 2\n"
     ]
    }
   ],
   "source": [
    "# обратная матрица - magic\n",
    "print('rk(A3):\\n',np.linalg.matrix_rank(A3))"
   ]
  },
  {
   "cell_type": "code",
   "execution_count": 11,
   "metadata": {},
   "outputs": [
    {
     "name": "stdout",
     "output_type": "stream",
     "text": [
      "A3 inversed:\n",
      " [[-4.50359963e+15  9.00719925e+15 -4.50359963e+15]\n",
      " [ 9.00719925e+15 -1.80143985e+16  9.00719925e+15]\n",
      " [-4.50359963e+15  9.00719925e+15 -4.50359963e+15]]\n"
     ]
    }
   ],
   "source": [
    "# обратная матрица - magic\n",
    "print('A3 inversed:\\n',np.linalg.inv(A3))"
   ]
  },
  {
   "cell_type": "code",
   "execution_count": 12,
   "metadata": {},
   "outputs": [
    {
     "name": "stdout",
     "output_type": "stream",
     "text": [
      "A3 @ A3 inversed = E check:\n",
      " [[ 0.  0.  0.]\n",
      " [-4.  0.  4.]\n",
      " [ 0.  0.  8.]]\n",
      "check failed\n"
     ]
    }
   ],
   "source": [
    "# обратная матрица - magic\n",
    "print('A3 @ A3 inversed = E check:\\n',A3@np.linalg.inv(A3))\n",
    "print('check failed')"
   ]
  },
  {
   "cell_type": "code",
   "execution_count": 13,
   "metadata": {},
   "outputs": [
    {
     "name": "stdout",
     "output_type": "stream",
     "text": [
      "det(A1)):\n",
      " -2.9999999999999982\n"
     ]
    }
   ],
   "source": [
    "print('det(A1)):\\n',np.linalg.det(A1))"
   ]
  },
  {
   "cell_type": "code",
   "execution_count": 14,
   "metadata": {},
   "outputs": [
    {
     "name": "stdout",
     "output_type": "stream",
     "text": [
      "det(A2)):\n",
      " 0.0\n"
     ]
    }
   ],
   "source": [
    "print('det(A2)):\\n',np.linalg.det(A2))"
   ]
  },
  {
   "cell_type": "code",
   "execution_count": 15,
   "metadata": {},
   "outputs": [
    {
     "name": "stdout",
     "output_type": "stream",
     "text": [
      "det(A3)):\n",
      " 6.66133814775094e-16\n"
     ]
    }
   ],
   "source": [
    "print('det(A3)):\\n',np.linalg.det(A3))"
   ]
  },
  {
   "cell_type": "code",
   "execution_count": 16,
   "metadata": {},
   "outputs": [
    {
     "name": "stdout",
     "output_type": "stream",
     "text": [
      "A4:\n",
      " [[1.      2.      3.     ]\n",
      " [4.      5.      6.     ]\n",
      " [1.      2.      3.00005]]\n",
      "rk(A4):\n",
      " 3\n",
      "det(A4):\n",
      " -0.00014999999999965044\n",
      "A4 inverse:\n",
      " [[-2.00016667e+04  6.66666667e-01  2.00000000e+04]\n",
      " [ 4.00013333e+04 -3.33333333e-01 -4.00000000e+04]\n",
      " [-2.00000000e+04  0.00000000e+00  2.00000000e+04]]\n"
     ]
    }
   ],
   "source": [
    "# обратная матрица - неустойчивость\n",
    "A4=np.array([[1,2,3],[4,5,6],[1,2,3.00005]])\n",
    "print('A4:\\n',A4)\n",
    "print('rk(A4):\\n',np.linalg.matrix_rank(A4))\n",
    "print('det(A4):\\n',np.linalg.det(A4))\n",
    "print('A4 inverse:\\n',np.linalg.inv(A4))"
   ]
  },
  {
   "cell_type": "code",
   "execution_count": 17,
   "metadata": {},
   "outputs": [
    {
     "name": "stdout",
     "output_type": "stream",
     "text": [
      "A5:\n",
      " [[1.         2.         3.        ]\n",
      " [4.         5.         6.        ]\n",
      " [1.         2.         3.00000005]]\n",
      "rk(A5):\n",
      " 3\n",
      "det(A5):\n",
      " -1.5000000042064706e-07\n",
      "A5 inverse:\n",
      " [[-2.00000016e+07  6.66666667e-01  1.99999999e+07]\n",
      " [ 4.00000012e+07 -3.33333333e-01 -3.99999999e+07]\n",
      " [-1.99999999e+07  0.00000000e+00  1.99999999e+07]]\n"
     ]
    }
   ],
   "source": [
    "# обратная матрица - неустойчивость вблизи нулевого определителя\n",
    "A5=np.array([[1,2,3],[4,5,6],[1,2,3.00000005]])\n",
    "print('A5:\\n',A5)\n",
    "print('rk(A5):\\n',np.linalg.matrix_rank(A5))\n",
    "print('det(A5):\\n',np.linalg.det(A5))\n",
    "print('A5 inverse:\\n',np.linalg.inv(A5))"
   ]
  },
  {
   "cell_type": "code",
   "execution_count": 18,
   "metadata": {},
   "outputs": [
    {
     "name": "stdout",
     "output_type": "stream",
     "text": [
      "A:\n",
      " [[1 1]\n",
      " [2 1]\n",
      " [1 1]]\n",
      "Матрица Грама:\n",
      " [[6 4]\n",
      " [4 3]]\n"
     ]
    }
   ],
   "source": [
    "# обратимость матрицы Грама линейно независимой системы векторов\n",
    "v1=np.array([1,2,1])\n",
    "v2=np.array([1,1,1])\n",
    "A=np.array([v1,v2]).T\n",
    "print('A:\\n',A)\n",
    "print('Матрица Грама:\\n',A.T@A)"
   ]
  },
  {
   "cell_type": "code",
   "execution_count": 19,
   "metadata": {},
   "outputs": [
    {
     "name": "stdout",
     "output_type": "stream",
     "text": [
      "Ранг матрицы Грама:\n",
      " 2\n"
     ]
    }
   ],
   "source": [
    "print('Ранг матрицы Грама:\\n',np.linalg.matrix_rank(A.T@A))"
   ]
  },
  {
   "cell_type": "code",
   "execution_count": 20,
   "metadata": {},
   "outputs": [
    {
     "name": "stdout",
     "output_type": "stream",
     "text": [
      "Определитель матрицы Грама:\n",
      " 2.0000000000000004\n"
     ]
    }
   ],
   "source": [
    "print('Определитель матрицы Грама:\\n',np.linalg.det(A.T@A))"
   ]
  },
  {
   "cell_type": "code",
   "execution_count": 21,
   "metadata": {},
   "outputs": [
    {
     "name": "stdout",
     "output_type": "stream",
     "text": [
      "Обратная к матрице Грама:\n",
      " [[ 1.5 -2. ]\n",
      " [-2.   3. ]]\n"
     ]
    }
   ],
   "source": [
    "print('Обратная к матрице Грама:\\n',np.linalg.inv(A.T@A))"
   ]
  },
  {
   "cell_type": "code",
   "execution_count": null,
   "metadata": {},
   "outputs": [],
   "source": []
  }
 ],
 "metadata": {
  "kernelspec": {
   "display_name": "Python 3 (ipykernel)",
   "language": "python",
   "name": "python3"
  },
  "language_info": {
   "codemirror_mode": {
    "name": "ipython",
    "version": 3
   },
   "file_extension": ".py",
   "mimetype": "text/x-python",
   "name": "python",
   "nbconvert_exporter": "python",
   "pygments_lexer": "ipython3",
   "version": "3.9.10"
  },
  "nteract": {
   "version": "0.26.0"
  }
 },
 "nbformat": 4,
 "nbformat_minor": 2
}
